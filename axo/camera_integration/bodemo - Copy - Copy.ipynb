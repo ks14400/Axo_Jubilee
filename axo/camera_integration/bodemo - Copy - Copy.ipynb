{
 "cells": [
  {
   "cell_type": "code",
   "execution_count": 101,
   "metadata": {},
   "outputs": [],
   "source": [
    "import numpy as np\n",
    "import time \n",
    "import matplotlib.pyplot as plt\n",
    "from sklearn.gaussian_process import GaussianProcessRegressor\n",
    "from sklearn.gaussian_process.kernels import RBF, WhiteKernel, ConstantKernel as C\n",
    "from scipy.stats import qmc, norm\n",
    "from scipy.optimize import minimize\n",
    "from typing import Iterator, List, Tuple, Union\n",
    "\n",
    "from science_jubilee.Machine import Machine\n",
    "from science_jubilee.tools.Tool import Tool\n",
    "from science_jubilee.decks.Deck import Deck\n",
    "from science_jubilee.labware.Labware import Labware, Location, Well\n",
    "from science_jubilee.tools.Pipette import Pipette\n",
    "from science_jubilee.bo.newcamera2 import Cam\n",
    "\n",
    "from skimage import color"
   ]
  },
  {
   "cell_type": "markdown",
   "metadata": {},
   "source": [
    "**Set the Deck, Labware, Camera, Pipette for manual experiment**"
   ]
  },
  {
   "cell_type": "code",
   "execution_count": 61,
   "metadata": {},
   "outputs": [
    {
     "name": "stdout",
     "output_type": "stream",
     "text": [
      "New manual offset applied to opentrons_96_tiprack_1000ul\n",
      "Manual offset saved\n",
      "New manual offset applied to corning_24_wellplate_3.4ml_flat\n",
      "Manual offset saved\n",
      "New manual offset applied to corning_6_wellplate_16.8ml_flat\n",
      "Manual offset saved\n"
     ]
    }
   ],
   "source": [
    "deck = Deck(\"lab_automation_deck\") # We are not using the deck, so operate any deck.json \n",
    "tiprack = deck.load_labware(labware_filename = 'opentrons_96_tiprack_1000ul', slot = 5)   # Load an opentrons 20uL\n",
    "tiprack.manual_offset([[265.2, 214.5],[166.3, 214.5],[166.3, 277.7]], save = True)   # Save through list of list. List of coordinates should be A1 A12 H12 subsequently. \n",
    "#tiprack.manual_offset([[269, 221.6],[170, 221.6],[170, 284.6]], save = True)\n",
    "trash = deck.load_labware('agilent_1_reservoir_290ml.json', 0)\n",
    "samples = deck.load_labware('corning_24_wellplate_3.4ml_flat', slot = 2)\n",
    "samples.manual_offset([[124.7, 120.7],[29.9, 120.7], [29.9, 176.7]], save = True)\n",
    "stocks = deck.load_labware('corning_6_wellplate_16.8ml.json', slot = 3)\n",
    "stocks.manual_offset([[255.9, 131.6], [176.9, 131.6], [176.9, 170.6]], save = True)\n",
    "#camera_well = deck.load_labware(\"cam_wellplate_96.json\", slot = 2)\n",
    "camera_well = deck.load_labware(\"updated_cam_wellplate_24.json\", slot = 2)"
   ]
  },
  {
   "cell_type": "markdown",
   "metadata": {},
   "source": [
    "## **Connect Axo.Jubilee** ##"
   ]
  },
  {
   "cell_type": "code",
   "execution_count": 62,
   "metadata": {},
   "outputs": [
    {
     "name": "stdout",
     "output_type": "stream",
     "text": [
      "Warning: disconnecting this application from the network will halt connection to Jubilee.\n"
     ]
    }
   ],
   "source": [
    "axo = Machine(address = \"192.168.1.4\")\n",
    "axo.home_all()"
   ]
  },
  {
   "cell_type": "code",
   "execution_count": 102,
   "metadata": {},
   "outputs": [],
   "source": [
    "axo.move_to(z=180)"
   ]
  },
  {
   "cell_type": "markdown",
   "metadata": {},
   "source": []
  },
  {
   "cell_type": "code",
   "execution_count": 64,
   "metadata": {},
   "outputs": [
    {
     "name": "stdout",
     "output_type": "stream",
     "text": [
      "New manual offset applied to opentrons_96_tiprack_1000ul\n",
      "New manual offset applied to corning_24_wellplate_3.4ml_flat\n",
      "New manual offset applied to corning_6_wellplate_16.8ml_flat\n"
     ]
    }
   ],
   "source": [
    "deck = axo.load_deck(\"lab_automation_deck\")\n",
    "tiprack = axo.load_labware(\"opentrons_96_tiprack_1000ul\", 5)\n",
    "tiprack.load_manualOffset()\n",
    "trash = axo.load_labware('agilent_1_reservoir_290ml.json', 1)\n",
    "#pipette = Pipette(0, \"Pipette\", brand = \"opentron\", model = \"config\", max_volume= 20, min_volume= 0, zero_position = (0,0,0),\\\n",
    "#    blowout_position=None, drop_tip_position = None, mm_to_ul = None)# model = \"config\")\n",
    "samples = axo.load_labware('corning_24_wellplate_3.4ml_flat', 2)\n",
    "samples.load_manualOffset()\n",
    "stocks = axo.load_labware('corning_6_wellplate_16.8ml.json', 3)\n",
    "stocks.load_manualOffset()\n",
    "# camera_well = axo.load_labware(\"cam_wellplate_96.json\", slot = 2)\n",
    "camera_well = axo.load_labware(\"updated_cam_wellplate_24.json\", slot = 2)"
   ]
  },
  {
   "cell_type": "code",
   "execution_count": 103,
   "metadata": {},
   "outputs": [],
   "source": [
    "# Load the camera tool, Pipette\n",
    "P20 = Pipette.from_config(0, 'Pipette', 'P300_config.json')\n",
    "#camera = Cam(1, \"Camera\", '192.168.1.2', 'Sun92023', 'axo', 'C:/science-jubilee/axo/bodata', light=True, light_pin= 0)\n",
    "camera = Cam(1, \"Camera\", '192.168.1.2', 'C:/science-jubilee/axo/bodata/3-3-2025', 50, light= True, light_pin = 0)\n",
    "axo.load_tool(camera)\n",
    "axo.load_tool(P20)\n",
    "P20.add_tiprack(tiprack)\n",
    "P20.trash = trash[0]"
   ]
  },
  {
   "cell_type": "markdown",
   "metadata": {},
   "source": [
    "## **Color Demo ( BO )** ## "
   ]
  },
  {
   "cell_type": "markdown",
   "metadata": {},
   "source": [
    "## **Functions** ##\n"
   ]
  },
  {
   "cell_type": "code",
   "execution_count": 104,
   "metadata": {},
   "outputs": [],
   "source": [
    "# Visualization of selected colors\n",
    "def visualize_color_selection(X_samples, target_color):\n",
    "    n_samples = len(X_samples)\n",
    "    colors_per_row = 10\n",
    "    n_rows = (n_samples + colors_per_row - 1) // colors_per_row\n",
    "\n",
    "    plt.figure(figsize=(12, n_rows * 1.2))\n",
    "    for idx, rgb in enumerate(X_samples):\n",
    "        row = idx // colors_per_row\n",
    "        col = idx % colors_per_row\n",
    "\n",
    "        plt.subplot(n_rows, colors_per_row, idx + 1)\n",
    "        plt.imshow([[rgb / 255.0]], extent=[0, 1, 0, 1])\n",
    "        plt.axis(\"off\")\n",
    "        plt.title(f\"Iter {idx + 1}\", fontsize=8)\n",
    "\n",
    "    plt.tight_layout()\n",
    "    plt.figure(figsize=(2, 2))\n",
    "    plt.imshow([[target_color / 255.0]], extent=[0, 1, 0, 1])\n",
    "    plt.axis(\"off\")\n",
    "    plt.title(\"Target Color\", fontsize=12)\n",
    "    plt.show()\n",
    "\n",
    "# To visualize one color and target color \n",
    "def visualize_one_color(X_sample, target_color, index):\n",
    "    plt.figure(figsize=(4, 2))\n",
    "    \n",
    "    # Plot the sample color\n",
    "    plt.subplot(1, 2, 1)\n",
    "    plt.imshow([[X_sample / 255.0]], extent=[0, 1, 0, 1])\n",
    "    plt.axis(\"off\")\n",
    "    plt.title(f\"Iter {index + 1}\", fontsize=12)\n",
    "    \n",
    "    plt.subplot(1, 2, 2)\n",
    "    plt.imshow([[target_color / 255.0]], extent=[0, 1, 0, 1])\n",
    "    plt.axis(\"off\")\n",
    "    plt.title(\"Target Color\", fontsize=12)\n",
    "    plt.tight_layout()\n",
    "    plt.show()\n",
    "    \n",
    "\n",
    "# To visualize one color and target color \n",
    "def visualize_two_color(X_sample, real_color, target_color, index):\n",
    "    plt.figure(figsize=(4, 2))\n",
    "    plt.title(f\"iter {index+1}\")\n",
    "    # Plot the sample color\n",
    "    plt.subplot(1, 3, 1)\n",
    "    plt.imshow([[X_sample / 255.0]], extent=[0, 1, 0, 1])\n",
    "    plt.axis(\"off\")\n",
    "    plt.title(f\"Proposed_RGB\", fontsize=12)\n",
    "    \n",
    "    plt.subplot(1, 3, 2)\n",
    "    plt.imshow([[real_color / 255.0]], extent=[0, 1, 0, 1])\n",
    "    plt.axis(\"off\")\n",
    "    plt.title(f\"Actual RGB\", fontsize=12)\n",
    "    \n",
    "    plt.subplot(1, 3, 3)\n",
    "    plt.imshow([[target_color / 255.0]], extent=[0, 1, 0, 1])\n",
    "    plt.axis(\"off\")\n",
    "    plt.title(\"Target Color\", fontsize=12)\n",
    "    plt.tight_layout()\n",
    "    plt.show()"
   ]
  },
  {
   "cell_type": "code",
   "execution_count": 111,
   "metadata": {},
   "outputs": [],
   "source": [
    "def latin_hypercube_sampling(n_samples, bounds):\n",
    "    \"\"\"\n",
    "    Generates sample points using Latin Hypercube Sampling (LHS).\n",
    "\n",
    "    Parameters:\n",
    "        n_samples : int\n",
    "            Number of samples to generate.\n",
    "        bounds : list or array-like of tuples\n",
    "            List of (min, max) pairs for each dimension.\n",
    "            e.g., [(0, 255), (0, 255), (0, 255)] for RGB.\n",
    "\n",
    "    Returns:\n",
    "        samples : ndarray of shape (n_samples, d)\n",
    "            The generated sample points.\n",
    "    \"\"\"\n",
    "    d = len(bounds)\n",
    "    samples = np.zeros((n_samples, d))\n",
    "\n",
    "    # For each dimension, create n_samples stratified intervals and randomly sample within each interval.\n",
    "    for i in range(d):\n",
    "        low, high = bounds[i]\n",
    "        # Create equally spaced intervals in [0,1]\n",
    "        intervals = np.linspace(0, 1, n_samples + 1)\n",
    "        # Sample one point uniformly from each interval.\n",
    "        temp = np.random.uniform(low=intervals[:-1], high=intervals[1:], size=n_samples)\n",
    "        # Shuffle the samples to ensure random pairing across dimensions.\n",
    "        np.random.shuffle(temp)\n",
    "        # Scale the samples to the bounds for dimension i.\n",
    "        samples[:, i] = low + temp * (high - low)\n",
    "\n",
    "    return samples\n",
    "\n",
    "\n",
    "# ------------------------------------------------\n",
    "# 3. Orthogonal Sampling\n",
    "# ------------------------------------------------\n",
    "def orthogonal_sampling(n_samples, bounds):\n",
    "    \"\"\"\n",
    "    Generates sample points using Orthogonal Sampling.\n",
    "\n",
    "    The idea is to divide each dimension into equal subdivisions (cells) so that the space is\n",
    "    partitioned into a grid. Then, a subset of the grid cells is chosen randomly (if necessary)\n",
    "    and one random point is sampled uniformly from each selected cell.\n",
    "\n",
    "    Parameters:\n",
    "        n_samples : int\n",
    "            Number of samples to generate.\n",
    "        bounds : list or array-like of tuples\n",
    "            List of (min, max) pairs for each dimension.\n",
    "            e.g., [(0, 255), (0, 255), (0, 255)] for RGB.\n",
    "\n",
    "    Returns:\n",
    "        samples : ndarray of shape (n_samples, d)\n",
    "            The generated sample points.\n",
    "    \"\"\"\n",
    "    d = len(bounds)\n",
    "    # Determine the number of divisions per dimension.\n",
    "    divisions = int(np.ceil(n_samples ** (1.0 / d)))\n",
    "    total_cells = divisions ** d\n",
    "\n",
    "    # Generate all possible cell indices as a grid.\n",
    "    grid_axes = [np.arange(divisions) for _ in range(d)]\n",
    "    grid = np.array(np.meshgrid(*grid_axes)).T.reshape(-1, d)\n",
    "\n",
    "    # Randomly choose n_samples unique cells.\n",
    "    if n_samples > total_cells:\n",
    "        raise ValueError(\"n_samples exceeds the total number of available cells in the grid.\")\n",
    "    chosen_cells = grid[np.random.choice(total_cells, n_samples, replace=False)]\n",
    "\n",
    "    samples = np.zeros((n_samples, d))\n",
    "    for i in range(d):\n",
    "        low, high = bounds[i]\n",
    "        cell_size = (high - low) / divisions\n",
    "        # For each chosen cell in dimension i, compute the lower bound and add a random offset.\n",
    "        cell_lower = low + chosen_cells[:, i] * cell_size\n",
    "        samples[:, i] = cell_lower + np.random.uniform(0, cell_size, n_samples)\n",
    "\n",
    "    return samples"
   ]
  },
  {
   "cell_type": "code",
   "execution_count": 112,
   "metadata": {},
   "outputs": [],
   "source": [
    "# Function to normalize RGB values\n",
    "def normalize(v, bounds):\n",
    "    lower = bounds[:,0]\n",
    "    upper = bounds[:,1]\n",
    "    #return (rgb / 255.0).astype(float)\n",
    "    return (v - lower) / (upper - lower)\n",
    "# Function to denormalize RGB values\n",
    "def denormalize(v, bounds):\n",
    "    lower = bounds[:, 0]\n",
    "    upper = bounds[:, 1]\n",
    "    #return (rgb * 255.0).astype(float)\n",
    "    return v * (upper - lower) + lower\n"
   ]
  },
  {
   "cell_type": "code",
   "execution_count": 113,
   "metadata": {},
   "outputs": [],
   "source": [
    "# Function to normalize RGB values\n",
    "def normalize_rgb(rgb):\n",
    "    return rgb / 255.0\n",
    "\n",
    "# Function to denormalize RGB values\n",
    "def denormalize_rgb(rgb):\n",
    "    return (rgb * 255.0).astype(int)"
   ]
  },
  {
   "cell_type": "code",
   "execution_count": 114,
   "metadata": {},
   "outputs": [],
   "source": [
    "def color_objective(rgb, target_rgb=(128, 128, 128)):\n",
    "    \"\"\"\n",
    "    Computes the squared Euclidean distance between a candidate RGB value and a target RGB value.\n",
    "\n",
    "    Parameters:\n",
    "        rgb : array-like\n",
    "            Candidate RGB value, e.g., [R, G, B] with each value in [0, 255].\n",
    "        target_rgb : tuple (default: (128, 128, 128))\n",
    "            The target RGB value.\n",
    "\n",
    "    Returns:\n",
    "        float : Squared Euclidean distance between rgb and target_rgb.\n",
    "    \"\"\"\n",
    "    rgb = np.array(rgb, dtype=np.float64)\n",
    "    target = np.array(target_rgb, dtype=np.float64)\n",
    "    return np.sum((rgb - target)**2)"
   ]
  },
  {
   "cell_type": "code",
   "execution_count": null,
   "metadata": {},
   "outputs": [],
   "source": [
    "def color_objective_ciedelta(rgb, target_rgb=(128, 128, 128)):\n",
    "    \"\"\"\n",
    "    Computes the CIE ΔE color difference between a candidate RGB value and a target RGB value\n",
    "    using scikit-image's color conversion and ΔE calculation functions.\n",
    "\n",
    "    Parameters:\n",
    "        rgb : array-like\n",
    "            Candidate RGB value, e.g., [R, G, B] with each value in [0, 255].\n",
    "        target_rgb : tuple, optional\n",
    "            The target RGB value (default is (128, 128, 128)).\n",
    "\n",
    "    Returns:\n",
    "        float : The CIE ΔE color difference between the candidate and target colors.\n",
    "    \"\"\"\n",
    "    def rgb_to_lab(rgb_value):\n",
    "        # Normalize to [0, 1] and reshape to (1, 1, 3) for skimage\n",
    "        #rgb_norm = np.array(rgb_value, dtype=np.float64) / 255.0\n",
    "        rgb_norm = rgb_value.reshape((1, 1, 3))\n",
    "        lab = color.rgb2lab(rgb_norm)\n",
    "        return lab[0, 0, :]\n",
    "    \n",
    "    lab1 = rgb_to_lab(rgb)\n",
    "    lab2 = rgb_to_lab(target_rgb)\n",
    "    # scikit-image's deltaE_ciede2000 expects arrays of shape (..., 3)\n",
    "    delta_e = color.deltaE_ciede2000(np.array([lab1]), np.array([lab2]))[0]\n",
    "    return delta_e"
   ]
  },
  {
   "cell_type": "markdown",
   "metadata": {},
   "source": [
    "## **Color Mixing + Optimization + Camera** ##"
   ]
  },
  {
   "cell_type": "code",
   "execution_count": 116,
   "metadata": {},
   "outputs": [],
   "source": [
    "def denormalize_volume_vector(v, max_vol):\n",
    "    \"\"\"\n",
    "    Normalizes a 1D volume vector so that its entries are nonnegative\n",
    "    and sum to 1000 µL.\n",
    "    \n",
    "    Parameters:\n",
    "        v (array-like): Raw candidate volume vector. (normalized)\n",
    "        max_vol : int\n",
    "    Returns:\n",
    "        np.ndarray: A volume vector that sums to 1000.\n",
    "    \"\"\"\n",
    "    v = np.maximum(v, 0)  # Ensure no negative volumes.\n",
    "    \n",
    "    total_row = np.sum(v, axis = -1, keepdims = True) # Sum along the last axis\n",
    "    return max_vol * v / total_row"
   ]
  },
  {
   "cell_type": "markdown",
   "metadata": {},
   "source": [
    "### **Axo-Jubilee reads the locations from Labware class Well, Location, Tuple**  ###\n",
    "### **Assign as dictionary for initial samples, additional iterations after intial samples, and maps them to samples and camera target location.** ###"
   ]
  },
  {
   "cell_type": "code",
   "execution_count": 117,
   "metadata": {},
   "outputs": [
    {
     "name": "stdout",
     "output_type": "stream",
     "text": [
      "[Well B5 form Opentrons OT-2 96 Tip Rack 1000 µL on slot 5, Well B6 form Opentrons OT-2 96 Tip Rack 1000 µL on slot 5, Well C1 form Opentrons OT-2 96 Tip Rack 1000 µL on slot 5, Well C2 form Opentrons OT-2 96 Tip Rack 1000 µL on slot 5, Well C3 form Opentrons OT-2 96 Tip Rack 1000 µL on slot 5]\n"
     ]
    }
   ],
   "source": [
    "# Assign all the labware for experimental settings \n",
    "# This is for 96 tipracks and 24 wells\n",
    "def assign_wells_and_targets(max_iterations, n_initial_samples, tiprack: Well, samples: Well, camera_well : Well, plate_rows=4, plate_cols=6):\n",
    "    \"\"\"\n",
    "    Assigns wells for initial samples, additional iterations after inital samples, \n",
    "    and maps them to samples target location and camera target location.\n",
    "    Assigned Tipracks' value contains list of list as (initial_samples, 5)\n",
    "    Args:\n",
    "        max_iterations (int): Total number of iterations for the experiment.\n",
    "        n_initial_samples (int): Number of initial samples.\n",
    "        plate_rows (int): Number of rows in the plate layout (default: 8 for a 96-well plate).\n",
    "        plate_cols (int): Number of columns in the plate layout (default: 12 for a 96-well plate).\n",
    "        samples (dict): Mapping of well names to sample locations.\n",
    "        camera_well (dict): Mapping of well names to camera locations.\n",
    "    \n",
    "    Returns:\n",
    "        dict: A dictionary containing:\n",
    "            - 'initial_wells': List of wells for initial samples.\n",
    "            - 'additional_wells': List of wells for additional iterations.\n",
    "            - 'target_wells': Combined list of all target wells.\n",
    "            - 'well_targets': List of sample locations corresponding to target wells.\n",
    "            - 'camera_targets': List of camera locations corresponding to target wells.\n",
    "    \"\"\"\n",
    "    # Generate plate layout\n",
    "    plate_layout = [f\"{chr(row)}{col}\" for row in range(ord('A'), ord('A') + plate_rows) for col in range(1, plate_cols + 1)]\n",
    "    \n",
    "    # Allocate wells for the first n_initial_samples\n",
    "    initial_wells = plate_layout[:n_initial_samples]\n",
    "    initial_tipracks_wells = plate_layout[:n_initial_samples*5]\n",
    "    \n",
    "    initial_tipracks = [\n",
    "        [tiprack[well] for well in initial_tipracks_wells[i * 5:(i + 1) * 5]] \n",
    "        for i in range(n_initial_samples)\n",
    "    ]\n",
    "    initial_wells_target = [samples[well] for well in initial_wells] \n",
    "    initial_camera_wells_target = [camera_well[well] for well in initial_wells]\n",
    "    \n",
    "    # Assign remaining wells for iterations\n",
    "    additional_tipracks_wells = plate_layout[len(initial_tipracks_wells):(len(initial_tipracks_wells) + max_iterations*4)]\n",
    "    additional_wells = plate_layout[len(initial_wells):(len(initial_wells) + max_iterations)]\n",
    "    \n",
    "    # Map to well targets and camera targets\n",
    "    additional_tipracks = [\n",
    "        [tiprack[well] for well in additional_tipracks_wells[i * 5:(i + 1) * 5]] \n",
    "        for i in range(max_iterations)\n",
    "    ]\n",
    "    well_targets = [samples[well] for well in additional_wells] if samples else []\n",
    "    camera_targets = [camera_well[well] for well in additional_wells] if camera_well else []\n",
    "    \n",
    "    return {\n",
    "        'initial_tipracks': initial_tipracks,\n",
    "        'initial_wells': initial_wells_target,\n",
    "        'initial_camera_wells': initial_camera_wells_target,\n",
    "        'additional_tipracks': additional_tipracks,\n",
    "        'well_targets': well_targets,\n",
    "        'camera_targets': camera_targets\n",
    "    }\n",
    "\n",
    "# Example\n",
    "max_iterations = 10\n",
    "n_initial_samples = 2\n",
    "sample_volume = 160\n",
    "target_rgb = np.array([10, 157, 200]) \n",
    "\n",
    "result = assign_wells_and_targets(max_iterations, n_initial_samples, tiprack= tiprack, samples = samples, camera_well = camera_well)\n",
    "\n",
    "print(result['additional_tipracks'][0])"
   ]
  },
  {
   "cell_type": "markdown",
   "metadata": {},
   "source": [
    "# **Demo-Run Color-Mixing Bayesian Optimization** #"
   ]
  },
  {
   "cell_type": "code",
   "execution_count": 119,
   "metadata": {},
   "outputs": [],
   "source": [
    "### Initialize stocks and define parameters\n",
    "max_iterations = 19 # BO iterations\n",
    "n_initial_samples = 1  # Initial samples\n",
    "sample_volume = 1000 # Volume of Samples for each wells\n",
    "#target_rgb = np.array([10, 10, 154])  # Target RGB color\n",
    "bounds = np.array([[0, 1000], [0, 1000], [0, 1000], [0, 1000], [0, 1000]])\n",
    "norm_bounds = np.array([[0, 1], [0, 1], [0, 1], [0, 1], [0, 1]])\n",
    "rgb_bounds = np.array([[0, 255], [0, 255], [0, 255]])"
   ]
  },
  {
   "cell_type": "code",
   "execution_count": 126,
   "metadata": {},
   "outputs": [
    {
     "name": "stdout",
     "output_type": "stream",
     "text": [
      "Video stream server is already running.\n"
     ]
    }
   ],
   "source": [
    "camera.start_video_stream_server()\n",
    "axo.pickup_tool(camera)"
   ]
  },
  {
   "cell_type": "code",
   "execution_count": 127,
   "metadata": {},
   "outputs": [],
   "source": [
    "target_image_data = camera.capture_image(camera_well['D6'], light= True, light_intensity= 1.0)\n",
    "target_image, target_rgb = camera.detect_and_draw_wells(target_image_data)\n",
    "target_rgb = np.array([target_rgb['R'], target_rgb['G'], target_rgb['B']]).reshape(-1)\n",
    "axo.park_tool()"
   ]
  },
  {
   "cell_type": "code",
   "execution_count": 128,
   "metadata": {},
   "outputs": [
    {
     "name": "stdout",
     "output_type": "stream",
     "text": [
      "[ 42.41061721 118.72957052  52.88049083]\n"
     ]
    }
   ],
   "source": [
    "print(target_rgb)"
   ]
  },
  {
   "cell_type": "code",
   "execution_count": 129,
   "metadata": {},
   "outputs": [
    {
     "data": {
      "text/plain": [
       "Text(0.5, 1.0, 'Target_RGB')"
      ]
     },
     "execution_count": 129,
     "metadata": {},
     "output_type": "execute_result"
    },
    {
     "data": {
      "image/png": "[encoded data removed]",
      "text/plain": [
       "<Figure size 400x200 with 1 Axes>"
      ]
     },
     "metadata": {},
     "output_type": "display_data"
    }
   ],
   "source": [
    "plt.figure(figsize=(4, 2))\n",
    "plt.subplot(1, 1, 1)\n",
    "plt.imshow([[target_rgb / 255.0]], extent=[0, 1, 0, 1])    \n",
    "plt.axis(\"off\")\n",
    "plt.title(f\"Target_RGB\", fontsize=12)"
   ]
  },
  {
   "cell_type": "code",
   "execution_count": null,
   "metadata": {},
   "outputs": [],
   "source": [
    "### Bayesian Optimization Setup\n",
    "# Define kernel explicitly\n",
    "# UPDATE  REASONING FOR KERNEL SELECTION \n",
    "kernel = RBF(length_scale=5.0) + WhiteKernel(noise_level=0.1, noise_level_bounds=(1e-6, 1e-3)) # white kernel is for adding noise\n",
    "\n",
    "# , length_scale_bounds=(1e-3, 1e3)\n",
    "# Surrogate Model\n",
    "# Initialize Gaussian Process Regressor\n",
    "gp = GaussianProcessRegressor(kernel=kernel, alpha=1e-4, n_restarts_optimizer=10, normalize_y=True)\n",
    "\n",
    "\n",
    "# Acquisition Function\n",
    "# Acquisition Function\n",
    "# Expected Improvement maximizes implicitly\n",
    "# ei[sigma == 0.0] = 0.0 VERIFY HOW EI WORKS IN THIS CODE\n",
    "def expected_improvement(X, X_sample, y_sample, model, xi = 0.1):\n",
    "    \"\"\"Return the expected improvement.\n",
    "    Arguments\n",
    "    mu     -- The predictive mean at the test points.\n",
    "    sigma -- The predictive standard deviation at\n",
    "             the test points.\n",
    "    ymax  -- The maximum observed value (so far).\n",
    "    \"\"\"\n",
    "    mu, sigma = model.predict(X, return_std=True)\n",
    "    sigma = sigma.reshape(-1, 1)\n",
    "    optimal_sample = np.min(y_sample)\n",
    "\n",
    "    with np.errstate(divide=\"ignore\"):\n",
    "        imp = optimal_sample - mu - xi\n",
    "        Z = imp / sigma\n",
    "        ei = imp * norm.cdf(Z) + sigma * norm.pdf(Z)\n",
    "        #print(f\"Expected Improvements : {ei}\")\n",
    "        ei[sigma == 0.0] = 0.0\n",
    "    return ei.flatten()\n",
    "\n",
    "def upper_confidence_bound(X, model, beta=0.1):\n",
    "    \"\"\"\n",
    "    Computes the acquisition value using the UCB criterion adapted for minimization.\n",
    "\n",
    "    For minimization, one common approach is to consider the lower confidence bound:\n",
    "         LCB(x) = mu(x) - beta * sigma(x)\n",
    "    We then define an acquisition value as the negative LCB so that we can maximize it.\n",
    "\n",
    "    Parameters:\n",
    "        X : ndarray, shape (n, d)\n",
    "            Points where UCB should be evaluated.\n",
    "        gp : GaussianProcessRegressor\n",
    "            A Gaussian Process fitted to samples.\n",
    "        beta : float\n",
    "            Controls the trade-off between exploration and exploitation.\n",
    "\n",
    "    Returns:\n",
    "        ucb : ndarray, shape (n, 1)\n",
    "            Acquisition value (to be maximized) at points X.\n",
    "    \"\"\"\n",
    "    mu, sigma = model.predict(X, return_std=True)\n",
    "    print(f\"Sampled point Uncertainty gives : {sigma}\")\n",
    "    # For minimization, lower mu - beta*sigma is better.\n",
    "    # By returning its negative, we set up a maximization problem.\n",
    "    ucb = -(mu - beta * sigma)\n",
    "    return ucb\n",
    "\n",
    "# NOTE MAKE SURE WHY ALGORITHM IS NOT RESAMPLING at each ITERATION\n",
    "# Function to propose the next sample point using Expected Improvement\n",
    "# Make sure it doesn't resample the same x each iterations\n",
    "def propose_location(acquisition, X_sample, y_sample, model, bounds, n_restarts=25, acq_kwargs = {}):\n",
    "    dim = X_sample.shape[1]\n",
    "\n",
    "    # Convert bounds to a NumPy array\n",
    "    bounds = np.array(bounds)  # FIX: Convert list of tuples to array\n",
    "    \n",
    "    def min_obj(x):\n",
    "        return -acquisition(x.reshape(-1, dim), X_sample, y_sample, gp, **acq_kwargs)\n",
    "\n",
    "    # Starting points for optimization\n",
    "    x0_list = np.random.uniform(bounds[:, 0], bounds[:, 1], size=(n_restarts, dim))\n",
    "    \n",
    "    # Use Latin Hypercube Sampling (LHS) for better spread in the search space\n",
    "    #sampler = qmc.LatinHypercube(d=dim)\n",
    "    #x0_list = qmc.scale(sampler.random(n=50), bounds[:, 0], bounds[:, 1])\n",
    "    # work in the normalized space\n",
    "    cons = ({'type': 'eq', 'fun': lambda x: np.sum(x) - 1})\n",
    "    mix_x, min_val = None, float(\"inf\")\n",
    "    for x0 in x0_list:\n",
    "        res = minimize(min_obj, x0, bounds=bounds, constraints=cons, method='SLSQP')\n",
    "        if res.fun < min_val:\n",
    "            min_val = res.fun\n",
    "            min_x = res.x\n",
    "    return min_x"
   ]
  },
  {
   "cell_type": "code",
   "execution_count": 144,
   "metadata": {},
   "outputs": [],
   "source": [
    "def color_mover(volumes, target_well: Union[Well, Tuple, Location], tip_rack: Union[Well, Tuple, Location], tip_index: int):\n",
    "    \"\"\"\n",
    "    Dispenses color components (e.g., Cyan, Magenta, Yellow, Black) into the target well using a pipette.\n",
    "    Makes One color well. \n",
    "    Args:\n",
    "        volumes (dict): Dictionary specifying the volumes of each color component to be aspirated and dispensed.\n",
    "                        Keys are color names (e.g., \"Cyan\", \"Magenta\", \"Yellow\", \"Black\"), and values are volumes (float).\n",
    "        target_well (Union[Well, Tuple, Location]): The well where the mixed components will be dispensed.\n",
    "\n",
    "    Returns:\n",
    "        The function performs physical operations with no return value.\n",
    "    \"\"\"\n",
    "    \n",
    "    axo.pickup_tool(P20)\n",
    "    \n",
    "    color_keys = [\"Cyan\", \"Magenta\", \"Yellow\", \"Black\", \"White\"]\n",
    "    volumes = {color : vol for color, vol in zip(color_keys, volumes)}\n",
    "    \n",
    "    stock_positions = {\"Cyan\": \"A1\", \"Magenta\": \"A2\", \"Yellow\": \"A3\", \"Black\": \"B1\", \"White\": \"B2\"}\n",
    "        \n",
    "    print(f\"Asipirating {volumes}\")\n",
    "    # Define stock positions for Red, Green, Blue\n",
    "    for color, volume in volumes.items():\n",
    "        \n",
    "        if color == \"Cyan\":\n",
    "            stock_position = stock_positions[\"Cyan\"]\n",
    "        elif color == \"Magenta\":\n",
    "            stock_position = stock_positions[\"Magenta\"]\n",
    "        elif color == \"Yellow\":\n",
    "            stock_position = stock_positions[\"Yellow\"]\n",
    "        elif color == \"Black\":\n",
    "            stock_position = stock_positions[\"Black\"]\n",
    "        else:\n",
    "            stock_position = stock_positions[\"White\"]\n",
    "        \n",
    "        #if volume > 0:\n",
    "        #    P20.pickup_tip(tip_rack[idx])\n",
    "        #else:\n",
    "        #    continue\n",
    "        if volume < 30:\n",
    "            continue  # Skip aspiration but remember the last used tip\n",
    "        \n",
    "        if tip_index >= len(tip_rack.wells):\n",
    "            raise IndexError(\"No more available tips in the tip rack\")\n",
    "        tip_location = tip_rack[tip_index]\n",
    "        P20.pickup_tip(tip_location)\n",
    "        tip_index += 1 # Move to the next tip for the next color\n",
    "        \n",
    "        print(f\"Picked up new tip: {tip_location}\")\n",
    "        # If transfer doesn't work well, change to the previous one  \n",
    "        # Verified it didn't work, moving back and forth to stocks and samples is not working  \n",
    "        #P20.transfer(volume, stock_position, target_well.top(-4), blowout = True, new_tip = 'once', mix_after = )\n",
    "        #seperated_value = amount_to_aspirate(volume)\n",
    "        #print(f\"Dispensing {color} with {seperated_value}uL\")\n",
    "        \n",
    "        #for value in seperated_value:\n",
    "            # We use the same stock colors at each iterations\n",
    "            # Add aspiration function from the stock location\n",
    "        P20.aspirate(vol = volume, location = stocks[stock_position], s = 4000)\n",
    "            # Add dispensing function to the well plate \n",
    "        P20.dispense(vol = volume, location = target_well, s = 4000)\n",
    "            \n",
    "        time.sleep(2)\n",
    "        #P20.mix(vol = 100, n=2)\n",
    "            \n",
    "        #P20.blowout(s = 3000) # Blowout keeps dropping the tips\n",
    "        # Assign trash locations inside the class attribute (Later)    # HardCoded\n",
    "        P20.drop_tip(trash[0])\n",
    "\n",
    "    axo.park_tool()\n",
    "\n",
    "    return tip_index\n",
    "\n",
    "def process_camera(camera_well: Union[Well, Tuple, Location]) -> Tuple[np.ndarray, np.ndarray]:\n",
    "    \"\"\"\n",
    "    Captures an image from a specified well using the camera and extracts RGB values.\n",
    "\n",
    "    Args:\n",
    "        camera_well (Union[Well, Tuple, Location]): The well location to capture the image and extract RGB data.\n",
    "\n",
    "    Returns:\n",
    "        Tuple[np.ndarray, list]:\n",
    "            - image (np.ndarray): The captured image as a NumPy array.\n",
    "            - extract_rgb (list): List of dictionaries containing RGB values, e.g., [{\"R\": 120, \"G\": 200, \"B\": 150}].\n",
    "    \"\"\"\n",
    "   \n",
    "    axo.pickup_tool(camera)\n",
    "\n",
    "    # Capture the image of the well\n",
    "    image = camera.capture_image(camera_well, light=True, light_intensity = 1.0)\n",
    "    \n",
    "    # capture image again for stabilizing image\n",
    "    #for _ in range(2):\n",
    "    #    image = camera.take_picture()\n",
    "        \n",
    "    masked_image, extract_rgb = camera.detect_and_draw_wells(image)\n",
    "    # extract_rgb is already denormalized\n",
    "    \n",
    "    axo.park_tool()\n",
    "\n",
    "    return masked_image, extract_rgb\n",
    "\n",
    "# color_mover + process_camera\n",
    "# Attach Pipette and move to the stock and make samples according to the decision\n",
    "def color_maker(volumes: np.ndarray, \n",
    "                sample_volume: float, \n",
    "                target_well: Union[Well, Tuple, Location], \n",
    "                camera_target_well: Union[Well, Tuple, Location], \n",
    "                tip_rack: List[Union[Well, Tuple, Location]],\n",
    "                tip_index : int\n",
    "                ) -> Tuple[np.ndarray, np.ndarray]:\n",
    "    \"\"\"\n",
    "    Mixes colors based on the given RGB values, dispenses into the target well, and captures an image to analyze the resulting RGB.\n",
    "    The Function performs color_mover and process_camera functionality.\n",
    "\n",
    "    Args:\n",
    "        rgb (np.ndarray): RGB values to mix. Shape: (3,). Normalized RGB\n",
    "        sample_volume (float): Total volume of the sample to be dispensed into the target well.\n",
    "        target_well (Union[Well, Tuple, Location]): The well where the mixed color sample will be dispensed.\n",
    "        camera_target_well (Union[Well, Tuple, Location]): The well location to capture and process RGB data using the camera.\n",
    "\n",
    "    Returns:\n",
    "        Tuple[np.ndarray, np.ndarray]:\n",
    "            - image (np.ndarray): Captured image of the well after color mixing.\n",
    "            - rgb_array (np.ndarray): Extracted and normalized RGB values from the image. Shape: (n_samples, 3).\n",
    "    \"\"\"\n",
    "    \n",
    "    \n",
    "    \n",
    "    # volumes = calculate_volumes_cmyk(rgb, sample_volume)\n",
    "    \n",
    "    # Mix colors using the pipette       \n",
    "    tip_index = color_mover(volumes, target_well, tip_rack, tip_index)\n",
    "    \n",
    "    # Capture circled masked image of resulting color in the well and extract rgb \n",
    "    masked_image, rgb_results = process_camera(camera_target_well)\n",
    "\n",
    "    # Extract RGB values into a NumPy array\n",
    "    rgb_array = np.array([rgb_results['R'], rgb_results['G'], rgb_results['B']]).reshape(-1)\n",
    "    \n",
    "    return masked_image, rgb_array, tip_index\n",
    "\n",
    "def decision_maker(target_rgb,\n",
    "                   surrogate_model, \n",
    "                   acquisition_function,\n",
    "                   sample_volume, \n",
    "                   X_sample, \n",
    "                   y_sample,\n",
    "                   rgb_sample,\n",
    "                   target_wells: List[Union[Well, Location, Tuple]],\n",
    "                   camera_target_wells: List[Union[Well, Location, Tuple]],\n",
    "                   tip_rack: Union[Well, Location, Tuple],\n",
    "                   initial_tip_index : int, # Start from last used tip after initial samples\n",
    "                   bounds = np.array([[0, 1000], [0, 1000], [0, 1000], [0, 1000], [0, 1000],]),\n",
    "                   norm_bounds = np.array([[0, 1], [0, 1], [0, 1], [0, 1], [0, 1]]), \n",
    "                   max_iterations = 10) -> Tuple[np.ndarray, np.ndarray]:\n",
    "    \"\"\"\n",
    "    Perform multiple iterations of Bayesian Optimization, sampling different wells for each iteration.\n",
    "    Args:\n",
    "        target_rgb: Target RGB value to optimize towards. Target RGB should be normalized\n",
    "        surrogate_model: Model called from the sklearn package (Gaussian Process Regressor)\n",
    "        acquisition_function: The acquisition function to use for Bayesian Optimization.\n",
    "        sample_volume: The sample volume for color mixing.\n",
    "        X_sample: The current set of sample points.\n",
    "        y_sample: The current set of objective values for the samples.\n",
    "        target_wells: A list of target wells for each iteration.\n",
    "        bounds: Bounds for the optimization space.\n",
    "        max_iterations: Maximum number of iterations to perform.\n",
    "    Returns:\n",
    "        Updated X_sample and y_sample with all iterations completed.\n",
    "    \"\"\"\n",
    "    \n",
    "    # assert len(target_wells) >= max_iterations, \"Insufficient target wells for the given number of iterations.\"\n",
    "    \n",
    "    tip_index = initial_tip_index\n",
    "    \n",
    "    initial = len(X_sample)\n",
    "    # Run optimization loop for all iterations\n",
    "    for iteration in range(max_iterations):\n",
    "        # Propose the next location to sample\n",
    "        \n",
    "        if acquisition_function == 'ucb':\n",
    "            # Upper confience bound\n",
    "            x_next_norm = propose_location(\n",
    "            lambda X, X_sample, Y_sample, gp, **kwargs: upper_confidence_bound(X, gp, **kwargs),\n",
    "            X_sample,\n",
    "            y_sample,\n",
    "            gp,\n",
    "            norm_bounds,\n",
    "            n_restarts=10,\n",
    "            acq_kwargs={'beta': 0.1}  # Adjust beta to control exploration (lower means less exploration)\n",
    "            )\n",
    "        \n",
    "        elif acquisition_function == 'ei':\n",
    "        ## Expected improvement\n",
    "            x_next_norm = propose_location(\n",
    "            lambda X, X_sample, Y_sample, gp, **kwargs: expected_improvement(X, X_sample, Y_sample, gp, **kwargs),\n",
    "            X_sample,\n",
    "            y_sample,\n",
    "            gp,\n",
    "            norm_bounds,\n",
    "            n_restarts=10,\n",
    "            acq_kwargs={'xi': 0.1}  # Adjust beta to control exploration (lower means less exploration)\n",
    "            )\n",
    "        #next_sample = propose_location(acquisition_function, X_sample, y_sample, bounds)\n",
    "    \n",
    "        # Denormalize next_sample to evaluate \n",
    "        \n",
    "        \n",
    "        #next_sample_denorm = denormalize_rgb(x_next_norm, bounds)\n",
    "        # Normalize the candidate so that its 4 volumes sum to 1000 µL.\n",
    "        volumes = denormalize_volume_vector(x_next_norm, sample_volume)\n",
    "        # Visualization for which color is sampled from acquuisition function\n",
    "        # Get the target well for this iteration\n",
    "        current_target_well = target_wells[iteration]\n",
    "        current_camera_well = camera_target_wells[iteration]\n",
    "        # current_tipracks = tip_rack[iteration]\n",
    "        \n",
    "        # Make colors and extract actual RGB values\n",
    "        image, rgb_val, tip_index = color_maker(\n",
    "            volumes=volumes, \n",
    "            sample_volume=sample_volume, \n",
    "            target_well=current_target_well,\n",
    "            camera_target_well=current_camera_well,\n",
    "            tip_rack= tip_rack,\n",
    "            tip_index=tip_index\n",
    "        )\n",
    "        \n",
    "        print(f\"Actual RGB value : {rgb_val}\")\n",
    "        \n",
    "        visualize_one_color(rgb_val, target_rgb, initial + iteration)\n",
    "        # Normalize Acutal RGB Values\n",
    "        rgb_val_normalized = normalize_rgb(rgb_val)\n",
    "        \n",
    "        # Evaluate the objective function (Simulation)\n",
    "        y_next_norm = color_objective_ciedelta(rgb_val_normalized, normalize_rgb(target_rgb))\n",
    "        \n",
    "        # Append the new sample and its objective value\n",
    "        rgb_sample = np.vstack((rgb_sample, rgb_val))\n",
    "        X_sample = np.vstack((X_sample, x_next_norm))\n",
    "        y_sample = np.append(y_sample, y_next_norm)\n",
    "    \n",
    "        # Update the Gaussian Process model after all iterations\n",
    "        surrogate_model.fit(X_sample, y_sample)\n",
    "    \n",
    "    return X_sample, y_sample, rgb_sample, tip_index"
   ]
  },
  {
   "cell_type": "code",
   "execution_count": 132,
   "metadata": {},
   "outputs": [],
   "source": [
    "# Initialize initial samples and distances with normalized values\n",
    "# Normalize target color\n",
    "normalized_target_rgb = normalize_rgb(target_rgb)\n",
    "X_init_norm = orthogonal_sampling(n_initial_samples, norm_bounds)\n",
    "# Evaluate the objective at initial points \n",
    "Y_init_norm = np.zeros(n_initial_samples)\n",
    "rgb_samples = np.empty((0,3))\n",
    "# Combine initial and additional wells\n",
    "all_wells = assign_wells_and_targets(max_iterations, n_initial_samples, samples = samples, camera_well = camera_well, tiprack= tiprack)\n",
    "\n",
    "# visualize_color_selection(denormalize_rgb(X_init_norm, bounds), target_rgb)"
   ]
  },
  {
   "cell_type": "code",
   "execution_count": 97,
   "metadata": {},
   "outputs": [
    {
     "name": "stdout",
     "output_type": "stream",
     "text": [
      "[]\n"
     ]
    }
   ],
   "source": [
    "print(rgb_samples)"
   ]
  },
  {
   "cell_type": "code",
   "execution_count": 133,
   "metadata": {},
   "outputs": [
    {
     "name": "stdout",
     "output_type": "stream",
     "text": [
      "Picking up tip from : Well A1 form Opentrons OT-2 96 Tip Rack 1000 µL on slot 5\n",
      "Now aspirating Sample 1 to target_well: Well A1 form Corning 24 Well Plate 3.4 mL Flat on slot 2\n",
      "Asipirating {'Cyan': np.float64(275.6046226881424), 'Magenta': np.float64(439.16549233966725), 'Yellow': np.float64(19.569827602252513), 'Black': np.float64(167.86874663363346), 'White': np.float64(97.79131073630444)}\n",
      "Picked up new tip: Well A1 form Opentrons OT-2 96 Tip Rack 1000 µL on slot 5\n",
      "Picked up new tip: Well A2 form Opentrons OT-2 96 Tip Rack 1000 µL on slot 5\n",
      "Picked up new tip: Well A3 form Opentrons OT-2 96 Tip Rack 1000 µL on slot 5\n",
      "Picked up new tip: Well A4 form Opentrons OT-2 96 Tip Rack 1000 µL on slot 5\n"
     ]
    },
    {
     "data": {
      "image/png": "[encoded data removed]",
      "text/plain": [
       "<Figure size 400x200 with 2 Axes>"
      ]
     },
     "metadata": {},
     "output_type": "display_data"
    },
    {
     "name": "stdout",
     "output_type": "stream",
     "text": [
      "Actual_rgb detected: [ 41.9651803  118.97163034  52.27229981]\n"
     ]
    },
    {
     "data": {
      "text/html": [
       "<style>#sk-container-id-3 {\n",
       "  /* Definition of color scheme common for light and dark mode */\n",
       "  --sklearn-color-text: #000;\n",
       "  --sklearn-color-text-muted: #666;\n",
       "  --sklearn-color-line: gray;\n",
       "  /* Definition of color scheme for unfitted estimators */\n",
       "  --sklearn-color-unfitted-level-0: #fff5e6;\n",
       "  --sklearn-color-unfitted-level-1: #f6e4d2;\n",
       "  --sklearn-color-unfitted-level-2: #ffe0b3;\n",
       "  --sklearn-color-unfitted-level-3: chocolate;\n",
       "  /* Definition of color scheme for fitted estimators */\n",
       "  --sklearn-color-fitted-level-0: #f0f8ff;\n",
       "  --sklearn-color-fitted-level-1: #d4ebff;\n",
       "  --sklearn-color-fitted-level-2: #b3dbfd;\n",
       "  --sklearn-color-fitted-level-3: cornflowerblue;\n",
       "\n",
       "  /* Specific color for light theme */\n",
       "  --sklearn-color-text-on-default-background: var(--sg-text-color, var(--theme-code-foreground, var(--jp-content-font-color1, black)));\n",
       "  --sklearn-color-background: var(--sg-background-color, var(--theme-background, var(--jp-layout-color0, white)));\n",
       "  --sklearn-color-border-box: var(--sg-text-color, var(--theme-code-foreground, var(--jp-content-font-color1, black)));\n",
       "  --sklearn-color-icon: #696969;\n",
       "\n",
       "  @media (prefers-color-scheme: dark) {\n",
       "    /* Redefinition of color scheme for dark theme */\n",
       "    --sklearn-color-text-on-default-background: var(--sg-text-color, var(--theme-code-foreground, var(--jp-content-font-color1, white)));\n",
       "    --sklearn-color-background: var(--sg-background-color, var(--theme-background, var(--jp-layout-color0, #111)));\n",
       "    --sklearn-color-border-box: var(--sg-text-color, var(--theme-code-foreground, var(--jp-content-font-color1, white)));\n",
       "    --sklearn-color-icon: #878787;\n",
       "  }\n",
       "}\n",
       "\n",
       "#sk-container-id-3 {\n",
       "  color: var(--sklearn-color-text);\n",
       "}\n",
       "\n",
       "#sk-container-id-3 pre {\n",
       "  padding: 0;\n",
       "}\n",
       "\n",
       "#sk-container-id-3 input.sk-hidden--visually {\n",
       "  border: 0;\n",
       "  clip: rect(1px 1px 1px 1px);\n",
       "  clip: rect(1px, 1px, 1px, 1px);\n",
       "  height: 1px;\n",
       "  margin: -1px;\n",
       "  overflow: hidden;\n",
       "  padding: 0;\n",
       "  position: absolute;\n",
       "  width: 1px;\n",
       "}\n",
       "\n",
       "#sk-container-id-3 div.sk-dashed-wrapped {\n",
       "  border: 1px dashed var(--sklearn-color-line);\n",
       "  margin: 0 0.4em 0.5em 0.4em;\n",
       "  box-sizing: border-box;\n",
       "  padding-bottom: 0.4em;\n",
       "  background-color: var(--sklearn-color-background);\n",
       "}\n",
       "\n",
       "#sk-container-id-3 div.sk-container {\n",
       "  /* jupyter's `normalize.less` sets `[hidden] { display: none; }`\n",
       "     but bootstrap.min.css set `[hidden] { display: none !important; }`\n",
       "     so we also need the `!important` here to be able to override the\n",
       "     default hidden behavior on the sphinx rendered scikit-learn.org.\n",
       "     See: https://github.com/scikit-learn/scikit-learn/issues/21755 */\n",
       "  display: inline-block !important;\n",
       "  position: relative;\n",
       "}\n",
       "\n",
       "#sk-container-id-3 div.sk-text-repr-fallback {\n",
       "  display: none;\n",
       "}\n",
       "\n",
       "div.sk-parallel-item,\n",
       "div.sk-serial,\n",
       "div.sk-item {\n",
       "  /* draw centered vertical line to link estimators */\n",
       "  background-image: linear-gradient(var(--sklearn-color-text-on-default-background), var(--sklearn-color-text-on-default-background));\n",
       "  background-size: 2px 100%;\n",
       "  background-repeat: no-repeat;\n",
       "  background-position: center center;\n",
       "}\n",
       "\n",
       "/* Parallel-specific style estimator block */\n",
       "\n",
       "#sk-container-id-3 div.sk-parallel-item::after {\n",
       "  content: \"\";\n",
       "  width: 100%;\n",
       "  border-bottom: 2px solid var(--sklearn-color-text-on-default-background);\n",
       "  flex-grow: 1;\n",
       "}\n",
       "\n",
       "#sk-container-id-3 div.sk-parallel {\n",
       "  display: flex;\n",
       "  align-items: stretch;\n",
       "  justify-content: center;\n",
       "  background-color: var(--sklearn-color-background);\n",
       "  position: relative;\n",
       "}\n",
       "\n",
       "#sk-container-id-3 div.sk-parallel-item {\n",
       "  display: flex;\n",
       "  flex-direction: column;\n",
       "}\n",
       "\n",
       "#sk-container-id-3 div.sk-parallel-item:first-child::after {\n",
       "  align-self: flex-end;\n",
       "  width: 50%;\n",
       "}\n",
       "\n",
       "#sk-container-id-3 div.sk-parallel-item:last-child::after {\n",
       "  align-self: flex-start;\n",
       "  width: 50%;\n",
       "}\n",
       "\n",
       "#sk-container-id-3 div.sk-parallel-item:only-child::after {\n",
       "  width: 0;\n",
       "}\n",
       "\n",
       "/* Serial-specific style estimator block */\n",
       "\n",
       "#sk-container-id-3 div.sk-serial {\n",
       "  display: flex;\n",
       "  flex-direction: column;\n",
       "  align-items: center;\n",
       "  background-color: var(--sklearn-color-background);\n",
       "  padding-right: 1em;\n",
       "  padding-left: 1em;\n",
       "}\n",
       "\n",
       "\n",
       "/* Toggleable style: style used for estimator/Pipeline/ColumnTransformer box that is\n",
       "clickable and can be expanded/collapsed.\n",
       "- Pipeline and ColumnTransformer use this feature and define the default style\n",
       "- Estimators will overwrite some part of the style using the `sk-estimator` class\n",
       "*/\n",
       "\n",
       "/* Pipeline and ColumnTransformer style (default) */\n",
       "\n",
       "#sk-container-id-3 div.sk-toggleable {\n",
       "  /* Default theme specific background. It is overwritten whether we have a\n",
       "  specific estimator or a Pipeline/ColumnTransformer */\n",
       "  background-color: var(--sklearn-color-background);\n",
       "}\n",
       "\n",
       "/* Toggleable label */\n",
       "#sk-container-id-3 label.sk-toggleable__label {\n",
       "  cursor: pointer;\n",
       "  display: flex;\n",
       "  width: 100%;\n",
       "  margin-bottom: 0;\n",
       "  padding: 0.5em;\n",
       "  box-sizing: border-box;\n",
       "  text-align: center;\n",
       "  align-items: start;\n",
       "  justify-content: space-between;\n",
       "  gap: 0.5em;\n",
       "}\n",
       "\n",
       "#sk-container-id-3 label.sk-toggleable__label .caption {\n",
       "  font-size: 0.6rem;\n",
       "  font-weight: lighter;\n",
       "  color: var(--sklearn-color-text-muted);\n",
       "}\n",
       "\n",
       "#sk-container-id-3 label.sk-toggleable__label-arrow:before {\n",
       "  /* Arrow on the left of the label */\n",
       "  content: \"▸\";\n",
       "  float: left;\n",
       "  margin-right: 0.25em;\n",
       "  color: var(--sklearn-color-icon);\n",
       "}\n",
       "\n",
       "#sk-container-id-3 label.sk-toggleable__label-arrow:hover:before {\n",
       "  color: var(--sklearn-color-text);\n",
       "}\n",
       "\n",
       "/* Toggleable content - dropdown */\n",
       "\n",
       "#sk-container-id-3 div.sk-toggleable__content {\n",
       "  max-height: 0;\n",
       "  max-width: 0;\n",
       "  overflow: hidden;\n",
       "  text-align: left;\n",
       "  /* unfitted */\n",
       "  background-color: var(--sklearn-color-unfitted-level-0);\n",
       "}\n",
       "\n",
       "#sk-container-id-3 div.sk-toggleable__content.fitted {\n",
       "  /* fitted */\n",
       "  background-color: var(--sklearn-color-fitted-level-0);\n",
       "}\n",
       "\n",
       "#sk-container-id-3 div.sk-toggleable__content pre {\n",
       "  margin: 0.2em;\n",
       "  border-radius: 0.25em;\n",
       "  color: var(--sklearn-color-text);\n",
       "  /* unfitted */\n",
       "  background-color: var(--sklearn-color-unfitted-level-0);\n",
       "}\n",
       "\n",
       "#sk-container-id-3 div.sk-toggleable__content.fitted pre {\n",
       "  /* unfitted */\n",
       "  background-color: var(--sklearn-color-fitted-level-0);\n",
       "}\n",
       "\n",
       "#sk-container-id-3 input.sk-toggleable__control:checked~div.sk-toggleable__content {\n",
       "  /* Expand drop-down */\n",
       "  max-height: 200px;\n",
       "  max-width: 100%;\n",
       "  overflow: auto;\n",
       "}\n",
       "\n",
       "#sk-container-id-3 input.sk-toggleable__control:checked~label.sk-toggleable__label-arrow:before {\n",
       "  content: \"▾\";\n",
       "}\n",
       "\n",
       "/* Pipeline/ColumnTransformer-specific style */\n",
       "\n",
       "#sk-container-id-3 div.sk-label input.sk-toggleable__control:checked~label.sk-toggleable__label {\n",
       "  color: var(--sklearn-color-text);\n",
       "  background-color: var(--sklearn-color-unfitted-level-2);\n",
       "}\n",
       "\n",
       "#sk-container-id-3 div.sk-label.fitted input.sk-toggleable__control:checked~label.sk-toggleable__label {\n",
       "  background-color: var(--sklearn-color-fitted-level-2);\n",
       "}\n",
       "\n",
       "/* Estimator-specific style */\n",
       "\n",
       "/* Colorize estimator box */\n",
       "#sk-container-id-3 div.sk-estimator input.sk-toggleable__control:checked~label.sk-toggleable__label {\n",
       "  /* unfitted */\n",
       "  background-color: var(--sklearn-color-unfitted-level-2);\n",
       "}\n",
       "\n",
       "#sk-container-id-3 div.sk-estimator.fitted input.sk-toggleable__control:checked~label.sk-toggleable__label {\n",
       "  /* fitted */\n",
       "  background-color: var(--sklearn-color-fitted-level-2);\n",
       "}\n",
       "\n",
       "#sk-container-id-3 div.sk-label label.sk-toggleable__label,\n",
       "#sk-container-id-3 div.sk-label label {\n",
       "  /* The background is the default theme color */\n",
       "  color: var(--sklearn-color-text-on-default-background);\n",
       "}\n",
       "\n",
       "/* On hover, darken the color of the background */\n",
       "#sk-container-id-3 div.sk-label:hover label.sk-toggleable__label {\n",
       "  color: var(--sklearn-color-text);\n",
       "  background-color: var(--sklearn-color-unfitted-level-2);\n",
       "}\n",
       "\n",
       "/* Label box, darken color on hover, fitted */\n",
       "#sk-container-id-3 div.sk-label.fitted:hover label.sk-toggleable__label.fitted {\n",
       "  color: var(--sklearn-color-text);\n",
       "  background-color: var(--sklearn-color-fitted-level-2);\n",
       "}\n",
       "\n",
       "/* Estimator label */\n",
       "\n",
       "#sk-container-id-3 div.sk-label label {\n",
       "  font-family: monospace;\n",
       "  font-weight: bold;\n",
       "  display: inline-block;\n",
       "  line-height: 1.2em;\n",
       "}\n",
       "\n",
       "#sk-container-id-3 div.sk-label-container {\n",
       "  text-align: center;\n",
       "}\n",
       "\n",
       "/* Estimator-specific */\n",
       "#sk-container-id-3 div.sk-estimator {\n",
       "  font-family: monospace;\n",
       "  border: 1px dotted var(--sklearn-color-border-box);\n",
       "  border-radius: 0.25em;\n",
       "  box-sizing: border-box;\n",
       "  margin-bottom: 0.5em;\n",
       "  /* unfitted */\n",
       "  background-color: var(--sklearn-color-unfitted-level-0);\n",
       "}\n",
       "\n",
       "#sk-container-id-3 div.sk-estimator.fitted {\n",
       "  /* fitted */\n",
       "  background-color: var(--sklearn-color-fitted-level-0);\n",
       "}\n",
       "\n",
       "/* on hover */\n",
       "#sk-container-id-3 div.sk-estimator:hover {\n",
       "  /* unfitted */\n",
       "  background-color: var(--sklearn-color-unfitted-level-2);\n",
       "}\n",
       "\n",
       "#sk-container-id-3 div.sk-estimator.fitted:hover {\n",
       "  /* fitted */\n",
       "  background-color: var(--sklearn-color-fitted-level-2);\n",
       "}\n",
       "\n",
       "/* Specification for estimator info (e.g. \"i\" and \"?\") */\n",
       "\n",
       "/* Common style for \"i\" and \"?\" */\n",
       "\n",
       ".sk-estimator-doc-link,\n",
       "a:link.sk-estimator-doc-link,\n",
       "a:visited.sk-estimator-doc-link {\n",
       "  float: right;\n",
       "  font-size: smaller;\n",
       "  line-height: 1em;\n",
       "  font-family: monospace;\n",
       "  background-color: var(--sklearn-color-background);\n",
       "  border-radius: 1em;\n",
       "  height: 1em;\n",
       "  width: 1em;\n",
       "  text-decoration: none !important;\n",
       "  margin-left: 0.5em;\n",
       "  text-align: center;\n",
       "  /* unfitted */\n",
       "  border: var(--sklearn-color-unfitted-level-1) 1pt solid;\n",
       "  color: var(--sklearn-color-unfitted-level-1);\n",
       "}\n",
       "\n",
       ".sk-estimator-doc-link.fitted,\n",
       "a:link.sk-estimator-doc-link.fitted,\n",
       "a:visited.sk-estimator-doc-link.fitted {\n",
       "  /* fitted */\n",
       "  border: var(--sklearn-color-fitted-level-1) 1pt solid;\n",
       "  color: var(--sklearn-color-fitted-level-1);\n",
       "}\n",
       "\n",
       "/* On hover */\n",
       "div.sk-estimator:hover .sk-estimator-doc-link:hover,\n",
       ".sk-estimator-doc-link:hover,\n",
       "div.sk-label-container:hover .sk-estimator-doc-link:hover,\n",
       ".sk-estimator-doc-link:hover {\n",
       "  /* unfitted */\n",
       "  background-color: var(--sklearn-color-unfitted-level-3);\n",
       "  color: var(--sklearn-color-background);\n",
       "  text-decoration: none;\n",
       "}\n",
       "\n",
       "div.sk-estimator.fitted:hover .sk-estimator-doc-link.fitted:hover,\n",
       ".sk-estimator-doc-link.fitted:hover,\n",
       "div.sk-label-container:hover .sk-estimator-doc-link.fitted:hover,\n",
       ".sk-estimator-doc-link.fitted:hover {\n",
       "  /* fitted */\n",
       "  background-color: var(--sklearn-color-fitted-level-3);\n",
       "  color: var(--sklearn-color-background);\n",
       "  text-decoration: none;\n",
       "}\n",
       "\n",
       "/* Span, style for the box shown on hovering the info icon */\n",
       ".sk-estimator-doc-link span {\n",
       "  display: none;\n",
       "  z-index: 9999;\n",
       "  position: relative;\n",
       "  font-weight: normal;\n",
       "  right: .2ex;\n",
       "  padding: .5ex;\n",
       "  margin: .5ex;\n",
       "  width: min-content;\n",
       "  min-width: 20ex;\n",
       "  max-width: 50ex;\n",
       "  color: var(--sklearn-color-text);\n",
       "  box-shadow: 2pt 2pt 4pt #999;\n",
       "  /* unfitted */\n",
       "  background: var(--sklearn-color-unfitted-level-0);\n",
       "  border: .5pt solid var(--sklearn-color-unfitted-level-3);\n",
       "}\n",
       "\n",
       ".sk-estimator-doc-link.fitted span {\n",
       "  /* fitted */\n",
       "  background: var(--sklearn-color-fitted-level-0);\n",
       "  border: var(--sklearn-color-fitted-level-3);\n",
       "}\n",
       "\n",
       ".sk-estimator-doc-link:hover span {\n",
       "  display: block;\n",
       "}\n",
       "\n",
       "/* \"?\"-specific style due to the `<a>` HTML tag */\n",
       "\n",
       "#sk-container-id-3 a.estimator_doc_link {\n",
       "  float: right;\n",
       "  font-size: 1rem;\n",
       "  line-height: 1em;\n",
       "  font-family: monospace;\n",
       "  background-color: var(--sklearn-color-background);\n",
       "  border-radius: 1rem;\n",
       "  height: 1rem;\n",
       "  width: 1rem;\n",
       "  text-decoration: none;\n",
       "  /* unfitted */\n",
       "  color: var(--sklearn-color-unfitted-level-1);\n",
       "  border: var(--sklearn-color-unfitted-level-1) 1pt solid;\n",
       "}\n",
       "\n",
       "#sk-container-id-3 a.estimator_doc_link.fitted {\n",
       "  /* fitted */\n",
       "  border: var(--sklearn-color-fitted-level-1) 1pt solid;\n",
       "  color: var(--sklearn-color-fitted-level-1);\n",
       "}\n",
       "\n",
       "/* On hover */\n",
       "#sk-container-id-3 a.estimator_doc_link:hover {\n",
       "  /* unfitted */\n",
       "  background-color: var(--sklearn-color-unfitted-level-3);\n",
       "  color: var(--sklearn-color-background);\n",
       "  text-decoration: none;\n",
       "}\n",
       "\n",
       "#sk-container-id-3 a.estimator_doc_link.fitted:hover {\n",
       "  /* fitted */\n",
       "  background-color: var(--sklearn-color-fitted-level-3);\n",
       "}\n",
       "</style><div id=\"sk-container-id-3\" class=\"sk-top-container\"><div class=\"sk-text-repr-fallback\"><pre>GaussianProcessRegressor(alpha=0.0001,\n",
       "                         kernel=RBF(length_scale=5) + WhiteKernel(noise_level=0.1),\n",
       "                         n_restarts_optimizer=10, normalize_y=True)</pre><b>In a Jupyter environment, please rerun this cell to show the HTML representation or trust the notebook. <br />On GitHub, the HTML representation is unable to render, please try loading this page with nbviewer.org.</b></div><div class=\"sk-container\" hidden><div class=\"sk-item\"><div class=\"sk-estimator fitted sk-toggleable\"><input class=\"sk-toggleable__control sk-hidden--visually\" id=\"sk-estimator-id-3\" type=\"checkbox\" checked><label for=\"sk-estimator-id-3\" class=\"sk-toggleable__label fitted sk-toggleable__label-arrow\"><div><div>GaussianProcessRegressor</div></div><div><a class=\"sk-estimator-doc-link fitted\" rel=\"noreferrer\" target=\"_blank\" href=\"https://scikit-learn.org/1.6/modules/generated/sklearn.gaussian_process.GaussianProcessRegressor.html\">?<span>Documentation for GaussianProcessRegressor</span></a><span class=\"sk-estimator-doc-link fitted\">i<span>Fitted</span></span></div></label><div class=\"sk-toggleable__content fitted\"><pre>GaussianProcessRegressor(alpha=0.0001,\n",
       "                         kernel=RBF(length_scale=5) + WhiteKernel(noise_level=0.1),\n",
       "                         n_restarts_optimizer=10, normalize_y=True)</pre></div> </div></div></div></div>"
      ],
      "text/plain": [
       "GaussianProcessRegressor(alpha=0.0001,\n",
       "                         kernel=RBF(length_scale=5) + WhiteKernel(noise_level=0.1),\n",
       "                         n_restarts_optimizer=10, normalize_y=True)"
      ]
     },
     "execution_count": 133,
     "metadata": {},
     "output_type": "execute_result"
    }
   ],
   "source": [
    "# Initialize tip tracking\n",
    "tip_index = 0  \n",
    "\n",
    "# Run the colormixing for initial samples\n",
    "\n",
    "for idx, x_sample in enumerate(X_init_norm): \n",
    "    target_well = all_wells['initial_wells'][idx]\n",
    "    camera_target_well = all_wells['initial_camera_wells'][idx]\n",
    "    # initial_tiprack = all_wells['initial_tipracks']  # Single list of 96 tips\n",
    "\n",
    "    #denormalized_rgb = denormalize_rgb(x_sample, bounds)\n",
    "    denormalized_volume = denormalize_volume_vector(x_sample, sample_volume)\n",
    "    # Visualize the sampled color for each iteration\n",
    "    #visualize_one_color(denormalized_rgb, target_rgb, idx)\n",
    "    \n",
    "    print(f\"Picking up tip from : {tiprack[tip_index]}\")\n",
    "    print(f\"Now aspirating Sample {idx+1} to target_well: {target_well}\")\n",
    "    \n",
    "    # Run color mixing, capture image, and update tip index\n",
    "    image, rgb, tip_index = color_maker(\n",
    "        volumes=denormalized_volume, \n",
    "        sample_volume=sample_volume, \n",
    "        target_well=target_well, \n",
    "        camera_target_well=camera_target_well, \n",
    "        tip_rack=tiprack, \n",
    "        tip_index=tip_index\n",
    "    )\n",
    "    \n",
    "    rgb_samples = np.vstack((rgb_samples, rgb))\n",
    "    visualize_one_color(rgb, target_rgb, idx)\n",
    "    #print(f\"Proposed_rgb: {denormalized_rgb}\")\n",
    "    print(f\"Actual_rgb detected: {rgb}\")\n",
    "    \n",
    "    rgb_val_normalized = normalize_rgb(rgb)\n",
    "    Y_next_norm = color_objective_ciedelta(rgb_val_normalized, normalize_rgb(target_rgb))\n",
    "    \n",
    "    Y_init_norm[idx] = Y_next_norm  # Update the distance\n",
    "\n",
    "# Fit the GP model\n",
    "gp.fit(X_init_norm, Y_init_norm)"
   ]
  },
  {
   "cell_type": "code",
   "execution_count": 134,
   "metadata": {},
   "outputs": [
    {
     "name": "stdout",
     "output_type": "stream",
     "text": [
      "[0.17228923]\n"
     ]
    }
   ],
   "source": [
    "print(Y_init_norm)"
   ]
  },
  {
   "cell_type": "code",
   "execution_count": null,
   "metadata": {},
   "outputs": [
    {
     "name": "stdout",
     "output_type": "stream",
     "text": [
      "Asipirating {'Cyan': np.float64(39.947673973013735), 'Magenta': np.float64(4.1633363423443364e-14), 'Yellow': np.float64(229.63955737840348), 'Black': np.float64(0.0), 'White': np.float64(730.4127686485829)}\n",
      "Picked up new tip: Well A5 form Opentrons OT-2 96 Tip Rack 1000 µL on slot 5\n",
      "Picked up new tip: Well A6 form Opentrons OT-2 96 Tip Rack 1000 µL on slot 5\n",
      "Picked up new tip: Well A7 form Opentrons OT-2 96 Tip Rack 1000 µL on slot 5\n",
      "Actual RGB value : [120.09843542 139.03118823  76.74296198]\n"
     ]
    },
    {
     "data": {
      "image/png": "[encoded data removed]",
      "text/plain": [
       "<Figure size 400x200 with 2 Axes>"
      ]
     },
     "metadata": {},
     "output_type": "display_data"
    },
    {
     "name": "stdout",
     "output_type": "stream",
     "text": [
      "Asipirating {'Cyan': np.float64(0.0), 'Magenta': np.float64(2.7755575615628914e-14), 'Yellow': np.float64(171.96459271617437), 'Black': np.float64(638.629251488354), 'White': np.float64(189.4061557954716)}\n",
      "Picked up new tip: Well A8 form Opentrons OT-2 96 Tip Rack 1000 µL on slot 5\n",
      "Picked up new tip: Well A9 form Opentrons OT-2 96 Tip Rack 1000 µL on slot 5\n",
      "Picked up new tip: Well A10 form Opentrons OT-2 96 Tip Rack 1000 µL on slot 5\n",
      "Actual RGB value : [143.35746821 182.49943393 125.86559069]\n"
     ]
    },
    {
     "data": {
      "image/png": "[encoded data removed]",
      "text/plain": [
       "<Figure size 400x200 with 2 Axes>"
      ]
     },
     "metadata": {},
     "output_type": "display_data"
    },
    {
     "name": "stdout",
     "output_type": "stream",
     "text": [
      "Asipirating {'Cyan': np.float64(169.4645820746149), 'Magenta': np.float64(5.551115123125779e-14), 'Yellow': np.float64(487.99300027507604), 'Black': np.float64(5.551115123125779e-14), 'White': np.float64(342.5424176503089)}\n",
      "Picked up new tip: Well A11 form Opentrons OT-2 96 Tip Rack 1000 µL on slot 5\n",
      "Picked up new tip: Well A12 form Opentrons OT-2 96 Tip Rack 1000 µL on slot 5\n",
      "Picked up new tip: Well B1 form Opentrons OT-2 96 Tip Rack 1000 µL on slot 5\n",
      "Actual RGB value : [112.07823885 125.88982895  52.04200563]\n"
     ]
    },
    {
     "data": {
      "image/png": "[encoded data removed]",
      "text/plain": [
       "<Figure size 400x200 with 2 Axes>"
      ]
     },
     "metadata": {},
     "output_type": "display_data"
    },
    {
     "name": "stdout",
     "output_type": "stream",
     "text": [
      "Asipirating {'Cyan': np.float64(314.90761677219365), 'Magenta': np.float64(624.6562295952909), 'Yellow': np.float64(1.247309310144972e-10), 'Black': np.float64(60.43615363239065), 'White': np.float64(0.0)}\n",
      "Picked up new tip: Well B2 form Opentrons OT-2 96 Tip Rack 1000 µL on slot 5\n",
      "Picked up new tip: Well B3 form Opentrons OT-2 96 Tip Rack 1000 µL on slot 5\n",
      "Picked up new tip: Well B4 form Opentrons OT-2 96 Tip Rack 1000 µL on slot 5\n",
      "Actual RGB value : [ 77.25750494 146.11074438  52.83923105]\n"
     ]
    },
    {
     "data": {
      "image/png": "[encoded data removed]",
      "text/plain": [
       "<Figure size 400x200 with 2 Axes>"
      ]
     },
     "metadata": {},
     "output_type": "display_data"
    },
    {
     "name": "stderr",
     "output_type": "stream",
     "text": [
      "c:\\Users\\titan\\anaconda3\\envs\\axo\\Lib\\site-packages\\sklearn\\gaussian_process\\kernels.py:452: ConvergenceWarning: The optimal value found for dimension 0 of parameter k2__noise_level is close to the specified upper bound 0.001. Increasing the bound and calling fit again may find a better value.\n",
      "  warnings.warn(\n"
     ]
    },
    {
     "name": "stdout",
     "output_type": "stream",
     "text": [
      "Asipirating {'Cyan': np.float64(271.76272688454566), 'Magenta': np.float64(538.0670807913606), 'Yellow': np.float64(1.2890771627154204e-07), 'Black': np.float64(190.17019219141886), 'White': np.float64(3.767368436256771e-09)}\n",
      "Picked up new tip: Well B5 form Opentrons OT-2 96 Tip Rack 1000 µL on slot 5\n",
      "Picked up new tip: Well B6 form Opentrons OT-2 96 Tip Rack 1000 µL on slot 5\n",
      "Picked up new tip: Well B7 form Opentrons OT-2 96 Tip Rack 1000 µL on slot 5\n",
      "Actual RGB value : [43.17274896 35.66575214 73.04865372]\n"
     ]
    },
    {
     "data": {
      "image/png": "[encoded data removed]",
      "text/plain": [
       "<Figure size 400x200 with 2 Axes>"
      ]
     },
     "metadata": {},
     "output_type": "display_data"
    },
    {
     "name": "stdout",
     "output_type": "stream",
     "text": [
      "Asipirating {'Cyan': np.float64(328.99344115316467), 'Magenta': np.float64(311.3195865665783), 'Yellow': np.float64(274.324688858975), 'Black': np.float64(85.36228342128204), 'White': np.float64(0.0)}\n",
      "Picked up new tip: Well B8 form Opentrons OT-2 96 Tip Rack 1000 µL on slot 5\n",
      "Picked up new tip: Well B9 form Opentrons OT-2 96 Tip Rack 1000 µL on slot 5\n",
      "Picked up new tip: Well B10 form Opentrons OT-2 96 Tip Rack 1000 µL on slot 5\n",
      "Picked up new tip: Well B11 form Opentrons OT-2 96 Tip Rack 1000 µL on slot 5\n",
      "Actual RGB value : [79.72776529 74.04327685 89.11028084]\n"
     ]
    },
    {
     "data": {
      "image/png": "[encoded data removed]",
      "text/plain": [
       "<Figure size 400x200 with 2 Axes>"
      ]
     },
     "metadata": {},
     "output_type": "display_data"
    },
    {
     "name": "stdout",
     "output_type": "stream",
     "text": [
      "Asipirating {'Cyan': np.float64(0.0), 'Magenta': np.float64(422.24594535782546), 'Yellow': np.float64(372.8093482853692), 'Black': np.float64(0.0), 'White': np.float64(204.94470635680543)}\n",
      "Picked up new tip: Well B12 form Opentrons OT-2 96 Tip Rack 1000 µL on slot 5\n",
      "Picked up new tip: Well C1 form Opentrons OT-2 96 Tip Rack 1000 µL on slot 5\n",
      "Picked up new tip: Well C2 form Opentrons OT-2 96 Tip Rack 1000 µL on slot 5\n",
      "Actual RGB value : [60.3038479  60.96073511 43.04045055]\n"
     ]
    },
    {
     "data": {
      "image/png": "[encoded data removed]",
      "text/plain": [
       "<Figure size 400x200 with 2 Axes>"
      ]
     },
     "metadata": {},
     "output_type": "display_data"
    },
    {
     "name": "stdout",
     "output_type": "stream",
     "text": [
      "Asipirating {'Cyan': np.float64(0.0), 'Magenta': np.float64(0.0), 'Yellow': np.float64(228.55432372115186), 'Black': np.float64(221.9138594814319), 'White': np.float64(549.5318167974162)}\n",
      "Picked up new tip: Well C3 form Opentrons OT-2 96 Tip Rack 1000 µL on slot 5\n",
      "Picked up new tip: Well C4 form Opentrons OT-2 96 Tip Rack 1000 µL on slot 5\n",
      "Picked up new tip: Well C5 form Opentrons OT-2 96 Tip Rack 1000 µL on slot 5\n",
      "Actual RGB value : [131.23254935  96.33514317  46.41387738]\n"
     ]
    },
    {
     "data": {
      "image/png": "[encoded data removed]",
      "text/plain": [
       "<Figure size 400x200 with 2 Axes>"
      ]
     },
     "metadata": {},
     "output_type": "display_data"
    },
    {
     "name": "stdout",
     "output_type": "stream",
     "text": [
      "Asipirating {'Cyan': np.float64(0.0), 'Magenta': np.float64(1.3877787807814454e-14), 'Yellow': np.float64(815.1680879346399), 'Black': np.float64(140.04797111292527), 'White': np.float64(44.78394095243481)}\n",
      "Picked up new tip: Well C6 form Opentrons OT-2 96 Tip Rack 1000 µL on slot 5\n",
      "Picked up new tip: Well C7 form Opentrons OT-2 96 Tip Rack 1000 µL on slot 5\n",
      "Picked up new tip: Well C8 form Opentrons OT-2 96 Tip Rack 1000 µL on slot 5\n",
      "Actual RGB value : [142.98327698 168.40208826  70.96682277]\n"
     ]
    },
    {
     "data": {
      "image/png": "[encoded data removed]",
      "text/plain": [
       "<Figure size 400x200 with 2 Axes>"
      ]
     },
     "metadata": {},
     "output_type": "display_data"
    },
    {
     "name": "stdout",
     "output_type": "stream",
     "text": [
      "Asipirating {'Cyan': np.float64(0.0), 'Magenta': np.float64(482.2885958351865), 'Yellow': np.float64(436.27226314578576), 'Black': np.float64(81.43914101902773), 'White': np.float64(0.0)}\n",
      "Picked up new tip: Well C9 form Opentrons OT-2 96 Tip Rack 1000 µL on slot 5\n",
      "Picked up new tip: Well C10 form Opentrons OT-2 96 Tip Rack 1000 µL on slot 5\n",
      "Picked up new tip: Well C11 form Opentrons OT-2 96 Tip Rack 1000 µL on slot 5\n",
      "Actual RGB value : [149.6436351  183.19234894  72.89702975]\n"
     ]
    },
    {
     "data": {
      "image/png": "[encoded data removed]",
      "text/plain": [
       "<Figure size 400x200 with 2 Axes>"
      ]
     },
     "metadata": {},
     "output_type": "display_data"
    },
    {
     "name": "stdout",
     "output_type": "stream",
     "text": [
      "Asipirating {'Cyan': np.float64(240.3004898443946), 'Magenta': np.float64(0.0), 'Yellow': np.float64(242.7224903342896), 'Black': np.float64(433.85793095414965), 'White': np.float64(83.11908886716617)}\n",
      "Picked up new tip: Well C12 form Opentrons OT-2 96 Tip Rack 1000 µL on slot 5\n",
      "Picked up new tip: Well D1 form Opentrons OT-2 96 Tip Rack 1000 µL on slot 5\n",
      "Picked up new tip: Well D2 form Opentrons OT-2 96 Tip Rack 1000 µL on slot 5\n",
      "Picked up new tip: Well D3 form Opentrons OT-2 96 Tip Rack 1000 µL on slot 5\n",
      "Actual RGB value : [152.75913033 125.35791984 102.2957964 ]\n"
     ]
    },
    {
     "data": {
      "image/png": "[encoded data removed]",
      "text/plain": [
       "<Figure size 400x200 with 2 Axes>"
      ]
     },
     "metadata": {},
     "output_type": "display_data"
    },
    {
     "name": "stderr",
     "output_type": "stream",
     "text": [
      "c:\\Users\\titan\\anaconda3\\envs\\axo\\Lib\\site-packages\\sklearn\\gaussian_process\\kernels.py:442: ConvergenceWarning: The optimal value found for dimension 0 of parameter k1__length_scale is close to the specified lower bound 1e-05. Decreasing the bound and calling fit again may find a better value.\n",
      "  warnings.warn(\n"
     ]
    },
    {
     "name": "stdout",
     "output_type": "stream",
     "text": [
      "Asipirating {'Cyan': np.float64(0.0), 'Magenta': np.float64(524.6150714478332), 'Yellow': np.float64(8.326672684688673e-14), 'Black': np.float64(288.7740970388694), 'White': np.float64(186.61083151329734)}\n",
      "Picked up new tip: Well D4 form Opentrons OT-2 96 Tip Rack 1000 µL on slot 5\n",
      "Picked up new tip: Well D5 form Opentrons OT-2 96 Tip Rack 1000 µL on slot 5\n",
      "Picked up new tip: Well D6 form Opentrons OT-2 96 Tip Rack 1000 µL on slot 5\n",
      "Actual RGB value : [55.49172491 96.96842418 41.76847844]\n"
     ]
    },
    {
     "data": {
      "image/png": "[encoded data removed]",
      "text/plain": [
       "<Figure size 400x200 with 2 Axes>"
      ]
     },
     "metadata": {},
     "output_type": "display_data"
    },
    {
     "name": "stdout",
     "output_type": "stream",
     "text": [
      "Asipirating {'Cyan': np.float64(301.0367490388817), 'Magenta': np.float64(5.551115123125783e-14), 'Yellow': np.float64(144.90752497391242), 'Black': np.float64(0.0), 'White': np.float64(554.0557259872058)}\n",
      "Picked up new tip: Well D7 form Opentrons OT-2 96 Tip Rack 1000 µL on slot 5\n",
      "Picked up new tip: Well D8 form Opentrons OT-2 96 Tip Rack 1000 µL on slot 5\n",
      "Picked up new tip: Well D9 form Opentrons OT-2 96 Tip Rack 1000 µL on slot 5\n",
      "Actual RGB value : [155.81931084 113.12439558 121.6419131 ]\n"
     ]
    },
    {
     "data": {
      "image/png": "[encoded data removed]",
      "text/plain": [
       "<Figure size 400x200 with 2 Axes>"
      ]
     },
     "metadata": {},
     "output_type": "display_data"
    },
    {
     "name": "stderr",
     "output_type": "stream",
     "text": [
      "c:\\Users\\titan\\anaconda3\\envs\\axo\\Lib\\site-packages\\sklearn\\gaussian_process\\kernels.py:442: ConvergenceWarning: The optimal value found for dimension 0 of parameter k1__length_scale is close to the specified lower bound 1e-05. Decreasing the bound and calling fit again may find a better value.\n",
      "  warnings.warn(\n"
     ]
    },
    {
     "name": "stdout",
     "output_type": "stream",
     "text": [
      "Asipirating {'Cyan': np.float64(0.0), 'Magenta': np.float64(0.0), 'Yellow': np.float64(392.136183566043), 'Black': np.float64(356.6547793467155), 'White': np.float64(251.20903708724157)}\n",
      "Picked up new tip: Well D10 form Opentrons OT-2 96 Tip Rack 1000 µL on slot 5\n",
      "Picked up new tip: Well D11 form Opentrons OT-2 96 Tip Rack 1000 µL on slot 5\n",
      "Picked up new tip: Well D12 form Opentrons OT-2 96 Tip Rack 1000 µL on slot 5\n",
      "Actual RGB value : [ 94.69233249 161.64194099  91.6303504 ]\n"
     ]
    },
    {
     "data": {
      "image/png": "[encoded data removed]",
      "text/plain": [
       "<Figure size 400x200 with 2 Axes>"
      ]
     },
     "metadata": {},
     "output_type": "display_data"
    },
    {
     "name": "stdout",
     "output_type": "stream",
     "text": [
      "Asipirating {'Cyan': np.float64(418.6456391154925), 'Magenta': np.float64(2.775557561562892e-14), 'Yellow': np.float64(548.8438900106903), 'Black': np.float64(0.0), 'White': np.float64(32.51047087381726)}\n",
      "Picked up new tip: Well E1 form Opentrons OT-2 96 Tip Rack 1000 µL on slot 5\n",
      "Picked up new tip: Well E2 form Opentrons OT-2 96 Tip Rack 1000 µL on slot 5\n",
      "Picked up new tip: Well E3 form Opentrons OT-2 96 Tip Rack 1000 µL on slot 5\n",
      "Actual RGB value : [126.34808506 147.56754998  74.47384729]\n"
     ]
    },
    {
     "data": {
      "image/png": "[encoded data removed]",
      "text/plain": [
       "<Figure size 400x200 with 2 Axes>"
      ]
     },
     "metadata": {},
     "output_type": "display_data"
    },
    {
     "name": "stdout",
     "output_type": "stream",
     "text": [
      "Asipirating {'Cyan': np.float64(287.8037777471896), 'Magenta': np.float64(276.2649964735922), 'Yellow': np.float64(32.0913893741855), 'Black': np.float64(217.04588558876205), 'White': np.float64(186.79395081627064)}\n",
      "Picked up new tip: Well E4 form Opentrons OT-2 96 Tip Rack 1000 µL on slot 5\n",
      "Picked up new tip: Well E5 form Opentrons OT-2 96 Tip Rack 1000 µL on slot 5\n",
      "Picked up new tip: Well E6 form Opentrons OT-2 96 Tip Rack 1000 µL on slot 5\n",
      "Picked up new tip: Well E7 form Opentrons OT-2 96 Tip Rack 1000 µL on slot 5\n",
      "Picked up new tip: Well E8 form Opentrons OT-2 96 Tip Rack 1000 µL on slot 5\n",
      "Actual RGB value : [ 39.81605769 105.72322143  45.43203396]\n"
     ]
    },
    {
     "data": {
      "image/png": "[encoded data removed]",
      "text/plain": [
       "<Figure size 400x200 with 2 Axes>"
      ]
     },
     "metadata": {},
     "output_type": "display_data"
    },
    {
     "name": "stdout",
     "output_type": "stream",
     "text": [
      "Asipirating {'Cyan': np.float64(1.1102230246251558e-13), 'Magenta': np.float64(5.551115123125779e-14), 'Yellow': np.float64(651.3949095677023), 'Black': np.float64(284.79729664662034), 'White': np.float64(63.80779378567715)}\n",
      "Picked up new tip: Well E9 form Opentrons OT-2 96 Tip Rack 1000 µL on slot 5\n",
      "Picked up new tip: Well E10 form Opentrons OT-2 96 Tip Rack 1000 µL on slot 5\n",
      "Picked up new tip: Well E11 form Opentrons OT-2 96 Tip Rack 1000 µL on slot 5\n",
      "Actual RGB value : [55.16211435 63.25496473 58.62514478]\n"
     ]
    },
    {
     "data": {
      "image/png": "[encoded data removed]",
      "text/plain": [
       "<Figure size 400x200 with 2 Axes>"
      ]
     },
     "metadata": {},
     "output_type": "display_data"
    },
    {
     "name": "stdout",
     "output_type": "stream",
     "text": [
      "Asipirating {'Cyan': np.float64(0.0), 'Magenta': np.float64(343.8760107048761), 'Yellow': np.float64(259.98009798933765), 'Black': np.float64(75.8928130707817), 'White': np.float64(320.2510782350046)}\n",
      "Picked up new tip: Well E12 form Opentrons OT-2 96 Tip Rack 1000 µL on slot 5\n",
      "Picked up new tip: Well F1 form Opentrons OT-2 96 Tip Rack 1000 µL on slot 5\n",
      "Picked up new tip: Well F2 form Opentrons OT-2 96 Tip Rack 1000 µL on slot 5\n",
      "Picked up new tip: Well F3 form Opentrons OT-2 96 Tip Rack 1000 µL on slot 5\n",
      "Actual RGB value : [120.07699382 149.58640936  57.91369675]\n"
     ]
    },
    {
     "data": {
      "image/png": "[encoded data removed]",
      "text/plain": [
       "<Figure size 400x200 with 2 Axes>"
      ]
     },
     "metadata": {},
     "output_type": "display_data"
    },
    {
     "name": "stdout",
     "output_type": "stream",
     "text": [
      "Asipirating {'Cyan': np.float64(0.0), 'Magenta': np.float64(364.22078149384936), 'Yellow': np.float64(0.0), 'Black': np.float64(252.91610438116027), 'White': np.float64(382.8631141249905)}\n",
      "Picked up new tip: Well F4 form Opentrons OT-2 96 Tip Rack 1000 µL on slot 5\n",
      "Picked up new tip: Well F5 form Opentrons OT-2 96 Tip Rack 1000 µL on slot 5\n",
      "Picked up new tip: Well F6 form Opentrons OT-2 96 Tip Rack 1000 µL on slot 5\n",
      "Actual RGB value : [175.34218408 125.8124958   86.96136025]\n"
     ]
    },
    {
     "data": {
      "image/png": "[encoded data removed]",
      "text/plain": [
       "<Figure size 400x200 with 2 Axes>"
      ]
     },
     "metadata": {},
     "output_type": "display_data"
    }
   ],
   "source": [
    "# Now run Bayesian Optimization (BO) with the updated tip index\n",
    "X_sample, y_sample, rgb_samples, tip_index = decision_maker(\n",
    "    target_rgb = target_rgb, \n",
    "    surrogate_model=gp, \n",
    "    acquisition_function='ucb',\n",
    "    sample_volume=sample_volume, \n",
    "    X_sample=X_init_norm, \n",
    "    y_sample=Y_init_norm,\n",
    "    rgb_sample=rgb_samples,\n",
    "    target_wells=all_wells['well_targets'],\n",
    "    camera_target_wells=all_wells['camera_targets'],\n",
    "    tip_rack=tiprack,  # Continue using additional tip racks\n",
    "    initial_tip_index=tip_index,  # Start from where the initial samples left off\n",
    "    bounds = bounds,\n",
    "    norm_bounds = norm_bounds,\n",
    "    max_iterations = 19\n",
    ")"
   ]
  },
  {
   "cell_type": "code",
   "execution_count": 138,
   "metadata": {},
   "outputs": [
    {
     "name": "stdout",
     "output_type": "stream",
     "text": [
      "Video stream server stopped successfully.\n"
     ]
    }
   ],
   "source": [
    "camera.stop_video_stream_server()"
   ]
  },
  {
   "cell_type": "code",
   "execution_count": 139,
   "metadata": {},
   "outputs": [
    {
     "name": "stdout",
     "output_type": "stream",
     "text": [
      "[[4.94500486e-01 7.87967732e-01 3.51129425e-02 3.01196606e-01\n",
      "  1.75460957e-01]\n",
      " [3.99476740e-02 4.16333634e-17 2.29639557e-01 0.00000000e+00\n",
      "  7.30412769e-01]\n",
      " [0.00000000e+00 2.77555756e-17 1.71964593e-01 6.38629251e-01\n",
      "  1.89406156e-01]\n",
      " [1.69464582e-01 5.55111512e-17 4.87993000e-01 5.55111512e-17\n",
      "  3.42542418e-01]\n",
      " [3.14907617e-01 6.24656230e-01 1.24730931e-13 6.04361536e-02\n",
      "  0.00000000e+00]\n",
      " [2.71762727e-01 5.38067081e-01 1.28907716e-10 1.90170192e-01\n",
      "  3.76736844e-12]\n",
      " [3.28993441e-01 3.11319587e-01 2.74324689e-01 8.53622834e-02\n",
      "  0.00000000e+00]\n",
      " [0.00000000e+00 4.22245945e-01 3.72809348e-01 0.00000000e+00\n",
      "  2.04944706e-01]\n",
      " [0.00000000e+00 0.00000000e+00 2.28554324e-01 2.21913859e-01\n",
      "  5.49531817e-01]\n",
      " [0.00000000e+00 1.38777878e-17 8.15168088e-01 1.40047971e-01\n",
      "  4.47839410e-02]\n",
      " [0.00000000e+00 4.82288596e-01 4.36272263e-01 8.14391410e-02\n",
      "  0.00000000e+00]\n",
      " [2.40300490e-01 0.00000000e+00 2.42722490e-01 4.33857931e-01\n",
      "  8.31190889e-02]\n",
      " [0.00000000e+00 5.24615071e-01 8.32667268e-17 2.88774097e-01\n",
      "  1.86610832e-01]\n",
      " [3.01036749e-01 5.55111512e-17 1.44907525e-01 0.00000000e+00\n",
      "  5.54055726e-01]\n",
      " [0.00000000e+00 0.00000000e+00 3.92136184e-01 3.56654779e-01\n",
      "  2.51209037e-01]\n",
      " [4.18645639e-01 2.77555756e-17 5.48843890e-01 0.00000000e+00\n",
      "  3.25104709e-02]\n",
      " [2.87803778e-01 2.76264996e-01 3.20913894e-02 2.17045886e-01\n",
      "  1.86793951e-01]\n",
      " [1.11022302e-16 5.55111512e-17 6.51394910e-01 2.84797297e-01\n",
      "  6.38077938e-02]\n",
      " [0.00000000e+00 3.43876011e-01 2.59980098e-01 7.58928131e-02\n",
      "  3.20251078e-01]\n",
      " [0.00000000e+00 3.64220781e-01 0.00000000e+00 2.52916104e-01\n",
      "  3.82863114e-01]]\n",
      "[ 0.17228923 14.99286642 24.67133527 13.72859697 11.47777031 44.86850183\n",
      " 33.22377859 23.98521071 29.63972777 23.22710429 26.38273475 31.09073568\n",
      "  7.94287285 46.04496165 16.38485964 17.27529535  4.4246454  25.39862453\n",
      " 17.20515225 37.41460167]\n"
     ]
    }
   ],
   "source": [
    "print(X_sample)\n",
    "print(y_sample)"
   ]
  },
  {
   "cell_type": "code",
   "execution_count": 141,
   "metadata": {},
   "outputs": [
    {
     "name": "stdout",
     "output_type": "stream",
     "text": [
      "[[ 41.9651803  118.97163034  52.27229981]]\n"
     ]
    }
   ],
   "source": [
    "print(rgb_samples)"
   ]
  },
  {
   "cell_type": "code",
   "execution_count": 140,
   "metadata": {},
   "outputs": [
    {
     "data": {
      "image/png": "[encoded data removed]",
      "text/plain": [
       "<Figure size 800x600 with 1 Axes>"
      ]
     },
     "metadata": {},
     "output_type": "display_data"
    },
    {
     "data": {
      "image/png": "[encoded data removed]",
      "text/plain": [
       "<Figure size 1200x120 with 1 Axes>"
      ]
     },
     "metadata": {},
     "output_type": "display_data"
    },
    {
     "data": {
      "image/png": "[encoded data removed]",
      "text/plain": [
       "<Figure size 200x200 with 1 Axes>"
      ]
     },
     "metadata": {},
     "output_type": "display_data"
    },
    {
     "name": "stdout",
     "output_type": "stream",
     "text": [
      "Optimal RGB: [126 200   8  76  44]\n",
      "Closest distance to target color: 0.17228923042061808\n"
     ]
    }
   ],
   "source": [
    "X_sample_denorm = denormalize_rgb(X_sample)\n",
    "\n",
    "# Visualization of results\n",
    "# Plot convergence\n",
    "plt.figure(figsize=(8, 6))\n",
    "plt.plot(range(1, len(y_sample) + 1), y_sample, marker='o', linestyle='-', color='b')\n",
    "plt.title('Convergence of Bayesian Optimization')\n",
    "plt.xlabel('Iteration')\n",
    "plt.ylabel('Distance to Target Color')\n",
    "plt.grid(True)\n",
    "plt.show()\n",
    "\n",
    "# Visualize the final selected colors\n",
    "visualize_color_selection(rgb_samples, target_rgb)\n",
    "\n",
    "# Display final results\n",
    "optimal_rgb = X_sample_denorm[np.argmin(y_sample)]\n",
    "print(\"Optimal RGB:\", optimal_rgb)\n",
    "print(\"Closest distance to target color:\", np.min(y_sample))"
   ]
  },
  {
   "cell_type": "code",
   "execution_count": 142,
   "metadata": {},
   "outputs": [],
   "source": [
    "import pandas as pd \n",
    "# Denormalize RGB values\n",
    "X_sample_denorm = denormalize_volume_vector(X_sample, sample_volume)\n",
    "\n",
    "# Convert data to DataFrame\n",
    "df = pd.DataFrame(X_sample_denorm, columns=['C', 'M', 'Y', 'K', 'W'])\n",
    "df['Distance'] = y_sample  # Convert back to positive distances\n",
    "df['Iteration'] = range(1, len(y_sample) + 1)\n",
    "\n",
    "# Find the optimal RGB and its corresponding distance\n",
    "optimal_index = np.argmin(y_sample)\n",
    "optimal_rgb = X_sample_denorm[optimal_index]\n",
    "optimal_distance = np.min(y_sample)\n",
    "\n",
    "df.loc[len(df)] = ['OPTIMAL', *optimal_rgb, optimal_distance]\n",
    "# Append optimal values to DataFrame\n",
    "\n",
    "\n",
    "# Save to CSV\n",
    "df.to_csv(\"C:/science-jubilee/axo/bodata/result/optimization_results_7_ciedelta.csv\", index=False)"
   ]
  },
  {
   "cell_type": "code",
   "execution_count": 27,
   "metadata": {},
   "outputs": [],
   "source": [
    "# Results\n",
    "axo.park_tool()"
   ]
  },
  {
   "cell_type": "code",
   "execution_count": 39,
   "metadata": {},
   "outputs": [],
   "source": [
    "axo.pickup_tool(P20)"
   ]
  },
  {
   "cell_type": "code",
   "execution_count": 49,
   "metadata": {},
   "outputs": [],
   "source": [
    "P20.pickup_tip(tiprack['C8'])\n",
    "P20.return_tip(tiprack['C8'])"
   ]
  },
  {
   "cell_type": "code",
   "execution_count": 34,
   "metadata": {},
   "outputs": [],
   "source": [
    "P20._dispense(vol=600)"
   ]
  },
  {
   "cell_type": "code",
   "execution_count": 44,
   "metadata": {},
   "outputs": [
    {
     "ename": "ToolStateError",
     "evalue": "Error: Tool Pipette is not the current `Active Tool`. Cannot perform this action",
     "output_type": "error",
     "traceback": [
      "\u001b[1;31m---------------------------------------------------------------------------\u001b[0m",
      "\u001b[1;31mToolStateError\u001b[0m                            Traceback (most recent call last)",
      "Cell \u001b[1;32mIn[44], line 1\u001b[0m\n\u001b[1;32m----> 1\u001b[0m \u001b[43mP20\u001b[49m\u001b[38;5;241;43m.\u001b[39;49m\u001b[43m_aspirate\u001b[49m\u001b[43m(\u001b[49m\u001b[43mvol\u001b[49m\u001b[38;5;241;43m=\u001b[39;49m\u001b[38;5;241;43m1000\u001b[39;49m\u001b[43m,\u001b[49m\u001b[43m \u001b[49m\u001b[43ms\u001b[49m\u001b[38;5;241;43m=\u001b[39;49m\u001b[38;5;241;43m800\u001b[39;49m\u001b[43m)\u001b[49m\n",
      "File \u001b[1;32mC:\\science-jubilee\\src\\science_jubilee\\tools\\Tool.py:45\u001b[0m, in \u001b[0;36mrequires_active_tool.<locals>.wrapper\u001b[1;34m(self, *args, **kwargs)\u001b[0m\n\u001b[0;32m     43\u001b[0m \u001b[38;5;28;01mdef\u001b[39;00m \u001b[38;5;21mwrapper\u001b[39m(\u001b[38;5;28mself\u001b[39m, \u001b[38;5;241m*\u001b[39margs, \u001b[38;5;241m*\u001b[39m\u001b[38;5;241m*\u001b[39mkwargs):\n\u001b[0;32m     44\u001b[0m     \u001b[38;5;28;01mif\u001b[39;00m \u001b[38;5;28mself\u001b[39m\u001b[38;5;241m.\u001b[39mis_active_tool \u001b[38;5;241m==\u001b[39m \u001b[38;5;28;01mFalse\u001b[39;00m:\n\u001b[1;32m---> 45\u001b[0m         \u001b[38;5;28;01mraise\u001b[39;00m ToolStateError(\n\u001b[0;32m     46\u001b[0m             \u001b[38;5;124mf\u001b[39m\u001b[38;5;124m\"\u001b[39m\u001b[38;5;124mError: Tool \u001b[39m\u001b[38;5;132;01m{\u001b[39;00m\u001b[38;5;28mself\u001b[39m\u001b[38;5;241m.\u001b[39mname\u001b[38;5;132;01m}\u001b[39;00m\u001b[38;5;124m is not the current `Active Tool`. Cannot perform this action\u001b[39m\u001b[38;5;124m\"\u001b[39m\n\u001b[0;32m     47\u001b[0m         )\n\u001b[0;32m     48\u001b[0m     \u001b[38;5;28;01melse\u001b[39;00m:\n\u001b[0;32m     49\u001b[0m         \u001b[38;5;28;01mreturn\u001b[39;00m func(\u001b[38;5;28mself\u001b[39m, \u001b[38;5;241m*\u001b[39margs, \u001b[38;5;241m*\u001b[39m\u001b[38;5;241m*\u001b[39mkwargs)\n",
      "\u001b[1;31mToolStateError\u001b[0m: Error: Tool Pipette is not the current `Active Tool`. Cannot perform this action"
     ]
    }
   ],
   "source": [
    "P20._aspirate(vol=1000, s=800)"
   ]
  },
  {
   "cell_type": "code",
   "execution_count": 50,
   "metadata": {},
   "outputs": [],
   "source": [
    "axo.pickup_tool(P20)"
   ]
  },
  {
   "cell_type": "code",
   "execution_count": 51,
   "metadata": {},
   "outputs": [],
   "source": [
    "P20.pickup_tip(tiprack['A1'])"
   ]
  },
  {
   "cell_type": "code",
   "execution_count": 52,
   "metadata": {},
   "outputs": [],
   "source": [
    "P20.return_tip(tiprack['A1'])"
   ]
  },
  {
   "cell_type": "code",
   "execution_count": 53,
   "metadata": {},
   "outputs": [],
   "source": [
    "axo.park_tool()"
   ]
  },
  {
   "cell_type": "code",
   "execution_count": 338,
   "metadata": {},
   "outputs": [],
   "source": [
    "axo.safe_z_movement()"
   ]
  },
  {
   "cell_type": "code",
   "execution_count": 14,
   "metadata": {},
   "outputs": [],
   "source": [
    "P20.aspirate(vol = 500, location = stocks['A1'], s=4000)"
   ]
  },
  {
   "cell_type": "code",
   "execution_count": null,
   "metadata": {},
   "outputs": [],
   "source": [
    "P20.dispense(vol = 500, location = samples['A1'], s=4000)\n"
   ]
  },
  {
   "cell_type": "code",
   "execution_count": 35,
   "metadata": {},
   "outputs": [],
   "source": [
    "P20.drop_tip(trash[0])"
   ]
  },
  {
   "cell_type": "code",
   "execution_count": null,
   "metadata": {},
   "outputs": [],
   "source": [
    "axo.move_to(z=180)"
   ]
  },
  {
   "cell_type": "code",
   "execution_count": 36,
   "metadata": {},
   "outputs": [],
   "source": [
    "axo.park_tool()"
   ]
  },
  {
   "cell_type": "code",
   "execution_count": 17,
   "metadata": {},
   "outputs": [
    {
     "data": {
      "text/plain": [
       "{'X': '220.880',\n",
       " 'Y': '48.580',\n",
       " 'Z': '180.000',\n",
       " 'U': '79.993',\n",
       " 'V': '-100.000',\n",
       " 'E': '0.000'}"
      ]
     },
     "execution_count": 17,
     "metadata": {},
     "output_type": "execute_result"
    }
   ],
   "source": [
    "axo.get_position()"
   ]
  },
  {
   "cell_type": "code",
   "execution_count": 63,
   "metadata": {},
   "outputs": [],
   "source": [
    "axo.pickup_tool(camera)"
   ]
  },
  {
   "cell_type": "code",
   "execution_count": 41,
   "metadata": {},
   "outputs": [
    {
     "name": "stdout",
     "output_type": "stream",
     "text": [
      "Server is not running. Starting it now...\n",
      "Flask server started successfully.\n",
      "Give 12 second to make camera stabilize\n"
     ]
    },
    {
     "data": {
      "text/plain": [
       "True"
      ]
     },
     "execution_count": 41,
     "metadata": {},
     "output_type": "execute_result"
    }
   ],
   "source": [
    "camera.start_video_stream_server()"
   ]
  },
  {
   "cell_type": "code",
   "execution_count": 43,
   "metadata": {},
   "outputs": [
    {
     "name": "stdout",
     "output_type": "stream",
     "text": [
      "Error or insufficient circles detected in blurred image: No valid circles detected in blurred image.. Retrying with binary image...\n"
     ]
    },
    {
     "data": {
      "text/plain": [
       "(array([[[251, 252, 248],\n",
       "         [250, 251, 247],\n",
       "         [247, 251, 245],\n",
       "         ...,\n",
       "         [254, 250, 255],\n",
       "         [254, 250, 255],\n",
       "         [254, 250, 255]],\n",
       " \n",
       "        [[250, 251, 247],\n",
       "         [248, 252, 247],\n",
       "         [248, 252, 246],\n",
       "         ...,\n",
       "         [254, 250, 255],\n",
       "         [254, 250, 255],\n",
       "         [254, 250, 255]],\n",
       " \n",
       "        [[247, 251, 246],\n",
       "         [248, 252, 247],\n",
       "         [248, 252, 246],\n",
       "         ...,\n",
       "         [254, 250, 255],\n",
       "         [254, 250, 255],\n",
       "         [254, 250, 255]],\n",
       " \n",
       "        ...,\n",
       " \n",
       "        [[253, 251, 240],\n",
       "         [253, 251, 240],\n",
       "         [252, 252, 240],\n",
       "         ...,\n",
       "         [254, 250, 255],\n",
       "         [254, 250, 255],\n",
       "         [254, 250, 255]],\n",
       " \n",
       "        [[252, 252, 240],\n",
       "         [252, 252, 240],\n",
       "         [252, 252, 240],\n",
       "         ...,\n",
       "         [254, 250, 255],\n",
       "         [254, 250, 255],\n",
       "         [254, 250, 255]],\n",
       " \n",
       "        [[252, 252, 240],\n",
       "         [252, 252, 240],\n",
       "         [252, 252, 240],\n",
       "         ...,\n",
       "         [254, 250, 255],\n",
       "         [254, 250, 255],\n",
       "         [254, 250, 255]]], shape=(480, 640, 3), dtype=uint8),\n",
       " {'R': np.float64(235.9797858924676),\n",
       "  'G': np.float64(239.24023122877105),\n",
       "  'B': np.float64(229.36731500317572)})"
      ]
     },
     "execution_count": 43,
     "metadata": {},
     "output_type": "execute_result"
    }
   ],
   "source": [
    "process_camera(all_wells['initial_camera_wells'][2])"
   ]
  },
  {
   "cell_type": "code",
   "execution_count": 25,
   "metadata": {},
   "outputs": [],
   "source": [
    "image_data = camera.capture_image(camera_well[4], light= True, light_intensity= 1.0)"
   ]
  },
  {
   "cell_type": "code",
   "execution_count": 49,
   "metadata": {},
   "outputs": [
    {
     "name": "stdout",
     "output_type": "stream",
     "text": [
      "Well A2 form Custom 24 Well Plate on slot 2\n"
     ]
    }
   ],
   "source": [
    "print(camera_well[1])"
   ]
  },
  {
   "cell_type": "code",
   "execution_count": null,
   "metadata": {},
   "outputs": [],
   "source": []
  },
  {
   "cell_type": "code",
   "execution_count": null,
   "metadata": {},
   "outputs": [],
   "source": [
    "x, y, z  = Labware._getxyz(camera_well[1])"
   ]
  },
  {
   "cell_type": "code",
   "execution_count": 51,
   "metadata": {},
   "outputs": [],
   "source": [
    "axo.move_to(z=205)"
   ]
  },
  {
   "cell_type": "code",
   "execution_count": 66,
   "metadata": {},
   "outputs": [],
   "source": [
    "x, y, _ = Labware._getxyz(camera_well['D6'])\n",
    "x = x-14.3\n",
    "y = y - 100.8\n",
    "axo.move_to(x, y)\n",
    "#axo.move_to(x=34.8, y=74.5)"
   ]
  },
  {
   "cell_type": "code",
   "execution_count": 117,
   "metadata": {},
   "outputs": [
    {
     "ename": "KeyboardInterrupt",
     "evalue": "",
     "output_type": "error",
     "traceback": [
      "\u001b[1;31m---------------------------------------------------------------------------\u001b[0m",
      "\u001b[1;31mKeyboardInterrupt\u001b[0m                         Traceback (most recent call last)",
      "Cell \u001b[1;32mIn[117], line 7\u001b[0m\n\u001b[0;32m      5\u001b[0m y \u001b[38;5;241m=\u001b[39m y \u001b[38;5;241m-\u001b[39m \u001b[38;5;241m100.8\u001b[39m\n\u001b[0;32m      6\u001b[0m axo\u001b[38;5;241m.\u001b[39mmove_to(x, y)\n\u001b[1;32m----> 7\u001b[0m \u001b[43mtime\u001b[49m\u001b[38;5;241;43m.\u001b[39;49m\u001b[43msleep\u001b[49m\u001b[43m(\u001b[49m\u001b[38;5;241;43m5\u001b[39;49m\u001b[43m)\u001b[49m\n\u001b[0;32m      8\u001b[0m \u001b[38;5;66;03m#image_data, rgb_results = camera.detect_and_draw_wells(image_data)\u001b[39;00m\n",
      "\u001b[1;31mKeyboardInterrupt\u001b[0m: "
     ]
    }
   ],
   "source": [
    "for i in range(24):\n",
    "    #image_data = camera.capture_image(camera_well[i], light= True, light_intensity= 0.5)\n",
    "    x, y, _ = Labware._getxyz(camera_well[i])\n",
    "    x = x-14.3\n",
    "    y = y - 100.8\n",
    "    axo.move_to(x, y)\n",
    "    time.sleep(5)\n",
    "    #image_data, rgb_results = camera.detect_and_draw_wells(image_data)"
   ]
  },
  {
   "cell_type": "code",
   "execution_count": 15,
   "metadata": {},
   "outputs": [
    {
     "name": "stdout",
     "output_type": "stream",
     "text": [
      "Error or insufficient circles detected in blurred image: No valid circles detected in blurred image.. Retrying with binary image...\n"
     ]
    }
   ],
   "source": [
    "image_data, rgb_results = camera.detect_and_draw_wells(image_data)"
   ]
  },
  {
   "cell_type": "code",
   "execution_count": 74,
   "metadata": {},
   "outputs": [
    {
     "name": "stdout",
     "output_type": "stream",
     "text": [
      "{'R': np.float64(95.91151199076647), 'G': np.float64(149.51535929551576), 'B': np.float64(96.90657889112127)}\n"
     ]
    }
   ],
   "source": [
    "print(rgb_results)"
   ]
  },
  {
   "cell_type": "code",
   "execution_count": 60,
   "metadata": {},
   "outputs": [],
   "source": [
    "import cv2 \n",
    " # Display the image\n",
    "cv2.imshow(\"Image Display\", image_data)\n",
    "\n",
    "    # Wait for a key press to close the image window\n",
    "cv2.waitKey(0)\n",
    "\n",
    "    # Close all OpenCV windows\n",
    "cv2.destroyAllWindows()"
   ]
  },
  {
   "cell_type": "code",
   "execution_count": 60,
   "metadata": {},
   "outputs": [],
   "source": [
    "axo.park_tool()"
   ]
  },
  {
   "cell_type": "code",
   "execution_count": 270,
   "metadata": {},
   "outputs": [],
   "source": [
    "axo.move_to(x=30.5, y=74.3)"
   ]
  },
  {
   "cell_type": "code",
   "execution_count": 29,
   "metadata": {},
   "outputs": [
    {
     "data": {
      "text/plain": [
       "(127.28999999999999, 172.1, 3.5)"
      ]
     },
     "execution_count": 29,
     "metadata": {},
     "output_type": "execute_result"
    }
   ],
   "source": [
    "Labware._getxyz(camera_well['A3'])"
   ]
  },
  {
   "cell_type": "code",
   "execution_count": 62,
   "metadata": {},
   "outputs": [],
   "source": [
    "P20.drop_tip(trash[0])"
   ]
  },
  {
   "cell_type": "code",
   "execution_count": 39,
   "metadata": {},
   "outputs": [
    {
     "data": {
      "text/plain": [
       "'-100.000'"
      ]
     },
     "execution_count": 39,
     "metadata": {},
     "output_type": "execute_result"
    }
   ],
   "source": [
    "axo.get_position()['V']"
   ]
  },
  {
   "cell_type": "code",
   "execution_count": null,
   "metadata": {},
   "outputs": [],
   "source": [
    "TARGET_RGB = np.array([])"
   ]
  },
  {
   "cell_type": "code",
   "execution_count": 98,
   "metadata": {},
   "outputs": [
    {
     "name": "stdout",
     "output_type": "stream",
     "text": [
      "CIE ΔE₀₀ difference: 23.068\n"
     ]
    }
   ],
   "source": [
    "\n",
    "def rgb_to_lab(rgb):\n",
    "    \"\"\"\n",
    "    Convert an sRGB color (with components in [0, 255]) to CIELAB.\n",
    "    Uses the D65 white reference.\n",
    "    \"\"\"\n",
    "    # Normalize RGB to [0, 1]\n",
    "    rgb = np.array(rgb, dtype=np.float64) / 255.0\n",
    "    \n",
    "    # Convert sRGB to linear RGB\n",
    "    def to_linear(c):\n",
    "        return c / 12.92 if c <= 0.04045 else ((c + 0.055) / 1.055) ** 2.4\n",
    "    linear_rgb = np.array([to_linear(c) for c in rgb])\n",
    "    \n",
    "    # Convert linear RGB to XYZ using the standard sRGB matrix (D65)\n",
    "    M = np.array([[0.4124564, 0.3575761, 0.1804375],\n",
    "                  [0.2126729, 0.7151522, 0.0721750],\n",
    "                  [0.0193339, 0.1191920, 0.9503041]])\n",
    "    XYZ = np.dot(M, linear_rgb)\n",
    "    \n",
    "    # Normalize for D65 white point (using reference values for X, Y, Z)\n",
    "    X, Y, Z = XYZ / np.array([0.95047, 1.00000, 1.08883])\n",
    "    \n",
    "    # Helper function for XYZ -> Lab conversion\n",
    "    def f(t):\n",
    "        delta = 6/29\n",
    "        return t ** (1/3) if t > delta**3 else (t / (3 * delta**2) + 4/29)\n",
    "    \n",
    "    fX, fY, fZ = f(X), f(Y), f(Z)\n",
    "    L = 116 * fY - 16\n",
    "    a = 500 * (fX - fY)\n",
    "    b = 200 * (fY - fZ)\n",
    "    \n",
    "    return np.array([L, a, b])\n",
    "\n",
    "def delta_e_ciede2000(lab1, lab2):\n",
    "    \"\"\"\n",
    "    Computes the CIE ΔE₀₀ color difference between two CIELAB colors.\n",
    "    \"\"\"\n",
    "    L1, a1, b1 = lab1\n",
    "    L2, a2, b2 = lab2\n",
    "\n",
    "    C1 = np.sqrt(a1**2 + b1**2)\n",
    "    C2 = np.sqrt(a2**2 + b2**2)\n",
    "    C_bar = 0.5 * (C1 + C2)\n",
    "    \n",
    "    G = 0.5 * (1 - np.sqrt((C_bar**7) / (C_bar**7 + 25**7)))\n",
    "    a1_prime = (1 + G) * a1\n",
    "    a2_prime = (1 + G) * a2\n",
    "    C1_prime = np.sqrt(a1_prime**2 + b1**2)\n",
    "    C2_prime = np.sqrt(a2_prime**2 + b2**2)\n",
    "    \n",
    "    def calc_h(a, b):\n",
    "        h = np.degrees(np.arctan2(b, a))\n",
    "        return h + 360 if h < 0 else h\n",
    "    h1_prime = calc_h(a1_prime, b1)\n",
    "    h2_prime = calc_h(a2_prime, b2)\n",
    "    \n",
    "    delta_L_prime = L2 - L1\n",
    "    delta_C_prime = C2_prime - C1_prime\n",
    "    \n",
    "    # Compute delta h'\n",
    "    if C1_prime * C2_prime == 0:\n",
    "        delta_h_prime = 0\n",
    "    else:\n",
    "        dh = h2_prime - h1_prime\n",
    "        if abs(dh) <= 180:\n",
    "            delta_h_prime = dh\n",
    "        elif dh > 180:\n",
    "            delta_h_prime = dh - 360\n",
    "        else:  # dh < -180\n",
    "            delta_h_prime = dh + 360\n",
    "    delta_H_prime = 2 * np.sqrt(C1_prime * C2_prime) * np.sin(np.radians(delta_h_prime / 2))\n",
    "    \n",
    "    # Average values\n",
    "    L_bar_prime = (L1 + L2) / 2.0\n",
    "    C_bar_prime = (C1_prime + C2_prime) / 2.0\n",
    "    \n",
    "    if C1_prime * C2_prime == 0:\n",
    "        h_bar_prime = h1_prime + h2_prime\n",
    "    else:\n",
    "        if abs(h1_prime - h2_prime) <= 180:\n",
    "            h_bar_prime = (h1_prime + h2_prime) / 2.0\n",
    "        elif (h1_prime + h2_prime) < 360:\n",
    "            h_bar_prime = (h1_prime + h2_prime + 360) / 2.0\n",
    "        else:\n",
    "            h_bar_prime = (h1_prime + h2_prime - 360) / 2.0\n",
    "    \n",
    "    T = (1 - 0.17 * np.cos(np.radians(h_bar_prime - 30)) +\n",
    "         0.24 * np.cos(np.radians(2 * h_bar_prime)) +\n",
    "         0.32 * np.cos(np.radians(3 * h_bar_prime + 6)) -\n",
    "         0.20 * np.cos(np.radians(4 * h_bar_prime - 63)))\n",
    "    \n",
    "    delta_theta = 30 * np.exp(-((h_bar_prime - 275) / 25)**2)\n",
    "    R_C = 2 * np.sqrt((C_bar_prime**7) / (C_bar_prime**7 + 25**7))\n",
    "    S_L = 1 + ((0.015 * (L_bar_prime - 50)**2) / np.sqrt(20 + (L_bar_prime - 50)**2))\n",
    "    S_C = 1 + 0.045 * C_bar_prime\n",
    "    S_H = 1 + 0.015 * C_bar_prime * T\n",
    "    R_T = -np.sin(np.radians(2 * delta_theta)) * R_C\n",
    "    \n",
    "    delta_E = np.sqrt(\n",
    "        (delta_L_prime / S_L) ** 2 +\n",
    "        (delta_C_prime / S_C) ** 2 +\n",
    "        (delta_H_prime / S_H) ** 2 +\n",
    "        R_T * (delta_C_prime / S_C) * (delta_H_prime / S_H)\n",
    "    )\n",
    "    \n",
    "    return delta_E\n",
    "\n",
    "def color_objective(rgb, target_rgb=(128, 128, 128)):\n",
    "    \"\"\"\n",
    "    Computes the CIE ΔE color difference between a candidate RGB value and a target RGB value.\n",
    "    \n",
    "    Parameters:\n",
    "        rgb : array-like\n",
    "            Candidate RGB value, e.g., [R, G, B] with each value in [0, 255].\n",
    "        target_rgb : tuple (default: (128, 128, 128))\n",
    "            The target RGB value.\n",
    "    \n",
    "    Returns:\n",
    "        float : The CIE ΔE₀₀ color difference.\n",
    "    \"\"\"\n",
    "    lab1 = rgb_to_lab(rgb)\n",
    "    lab2 = rgb_to_lab(target_rgb)\n",
    "    return delta_e_ciede2000(lab1, lab2)\n",
    "\n",
    "# Example usage:\n",
    "if __name__ == '__main__':\n",
    "    candidate = [200, 150, 100]\n",
    "    target = [128, 128, 128]\n",
    "    delta_e = color_objective(candidate, target)\n",
    "    print(f\"CIE ΔE₀₀ difference: {delta_e:.3f}\")"
   ]
  },
  {
   "cell_type": "code",
   "execution_count": 100,
   "metadata": {},
   "outputs": [
    {
     "name": "stdout",
     "output_type": "stream",
     "text": [
      "CIE ΔE₀₀ difference: 23.068\n"
     ]
    }
   ],
   "source": [
    "import numpy as np\n",
    "from skimage import color\n",
    "\n",
    "def rgb_to_lab_scikit(rgb):\n",
    "    \"\"\"\n",
    "    Convert an RGB color (with components in [0, 255]) to CIELAB using scikit-image.\n",
    "    \n",
    "    Parameters:\n",
    "        rgb : array-like\n",
    "            RGB values, e.g., [R, G, B] with each in [0, 255].\n",
    "    \n",
    "    Returns:\n",
    "        lab : ndarray\n",
    "            The corresponding CIELAB color as an array [L, a, b].\n",
    "    \"\"\"\n",
    "    # Normalize RGB values to the range [0, 1]\n",
    "    rgb_norm = np.array(rgb, dtype=np.float64) / 255.0\n",
    "    # Reshape to (1, 1, 3) so that rgb2lab works correctly\n",
    "    rgb_norm = rgb_norm.reshape((1, 1, 3))\n",
    "    lab = color.rgb2lab(rgb_norm)\n",
    "    return lab[0, 0, :]\n",
    "\n",
    "def color_objective(rgb, target_rgb=(128, 128, 128)):\n",
    "    \"\"\"\n",
    "    Computes the CIE ΔE₀₀ color difference between a candidate RGB value and a target RGB value\n",
    "    using scikit-image's color conversion and ΔE calculation functions.\n",
    "    \n",
    "    Parameters:\n",
    "        rgb : array-like\n",
    "            Candidate RGB value, e.g., [R, G, B] with each value in [0, 255].\n",
    "        target_rgb : tuple, optional\n",
    "            The target RGB value (default is (128, 128, 128)).\n",
    "    \n",
    "    Returns:\n",
    "        float : The CIE ΔE₀₀ color difference between the candidate and target colors.\n",
    "    \"\"\"\n",
    "    # Convert both candidate and target RGB to Lab\n",
    "    lab1 = rgb_to_lab_scikit(rgb)\n",
    "    lab2 = rgb_to_lab_scikit(target_rgb)\n",
    "    \n",
    "    # scikit-image's deltaE_ciede2000 expects arrays of shape (..., 3)\n",
    "    delta_e = color.deltaE_ciede2000(np.array([lab1]), np.array([lab2]))[0]\n",
    "    return delta_e\n",
    "\n",
    "# Example usage:\n",
    "if __name__ == '__main__':\n",
    "    candidate_rgb = np.array([200, 150, 100])\n",
    "    target_rgb = np.array([128, 128, 128])\n",
    "    delta_e = color_objective(candidate_rgb, target_rgb)\n",
    "    print(f\"CIE ΔE₀₀ difference: {delta_e:.3f}\")"
   ]
  }
 ],
 "metadata": {
  "kernelspec": {
   "display_name": "axo",
   "language": "python",
   "name": "python3"
  },
  "language_info": {
   "codemirror_mode": {
    "name": "ipython",
    "version": 3
   },
   "file_extension": ".py",
   "mimetype": "text/x-python",
   "name": "python",
   "nbconvert_exporter": "python",
   "pygments_lexer": "ipython3",
   "version": "3.13.1"
  }
 },
 "nbformat": 4,
 "nbformat_minor": 2
}
