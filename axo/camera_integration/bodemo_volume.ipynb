{
 "cells": [
  {
   "cell_type": "code",
   "execution_count": 44,
   "metadata": {},
   "outputs": [],
   "source": [
    "import numpy as np\n",
    "import time \n",
    "import matplotlib.pyplot as plt\n",
    "from sklearn.gaussian_process import GaussianProcessRegressor\n",
    "from sklearn.gaussian_process.kernels import RBF, WhiteKernel, ConstantKernel as C\n",
    "from scipy.stats import qmc, norm\n",
    "from scipy.optimize import minimize\n",
    "from typing import Iterator, List, Tuple, Union\n",
    "\n",
    "from science_jubilee.Machine import Machine\n",
    "from science_jubilee.tools.Tool import Tool\n",
    "from science_jubilee.decks.Deck import Deck\n",
    "from science_jubilee.labware.Labware import Labware, Location, Well\n",
    "from science_jubilee.tools.Pipette import Pipette\n",
    "from science_jubilee.bo.newcamera2 import Cam\n",
    "\n",
    "from skimage import color"
   ]
  },
  {
   "cell_type": "markdown",
   "metadata": {},
   "source": [
    "**Set the Deck, Labware, Camera, Pipette for manual experiment**"
   ]
  },
  {
   "cell_type": "code",
   "execution_count": 45,
   "metadata": {},
   "outputs": [
    {
     "name": "stdout",
     "output_type": "stream",
     "text": [
      "New manual offset applied to opentrons_96_tiprack_1000ul\n",
      "Manual offset saved\n",
      "New manual offset applied to corning_24_wellplate_3.4ml_flat\n",
      "Manual offset saved\n",
      "New manual offset applied to corning_6_wellplate_16.8ml_flat\n",
      "Manual offset saved\n"
     ]
    }
   ],
   "source": [
    "deck = Deck(\"lab_automation_deck\") # We are not using the deck, so operate any deck.json \n",
    "tiprack = deck.load_labware(labware_filename = 'opentrons_96_tiprack_1000ul', slot = 5)   # Load an opentrons 20uL\n",
    "tiprack.manual_offset([[265.2, 214.5],[166.3, 214.5],[166.3, 277.7]], save = True)   # Save through list of list. List of coordinates should be A1 A12 H12 subsequently. \n",
    "#tiprack.manual_offset([[269, 221.6],[170, 221.6],[170, 284.6]], save = True)\n",
    "trash = deck.load_labware('agilent_1_reservoir_290ml.json', 0)\n",
    "samples = deck.load_labware('corning_24_wellplate_3.4ml_flat', slot = 2)\n",
    "samples.manual_offset([[124.7, 120.7],[29.9, 120.7], [29.9, 176.7]], save = True)\n",
    "stocks = deck.load_labware('corning_6_wellplate_16.8ml.json', slot = 3)\n",
    "stocks.manual_offset([[255.9, 131.6], [176.9, 131.6], [176.9, 170.6]], save = True)\n",
    "#camera_well = deck.load_labware(\"cam_wellplate_96.json\", slot = 2)\n",
    "camera_well = deck.load_labware(\"updated_cam_wellplate_24.json\", slot = 2)"
   ]
  },
  {
   "cell_type": "markdown",
   "metadata": {},
   "source": [
    "## **Connect Axo.Jubilee** ##"
   ]
  },
  {
   "cell_type": "code",
   "execution_count": 47,
   "metadata": {},
   "outputs": [
    {
     "name": "stdout",
     "output_type": "stream",
     "text": [
      "Warning: disconnecting this application from the network will halt connection to Jubilee.\n"
     ]
    }
   ],
   "source": [
    "axo = Machine(address = \"192.168.1.4\")\n",
    "axo.home_all()"
   ]
  },
  {
   "cell_type": "code",
   "execution_count": 48,
   "metadata": {},
   "outputs": [],
   "source": [
    "axo.move_to(z=180)"
   ]
  },
  {
   "cell_type": "markdown",
   "metadata": {},
   "source": []
  },
  {
   "cell_type": "code",
   "execution_count": 49,
   "metadata": {},
   "outputs": [
    {
     "name": "stdout",
     "output_type": "stream",
     "text": [
      "New manual offset applied to opentrons_96_tiprack_1000ul\n",
      "New manual offset applied to corning_24_wellplate_3.4ml_flat\n",
      "New manual offset applied to corning_6_wellplate_16.8ml_flat\n"
     ]
    }
   ],
   "source": [
    "deck = axo.load_deck(\"lab_automation_deck\")\n",
    "tiprack = axo.load_labware(\"opentrons_96_tiprack_1000ul\", 5)\n",
    "tiprack.load_manualOffset()\n",
    "trash = axo.load_labware('agilent_1_reservoir_290ml.json', 1)\n",
    "#pipette = Pipette(0, \"Pipette\", brand = \"opentron\", model = \"config\", max_volume= 20, min_volume= 0, zero_position = (0,0,0),\\\n",
    "#    blowout_position=None, drop_tip_position = None, mm_to_ul = None)# model = \"config\")\n",
    "samples = axo.load_labware('corning_24_wellplate_3.4ml_flat', 2)\n",
    "samples.load_manualOffset()\n",
    "stocks = axo.load_labware('corning_6_wellplate_16.8ml.json', 3)\n",
    "stocks.load_manualOffset()\n",
    "# camera_well = axo.load_labware(\"cam_wellplate_96.json\", slot = 2)\n",
    "camera_well = axo.load_labware(\"updated_cam_wellplate_24.json\", slot = 2)"
   ]
  },
  {
   "cell_type": "code",
   "execution_count": 51,
   "metadata": {},
   "outputs": [],
   "source": [
    "# Load the camera tool, Pipette\n",
    "P20 = Pipette.from_config(0, 'Pipette', 'P300_config.json')\n",
    "#camera = Cam(1, \"Camera\", '192.168.1.2', 'Sun92023', 'axo', 'C:/science-jubilee/axo/bodata', light=True, light_pin= 0)\n",
    "camera = Cam(1, \"Camera\", '192.168.1.2', 'C:/science-jubilee/axo/bodata/3-5-2025', 50, light= True, light_pin = 0)\n",
    "axo.load_tool(camera)\n",
    "axo.load_tool(P20)\n",
    "P20.add_tiprack(tiprack)\n",
    "P20.trash = trash[0]"
   ]
  },
  {
   "cell_type": "markdown",
   "metadata": {},
   "source": [
    "## **Color Demo ( BO )** ## "
   ]
  },
  {
   "cell_type": "markdown",
   "metadata": {},
   "source": [
    "## **Functions** ##\n"
   ]
  },
  {
   "cell_type": "code",
   "execution_count": 52,
   "metadata": {},
   "outputs": [],
   "source": [
    "# Visualization of selected colors\n",
    "def visualize_color_selection(X_samples, target_color):\n",
    "    n_samples = len(X_samples)\n",
    "    colors_per_row = 10\n",
    "    n_rows = (n_samples + colors_per_row - 1) // colors_per_row\n",
    "\n",
    "    plt.figure(figsize=(12, n_rows * 1.2))\n",
    "    for idx, rgb in enumerate(X_samples):\n",
    "        row = idx // colors_per_row\n",
    "        col = idx % colors_per_row\n",
    "\n",
    "        plt.subplot(n_rows, colors_per_row, idx + 1)\n",
    "        plt.imshow([[rgb / 255.0]], extent=[0, 1, 0, 1])\n",
    "        plt.axis(\"off\")\n",
    "        plt.title(f\"Iter {idx + 1}\", fontsize=8)\n",
    "\n",
    "    plt.tight_layout()\n",
    "    plt.figure(figsize=(2, 2))\n",
    "    plt.imshow([[target_color / 255.0]], extent=[0, 1, 0, 1])\n",
    "    plt.axis(\"off\")\n",
    "    plt.title(\"Target Color\", fontsize=12)\n",
    "    plt.show()\n",
    "\n",
    "# To visualize one color and target color \n",
    "def visualize_one_color(X_sample, target_color, index):\n",
    "    plt.figure(figsize=(4, 2))\n",
    "    \n",
    "    # Plot the sample color\n",
    "    plt.subplot(1, 2, 1)\n",
    "    plt.imshow([[X_sample / 255.0]], extent=[0, 1, 0, 1])\n",
    "    plt.axis(\"off\")\n",
    "    plt.title(f\"Iter {index + 1}\", fontsize=12)\n",
    "    \n",
    "    plt.subplot(1, 2, 2)\n",
    "    plt.imshow([[target_color / 255.0]], extent=[0, 1, 0, 1])\n",
    "    plt.axis(\"off\")\n",
    "    plt.title(\"Target Color\", fontsize=12)\n",
    "    plt.tight_layout()\n",
    "    plt.show()\n",
    "    \n",
    "\n",
    "# To visualize one color and target color \n",
    "def visualize_two_color(X_sample, real_color, target_color, index):\n",
    "    plt.figure(figsize=(4, 2))\n",
    "    plt.title(f\"iter {index+1}\")\n",
    "    # Plot the sample color\n",
    "    plt.subplot(1, 3, 1)\n",
    "    plt.imshow([[X_sample / 255.0]], extent=[0, 1, 0, 1])\n",
    "    plt.axis(\"off\")\n",
    "    plt.title(f\"Proposed_RGB\", fontsize=12)\n",
    "    \n",
    "    plt.subplot(1, 3, 2)\n",
    "    plt.imshow([[real_color / 255.0]], extent=[0, 1, 0, 1])\n",
    "    plt.axis(\"off\")\n",
    "    plt.title(f\"Actual RGB\", fontsize=12)\n",
    "    \n",
    "    plt.subplot(1, 3, 3)\n",
    "    plt.imshow([[target_color / 255.0]], extent=[0, 1, 0, 1])\n",
    "    plt.axis(\"off\")\n",
    "    plt.title(\"Target Color\", fontsize=12)\n",
    "    plt.tight_layout()\n",
    "    plt.show()"
   ]
  },
  {
   "cell_type": "code",
   "execution_count": 54,
   "metadata": {},
   "outputs": [],
   "source": [
    "def latin_hypercube_sampling(n_samples, bounds):\n",
    "    \"\"\"\n",
    "    Generates sample points using Latin Hypercube Sampling (LHS).\n",
    "\n",
    "    Parameters:\n",
    "        n_samples : int\n",
    "            Number of samples to generate.\n",
    "        bounds : list or array-like of tuples\n",
    "            List of (min, max) pairs for each dimension.\n",
    "            e.g., [(0, 255), (0, 255), (0, 255)] for RGB.\n",
    "\n",
    "    Returns:\n",
    "        samples : ndarray of shape (n_samples, d)\n",
    "            The generated sample points.\n",
    "    \"\"\"\n",
    "    d = len(bounds)\n",
    "    samples = np.zeros((n_samples, d))\n",
    "\n",
    "    # For each dimension, create n_samples stratified intervals and randomly sample within each interval.\n",
    "    for i in range(d):\n",
    "        low, high = bounds[i]\n",
    "        # Create equally spaced intervals in [0,1]\n",
    "        intervals = np.linspace(0, 1, n_samples + 1)\n",
    "        # Sample one point uniformly from each interval.\n",
    "        temp = np.random.uniform(low=intervals[:-1], high=intervals[1:], size=n_samples)\n",
    "        # Shuffle the samples to ensure random pairing across dimensions.\n",
    "        np.random.shuffle(temp)\n",
    "        # Scale the samples to the bounds for dimension i.\n",
    "        samples[:, i] = low + temp * (high - low)\n",
    "\n",
    "    return samples\n",
    "\n",
    "\n",
    "# ------------------------------------------------\n",
    "# 3. Orthogonal Sampling\n",
    "# ------------------------------------------------\n",
    "def orthogonal_sampling(n_samples, bounds):\n",
    "    \"\"\"\n",
    "    Generates sample points using Orthogonal Sampling.\n",
    "\n",
    "    The idea is to divide each dimension into equal subdivisions (cells) so that the space is\n",
    "    partitioned into a grid. Then, a subset of the grid cells is chosen randomly (if necessary)\n",
    "    and one random point is sampled uniformly from each selected cell.\n",
    "\n",
    "    Parameters:\n",
    "        n_samples : int\n",
    "            Number of samples to generate.\n",
    "        bounds : list or array-like of tuples\n",
    "            List of (min, max) pairs for each dimension.\n",
    "            e.g., [(0, 255), (0, 255), (0, 255)] for RGB.\n",
    "\n",
    "    Returns:\n",
    "        samples : ndarray of shape (n_samples, d)\n",
    "            The generated sample points.\n",
    "    \"\"\"\n",
    "    d = len(bounds)\n",
    "    # Determine the number of divisions per dimension.\n",
    "    divisions = int(np.ceil(n_samples ** (1.0 / d)))\n",
    "    total_cells = divisions ** d\n",
    "\n",
    "    # Generate all possible cell indices as a grid.\n",
    "    grid_axes = [np.arange(divisions) for _ in range(d)]\n",
    "    grid = np.array(np.meshgrid(*grid_axes)).T.reshape(-1, d)\n",
    "\n",
    "    # Randomly choose n_samples unique cells.\n",
    "    if n_samples > total_cells:\n",
    "        raise ValueError(\"n_samples exceeds the total number of available cells in the grid.\")\n",
    "    chosen_cells = grid[np.random.choice(total_cells, n_samples, replace=False)]\n",
    "\n",
    "    samples = np.zeros((n_samples, d))\n",
    "    for i in range(d):\n",
    "        low, high = bounds[i]\n",
    "        cell_size = (high - low) / divisions\n",
    "        # For each chosen cell in dimension i, compute the lower bound and add a random offset.\n",
    "        cell_lower = low + chosen_cells[:, i] * cell_size\n",
    "        samples[:, i] = cell_lower + np.random.uniform(0, cell_size, n_samples)\n",
    "\n",
    "    return samples"
   ]
  },
  {
   "cell_type": "code",
   "execution_count": 55,
   "metadata": {},
   "outputs": [],
   "source": [
    "# Function to normalize RGB values\n",
    "def normalize(v, bounds):\n",
    "    lower = bounds[:,0]\n",
    "    upper = bounds[:,1]\n",
    "    #return (rgb / 255.0).astype(float)\n",
    "    return (v - lower) / (upper - lower)\n",
    "# Function to denormalize RGB values\n",
    "def denormalize(v, bounds):\n",
    "    lower = bounds[:, 0]\n",
    "    upper = bounds[:, 1]\n",
    "    #return (rgb * 255.0).astype(float)\n",
    "    return v * (upper - lower) + lower\n"
   ]
  },
  {
   "cell_type": "code",
   "execution_count": 56,
   "metadata": {},
   "outputs": [],
   "source": [
    "# Function to normalize RGB values\n",
    "def normalize_rgb(rgb):\n",
    "    return rgb / 255.0\n",
    "\n",
    "# Function to denormalize RGB values\n",
    "def denormalize_rgb(rgb):\n",
    "    return (rgb * 255.0).astype(int)"
   ]
  },
  {
   "cell_type": "code",
   "execution_count": 57,
   "metadata": {},
   "outputs": [],
   "source": [
    "def color_objective(rgb, target_rgb=(128, 128, 128)):\n",
    "    \"\"\"\n",
    "    Computes the squared Euclidean distance between a candidate RGB value and a target RGB value.\n",
    "\n",
    "    Parameters:\n",
    "        rgb : array-like\n",
    "            Candidate RGB value, e.g., [R, G, B] with each value in [0, 255].\n",
    "        target_rgb : tuple (default: (128, 128, 128))\n",
    "            The target RGB value.\n",
    "\n",
    "    Returns:\n",
    "        float : Squared Euclidean distance between rgb and target_rgb.\n",
    "    \"\"\"\n",
    "    rgb = np.array(rgb, dtype=np.float64)\n",
    "    target = np.array(target_rgb, dtype=np.float64)\n",
    "    return np.sum((rgb - target)**2)"
   ]
  },
  {
   "cell_type": "code",
   "execution_count": 58,
   "metadata": {},
   "outputs": [],
   "source": [
    "def color_objective_ciedelta(rgb, target_rgb=(128, 128, 128)):\n",
    "    \"\"\"\n",
    "    Computes the CIE ΔE color difference between a candidate RGB value and a target RGB value\n",
    "    using scikit-image's color conversion and ΔE calculation functions.\n",
    "\n",
    "    Parameters:\n",
    "        rgb : array-like\n",
    "            Candidate RGB value, e.g., [R, G, B] with each value in [0, 255].\n",
    "        target_rgb : tuple, optional\n",
    "            The target RGB value (default is (128, 128, 128)).\n",
    "\n",
    "    Returns:\n",
    "        float : The CIE ΔE color difference between the candidate and target colors.\n",
    "    \"\"\"\n",
    "    def rgb_to_lab(rgb_value):\n",
    "        # Normalize to [0, 1] and reshape to (1, 1, 3) for skimage\n",
    "        #rgb_norm = np.array(rgb_value, dtype=np.float64) / 255.0\n",
    "        rgb_norm = rgb_value.reshape((1, 1, 3))\n",
    "        lab = color.rgb2lab(rgb_norm)\n",
    "        return lab[0, 0, :]\n",
    "    \n",
    "    lab1 = rgb_to_lab(rgb)\n",
    "    lab2 = rgb_to_lab(target_rgb)\n",
    "    # scikit-image's deltaE_ciede2000 expects arrays of shape (..., 3)\n",
    "    delta_e = color.deltaE_ciede2000(np.array([lab1]), np.array([lab2]))[0]\n",
    "    return delta_e"
   ]
  },
  {
   "cell_type": "markdown",
   "metadata": {},
   "source": [
    "## **Color Mixing + Optimization + Camera** ##"
   ]
  },
  {
   "cell_type": "code",
   "execution_count": 59,
   "metadata": {},
   "outputs": [],
   "source": [
    "def denormalize_volume_vector(v, max_vol):\n",
    "    \"\"\"\n",
    "    Normalizes a 1D volume vector so that its entries are nonnegative\n",
    "    and sum to 1000 µL.\n",
    "    \n",
    "    Parameters:\n",
    "        v (array-like): Raw candidate volume vector. (normalized)\n",
    "        max_vol : int\n",
    "    Returns:\n",
    "        np.ndarray: A volume vector that sums to 1000.\n",
    "    \"\"\"\n",
    "    v = np.maximum(v, 0)  # Ensure no negative volumes.\n",
    "    \n",
    "    total_row = np.sum(v, axis = -1, keepdims = True) # Sum along the last axis\n",
    "    return max_vol * v / total_row"
   ]
  },
  {
   "cell_type": "markdown",
   "metadata": {},
   "source": [
    "### **Axo-Jubilee reads the locations from Labware class Well, Location, Tuple**  ###\n",
    "### **Assign as dictionary for initial samples, additional iterations after intial samples, and maps them to samples and camera target location.** ###"
   ]
  },
  {
   "cell_type": "code",
   "execution_count": 60,
   "metadata": {},
   "outputs": [
    {
     "name": "stdout",
     "output_type": "stream",
     "text": [
      "10\n"
     ]
    }
   ],
   "source": [
    "# Assign all the labware for experimental settings \n",
    "# This is for 96 tipracks and 24 wells\n",
    "def assign_wells_and_targets(max_iterations, n_initial_samples, tiprack: Well, samples: Well, camera_well : Well, plate_rows=4, plate_cols=6):\n",
    "    \"\"\"\n",
    "    Assigns wells for initial samples, additional iterations after inital samples, \n",
    "    and maps them to samples target location and camera target location.\n",
    "    Assigned Tipracks' value contains list of list as (initial_samples, 5)\n",
    "    Args:\n",
    "        max_iterations (int): Total number of iterations for the experiment.\n",
    "        n_initial_samples (int): Number of initial samples.\n",
    "        plate_rows (int): Number of rows in the plate layout (default: 8 for a 96-well plate).\n",
    "        plate_cols (int): Number of columns in the plate layout (default: 12 for a 96-well plate).\n",
    "        samples (dict): Mapping of well names to sample locations.\n",
    "        camera_well (dict): Mapping of well names to camera locations.\n",
    "    \n",
    "    Returns:\n",
    "        dict: A dictionary containing:\n",
    "            - 'initial_wells': List of wells for initial samples.\n",
    "            - 'additional_wells': List of wells for additional iterations.\n",
    "            - 'target_wells': Combined list of all target wells.\n",
    "            - 'well_targets': List of sample locations corresponding to target wells.\n",
    "            - 'camera_targets': List of camera locations corresponding to target wells.\n",
    "    \"\"\"\n",
    "    # Generate plate layout\n",
    "    plate_layout = [f\"{chr(row)}{col}\" for row in range(ord('A'), ord('A') + plate_rows) for col in range(1, plate_cols + 1)]\n",
    "    \n",
    "    # Allocate wells for the first n_initial_samples\n",
    "    initial_wells = plate_layout[:n_initial_samples]\n",
    "    initial_tipracks_wells = plate_layout[:n_initial_samples*5]\n",
    "    \n",
    "    initial_tipracks = [\n",
    "        [tiprack[well] for well in initial_tipracks_wells[i * 5:(i + 1) * 5]] \n",
    "        for i in range(n_initial_samples)\n",
    "    ]\n",
    "    initial_wells_target = [samples[well] for well in initial_wells] \n",
    "    initial_camera_wells_target = [camera_well[well] for well in initial_wells]\n",
    "    \n",
    "    # Assign remaining wells for iterations\n",
    "    additional_tipracks_wells = plate_layout[len(initial_tipracks_wells):(len(initial_tipracks_wells) + max_iterations*4)]\n",
    "    additional_wells = plate_layout[len(initial_wells):(len(initial_wells) + max_iterations)]\n",
    "    \n",
    "    # Map to well targets and camera targets\n",
    "    additional_tipracks = [\n",
    "        [tiprack[well] for well in additional_tipracks_wells[i * 5:(i + 1) * 5]] \n",
    "        for i in range(max_iterations)\n",
    "    ]\n",
    "    well_targets = [samples[well] for well in additional_wells] if samples else []\n",
    "    camera_targets = [camera_well[well] for well in additional_wells] if camera_well else []\n",
    "    \n",
    "    return {\n",
    "        'initial_tipracks': initial_tipracks,\n",
    "        'initial_wells': initial_wells_target,\n",
    "        'initial_camera_wells': initial_camera_wells_target,\n",
    "        'additional_tipracks': additional_tipracks,\n",
    "        'well_targets': well_targets,\n",
    "        'camera_targets': camera_targets\n",
    "    }\n",
    "\n",
    "# Example\n",
    "max_iterations = 10\n",
    "n_initial_samples = 1\n",
    "sample_volume = 160\n",
    "target_rgb = np.array([10, 157, 200]) \n",
    "\n",
    "result = assign_wells_and_targets(max_iterations, n_initial_samples, tiprack= tiprack, samples = samples, camera_well = camera_well)\n",
    "\n",
    "print(len(result['camera_targets']))"
   ]
  },
  {
   "cell_type": "code",
   "execution_count": 21,
   "metadata": {},
   "outputs": [
    {
     "name": "stdout",
     "output_type": "stream",
     "text": [
      "[Well A2 form Custom 24 Well Plate on slot 2, Well A3 form Custom 24 Well Plate on slot 2, Well A4 form Custom 24 Well Plate on slot 2, Well A5 form Custom 24 Well Plate on slot 2, Well A6 form Custom 24 Well Plate on slot 2, Well B1 form Custom 24 Well Plate on slot 2, Well B2 form Custom 24 Well Plate on slot 2, Well B3 form Custom 24 Well Plate on slot 2, Well B4 form Custom 24 Well Plate on slot 2, Well B5 form Custom 24 Well Plate on slot 2]\n"
     ]
    }
   ],
   "source": [
    "print(result['camera_targets'])"
   ]
  },
  {
   "cell_type": "markdown",
   "metadata": {},
   "source": [
    "# **Demo-Run Color-Mixing Bayesian Optimization** #"
   ]
  },
  {
   "cell_type": "code",
   "execution_count": null,
   "metadata": {},
   "outputs": [],
   "source": [
    "### Initialize stocks and define parameters\n",
    "max_iterations = 23 # BO iterations\n",
    "n_initial_samples = 1  # Initial samples\n",
    "sample_volume = 1000 # Volume of Samples for each wells\n",
    "#target_rgb = np.array([10, 10, 154])  # Target RGB color\n",
    "#bounds = np.array([[0, 1000], [0, 1000], [0, 1000], [0, 1000], [0, 1000]])\n",
    "#norm_bounds = np.array([[0, 1], [0, 1], [0, 1], [0, 1], [0, 1]])\n",
    "bounds = np.array([[0, 1000], [0, 1000], [0, 1000]])\n",
    "norm_bounds = np.array([[0, 1], [0, 1], [0, 1]])\n",
    "rgb_bounds = np.array([[0, 255], [0, 255], [0, 255]])"
   ]
  },
  {
   "cell_type": "code",
   "execution_count": 72,
   "metadata": {},
   "outputs": [
    {
     "name": "stdout",
     "output_type": "stream",
     "text": [
      "Video stream server is already running.\n"
     ]
    }
   ],
   "source": [
    "camera.start_video_stream_server()\n",
    "axo.pickup_tool(camera)"
   ]
  },
  {
   "cell_type": "code",
   "execution_count": 73,
   "metadata": {},
   "outputs": [],
   "source": [
    "target_image_data = camera.capture_image(camera_well['D6'], light= True, light_intensity= 1.0)\n",
    "_, target_rgb = camera.detect_and_draw_wells(target_image_data)\n",
    "target_rgb = np.array([target_rgb['R'], target_rgb['G'], target_rgb['B']]).reshape(-1)\n",
    "axo.park_tool()"
   ]
  },
  {
   "cell_type": "code",
   "execution_count": 74,
   "metadata": {},
   "outputs": [
    {
     "name": "stdout",
     "output_type": "stream",
     "text": [
      "[ 39.61456281 110.84285554  50.20389858]\n"
     ]
    }
   ],
   "source": [
    "print(target_rgb)"
   ]
  },
  {
   "cell_type": "code",
   "execution_count": 75,
   "metadata": {},
   "outputs": [
    {
     "data": {
      "text/plain": [
       "Text(0.5, 1.0, 'Target_RGB')"
      ]
     },
     "execution_count": 75,
     "metadata": {},
     "output_type": "execute_result"
    },
    {
     "data": {
      "image/png": "[encoded data removed]",
      "text/plain": [
       "<Figure size 400x200 with 1 Axes>"
      ]
     },
     "metadata": {},
     "output_type": "display_data"
    }
   ],
   "source": [
    "plt.figure(figsize=(4, 2))\n",
    "plt.subplot(1, 1, 1)\n",
    "plt.imshow([[target_rgb / 255.0]], extent=[0, 1, 0, 1])    \n",
    "plt.axis(\"off\")\n",
    "plt.title(f\"Target_RGB\", fontsize=12)"
   ]
  },
  {
   "cell_type": "code",
   "execution_count": 83,
   "metadata": {},
   "outputs": [],
   "source": [
    "### Bayesian Optimization Setup\n",
    "# Define kernel explicitly\n",
    "# UPDATE  REASONING FOR KERNEL SELECTION \n",
    "kernel = RBF(length_scale=1) # WhiteKernel(noise_level=0.1, noise_level_bounds=(1e-6, 1e-3)) # white kernel is for adding noise\n",
    "\n",
    "# , length_scale_bounds=(1e-3, 1e3)\n",
    "# Surrogate Model\n",
    "# Initialize Gaussian Process Regressor\n",
    "gp = GaussianProcessRegressor(kernel=kernel, alpha=1e-4, n_restarts_optimizer=10, normalize_y=True)\n",
    "\n",
    "\n",
    "# Acquisition Function\n",
    "# Acquisition Function\n",
    "# Expected Improvement maximizes implicitly\n",
    "# ei[sigma == 0.0] = 0.0 VERIFY HOW EI WORKS IN THIS CODE\n",
    "def expected_improvement(X, X_sample, y_sample, model, xi = 0.1):\n",
    "    \"\"\"Return the expected improvement.\n",
    "    Arguments\n",
    "    mu     -- The predictive mean at the test points.\n",
    "    sigma -- The predictive standard deviation at\n",
    "             the test points.\n",
    "    ymax  -- The maximum observed value (so far).\n",
    "    \"\"\"\n",
    "    mu, sigma = model.predict(X, return_std=True)\n",
    "    sigma = sigma.reshape(-1, 1)\n",
    "    optimal_sample = np.min(y_sample)\n",
    "\n",
    "    with np.errstate(divide=\"ignore\"):\n",
    "        imp = optimal_sample - mu - xi\n",
    "        Z = imp / sigma\n",
    "        ei = imp * norm.cdf(Z) + sigma * norm.pdf(Z)\n",
    "        #print(f\"Expected Improvements : {ei}\")\n",
    "        ei[sigma == 0.0] = 0.0\n",
    "    return ei.flatten()\n",
    "\n",
    "def upper_confidence_bound(X, model, beta=0.1):\n",
    "    \"\"\"\n",
    "    Computes the acquisition value using the UCB criterion adapted for minimization.\n",
    "\n",
    "    For minimization, one common approach is to consider the lower confidence bound:\n",
    "         LCB(x) = mu(x) - beta * sigma(x)\n",
    "    We then define an acquisition value as the negative LCB so that we can maximize it.\n",
    "\n",
    "    Parameters:\n",
    "        X : ndarray, shape (n, d)\n",
    "            Points where UCB should be evaluated.\n",
    "        gp : GaussianProcessRegressor\n",
    "            A Gaussian Process fitted to samples.\n",
    "        beta : float\n",
    "            Controls the trade-off between exploration and exploitation.\n",
    "\n",
    "    Returns:\n",
    "        ucb : ndarray, shape (n, 1)\n",
    "            Acquisition value (to be maximized) at points X.\n",
    "    \"\"\"\n",
    "    mu, sigma = model.predict(X, return_std=True)\n",
    "    print(f\"Sampled point Uncertainty gives : {sigma}\")\n",
    "    # For minimization, lower mu - beta*sigma is better.\n",
    "    # By returning its negative, we set up a maximization problem.\n",
    "    ucb = -(mu - beta * sigma)\n",
    "    return ucb\n",
    "\n",
    "# NOTE MAKE SURE WHY ALGORITHM IS NOT RESAMPLING at each ITERATION\n",
    "# Function to propose the next sample point using Expected Improvement\n",
    "# Make sure it doesn't resample the same x each iterations\n",
    "def propose_location(acquisition, X_sample, y_sample, model, bounds, n_restarts=25, acq_kwargs = {}):\n",
    "    dim = X_sample.shape[1]\n",
    "\n",
    "    # Convert bounds to a NumPy array\n",
    "    bounds = np.array(bounds)  # FIX: Convert list of tuples to array\n",
    "    \n",
    "    def min_obj(x):\n",
    "        return -acquisition(x.reshape(-1, dim), X_sample, y_sample, gp, **acq_kwargs)\n",
    "\n",
    "    # Starting points for optimization\n",
    "    x0_list = np.random.uniform(bounds[:, 0], bounds[:, 1], size=(n_restarts, dim))\n",
    "    \n",
    "    # Use Latin Hypercube Sampling (LHS) for better spread in the search space\n",
    "    #sampler = qmc.LatinHypercube(d=dim)\n",
    "    #x0_list = qmc.scale(sampler.random(n=50), bounds[:, 0], bounds[:, 1])\n",
    "    # work in the normalized space\n",
    "    cons = ({'type': 'eq', 'fun': lambda x: np.sum(x) - 1})\n",
    "    mix_x, min_val = None, float(\"inf\")\n",
    "    for x0 in x0_list:\n",
    "        res = minimize(min_obj, x0, bounds=bounds, constraints=cons, method='SLSQP')\n",
    "        if res.fun < min_val:\n",
    "            min_val = res.fun\n",
    "            min_x = res.x\n",
    "    return min_x"
   ]
  },
  {
   "cell_type": "code",
   "execution_count": 85,
   "metadata": {},
   "outputs": [],
   "source": [
    "def color_mover(volumes, target_well: Union[Well, Tuple, Location], tip_rack: Union[Well, Tuple, Location], tip_index: int):\n",
    "    \"\"\"\n",
    "    Dispenses color components (e.g., Cyan, Magenta, Yellow, Black) into the target well using a pipette.\n",
    "    Makes One color well. \n",
    "    Args:\n",
    "        volumes (dict): Dictionary specifying the volumes of each color component to be aspirated and dispensed.\n",
    "                        Keys are color names (e.g., \"Cyan\", \"Magenta\", \"Yellow\", \"Black\"), and values are volumes (float).\n",
    "        target_well (Union[Well, Tuple, Location]): The well where the mixed components will be dispensed.\n",
    "\n",
    "    Returns:\n",
    "        The function performs physical operations with no return value.\n",
    "    \"\"\"\n",
    "    \n",
    "    axo.pickup_tool(P20)\n",
    "    \n",
    "    \n",
    "    # color_keys = [\"Cyan\", \"Magenta\", \"Yellow\", \"Black\", \"White\"]\n",
    "    color_keys = [\"Cyan\", \"Magenta\", \"Yellow\"]\n",
    "    volumes = {color : vol for color, vol in zip(color_keys, volumes)}\n",
    "    \n",
    "    #stock_positions = {\"Cyan\": \"A1\", \"Magenta\": \"A2\", \"Yellow\": \"A3\", \"Black\": \"B1\", \"White\": \"B2\"}\n",
    "    stock_positions = {\"Cyan\": \"A1\", \"Magenta\": \"A2\", \"Yellow\": \"A3\"}\n",
    "    \n",
    "    print(f\"Asipirating {volumes}\")\n",
    "    # Define stock positions for Red, Green, Blue\n",
    "    for color, volume in volumes.items():\n",
    "        if volume < 30:\n",
    "            continue  # Skip aspiration but remember the last used tip\n",
    "        \n",
    "        if color == \"Cyan\":\n",
    "            stock_position = stock_positions[\"Cyan\"]\n",
    "        elif color == \"Magenta\":\n",
    "            stock_position = stock_positions[\"Magenta\"]\n",
    "        elif color == \"Yellow\":\n",
    "            stock_position = stock_positions[\"Yellow\"]\n",
    "        #elif color == \"Black\":\n",
    "        #    stock_position = stock_positions[\"Black\"]\n",
    "        #else:\n",
    "        #    stock_position = stock_positions[\"White\"]\n",
    "        \n",
    "        #if volume > 0:\n",
    "        #    P20.pickup_tip(tip_rack[idx])\n",
    "        #else:\n",
    "        #    continue\n",
    "        \n",
    "        if tip_index >= len(tip_rack.wells):\n",
    "            raise IndexError(\"No more available tips in the tip rack\")\n",
    "        tip_location = tip_rack[tip_index]\n",
    "        P20.pickup_tip(tip_location)\n",
    "        #tip_index += 1 # Move to the next tip for the next color\n",
    "        \n",
    "        print(f\"Picked up new tip: {tip_location}\")\n",
    "        # If transfer doesn't work well, change to the previous one  \n",
    "        # Verified it didn't work, moving back and forth to stocks and samples is not working  \n",
    "        #P20.transfer(volume, stock_position, target_well.top(-4), blowout = True, new_tip = 'once', mix_after = )\n",
    "        #seperated_value = amount_to_aspirate(volume)\n",
    "        #print(f\"Dispensing {color} with {seperated_value}uL\")\n",
    "        \n",
    "        #for value in seperated_value:\n",
    "            # We use the same stock colors at each iterations\n",
    "            # Add aspiration function from the stock location\n",
    "        P20.aspirate(vol = volume, location = stocks[stock_position], s = 4000)\n",
    "            # Add dispensing function to the well plate \n",
    "        P20.dispense(vol = volume, location = target_well, s = 4000)\n",
    "            \n",
    "        time.sleep(2)\n",
    "        #P20.mix(vol = 100, n=2)\n",
    "            \n",
    "        #P20.blowout(s = 3000) # Blowout keeps dropping the tips\n",
    "        # Assign trash locations inside the class attribute (Later)    # HardCoded\n",
    "        P20.drop_tip(trash[0])\n",
    "        tip_index += 1 # Move to the next tip for the next color\n",
    "    axo.park_tool()\n",
    "\n",
    "    return tip_index\n",
    "\n",
    "def process_camera(camera_well: Union[Well, Tuple, Location]) -> Tuple[np.ndarray, np.ndarray]:\n",
    "    \"\"\"\n",
    "    Captures an image from a specified well using the camera and extracts RGB values.\n",
    "\n",
    "    Args:\n",
    "        camera_well (Union[Well, Tuple, Location]): The well location to capture the image and extract RGB data.\n",
    "\n",
    "    Returns:\n",
    "        Tuple[np.ndarray, list]:\n",
    "            - image (np.ndarray): The captured image as a NumPy array.\n",
    "            - extract_rgb (list): List of dictionaries containing RGB values, e.g., [{\"R\": 120, \"G\": 200, \"B\": 150}].\n",
    "    \"\"\"\n",
    "   \n",
    "    axo.pickup_tool(camera)\n",
    "\n",
    "    print(f\"Taking image of {camera_well}\")\n",
    "    # Capture the image of the well\n",
    "    target_image = camera.capture_image(camera_well, light=True, light_intensity = 1.0)\n",
    "    \n",
    "    # capture image again for stabilizing image\n",
    "    #for _ in range(2):\n",
    "    #    image = camera.take_picture()\n",
    "        \n",
    "    masked_image, extract_rgb = camera.detect_and_draw_wells(target_image)\n",
    "    # extract_rgb is already denormalized\n",
    "    \n",
    "    axo.park_tool()\n",
    "\n",
    "    return masked_image, extract_rgb\n",
    "\n",
    "# color_mover + process_camera\n",
    "# Attach Pipette and move to the stock and make samples according to the decision\n",
    "def color_maker(volumes: np.ndarray, \n",
    "                sample_volume: float, \n",
    "                target_well: Union[Well, Tuple, Location], \n",
    "                camera_target_well: Union[Well, Tuple, Location], \n",
    "                tip_rack: List[Union[Well, Tuple, Location]],\n",
    "                tip_index : int\n",
    "                ) -> Tuple[np.ndarray, np.ndarray]:\n",
    "    \"\"\"\n",
    "    Mixes colors based on the given RGB values, dispenses into the target well, and captures an image to analyze the resulting RGB.\n",
    "    The Function performs color_mover and process_camera functionality.\n",
    "\n",
    "    Args:\n",
    "        rgb (np.ndarray): RGB values to mix. Shape: (3,). Normalized RGB\n",
    "        sample_volume (float): Total volume of the sample to be dispensed into the target well.\n",
    "        target_well (Union[Well, Tuple, Location]): The well where the mixed color sample will be dispensed.\n",
    "        camera_target_well (Union[Well, Tuple, Location]): The well location to capture and process RGB data using the camera.\n",
    "\n",
    "    Returns:\n",
    "        Tuple[np.ndarray, np.ndarray]:\n",
    "            - image (np.ndarray): Captured image of the well after color mixing.\n",
    "            - rgb_array (np.ndarray): Extracted and normalized RGB values from the image. Shape: (n_samples, 3).\n",
    "    \"\"\"\n",
    "    \n",
    "    \n",
    "    \n",
    "    # volumes = calculate_volumes_cmyk(rgb, sample_volume)\n",
    "    \n",
    "    # Mix colors using the pipette       \n",
    "    tip_index = color_mover(volumes, target_well, tip_rack, tip_index)\n",
    "    \n",
    "    # Capture circled masked image of resulting color in the well and extract rgb \n",
    "    masked_image, rgb_results = process_camera(camera_target_well)\n",
    "\n",
    "    # Extract RGB values into a NumPy array\n",
    "    rgb_array = np.array([rgb_results['R'], rgb_results['G'], rgb_results['B']]).reshape(-1)\n",
    "    \n",
    "    return masked_image, rgb_array, tip_index\n",
    "\n",
    "def decision_maker(target_rgb,\n",
    "                   surrogate_model, \n",
    "                   acquisition_function,\n",
    "                   sample_volume, \n",
    "                   X_sample, \n",
    "                   y_sample,\n",
    "                   rgb_sample,\n",
    "                   target_wells: List[Union[Well, Location, Tuple]],\n",
    "                   camera_target_wells: List[Union[Well, Location, Tuple]],\n",
    "                   tip_rack: Union[Well, Location, Tuple],\n",
    "                   initial_tip_index : int, # Start from last used tip after initial samples\n",
    "                   bounds = np.array([[0, 1000], [0, 1000], [0, 1000], [0, 1000], [0, 1000],]),\n",
    "                   norm_bounds = np.array([[0, 1], [0, 1], [0, 1], [0, 1], [0, 1]]), \n",
    "                   max_iterations = 10) -> Tuple[np.ndarray, np.ndarray]:\n",
    "    \"\"\"\n",
    "    Perform multiple iterations of Bayesian Optimization, sampling different wells for each iteration.\n",
    "    Args:\n",
    "        target_rgb: Target RGB value to optimize towards. Target RGB should be normalized\n",
    "        surrogate_model: Model called from the sklearn package (Gaussian Process Regressor)\n",
    "        acquisition_function: The acquisition function to use for Bayesian Optimization.\n",
    "        sample_volume: The sample volume for color mixing.\n",
    "        X_sample: The current set of sample points.\n",
    "        y_sample: The current set of objective values for the samples.\n",
    "        target_wells: A list of target wells for each iteration.\n",
    "        bounds: Bounds for the optimization space.\n",
    "        max_iterations: Maximum number of iterations to perform.\n",
    "    Returns:\n",
    "        Updated X_sample and y_sample with all iterations completed.\n",
    "    \"\"\"\n",
    "    \n",
    "    # assert len(target_wells) >= max_iterations, \"Insufficient target wells for the given number of iterations.\"\n",
    "    \n",
    "    tip_index = initial_tip_index\n",
    "    \n",
    "    initial = len(X_sample)\n",
    "    # Run optimization loop for all iterations\n",
    "    for iteration in range(max_iterations):\n",
    "        # Propose the next location to sample\n",
    "        current_target_well = target_wells[iteration]\n",
    "        current_camera_well = camera_target_wells[iteration]\n",
    "        \n",
    "        if acquisition_function == 'ucb':\n",
    "            # Upper confience bound\n",
    "            x_next_norm = propose_location(\n",
    "            lambda X, X_sample, Y_sample, gp, **kwargs: upper_confidence_bound(X, gp, **kwargs),\n",
    "            X_sample,\n",
    "            y_sample,\n",
    "            gp,\n",
    "            norm_bounds,\n",
    "            n_restarts=10,\n",
    "            acq_kwargs={'beta': 0.1}  # Adjust beta to control exploration (lower means less exploration)\n",
    "            )\n",
    "        \n",
    "        elif acquisition_function == 'ei':\n",
    "        ## Expected improvement\n",
    "            x_next_norm = propose_location(\n",
    "            lambda X, X_sample, Y_sample, gp, **kwargs: expected_improvement(X, X_sample, Y_sample, gp, **kwargs),\n",
    "            X_sample,\n",
    "            y_sample,\n",
    "            gp,\n",
    "            norm_bounds,\n",
    "            n_restarts=10,\n",
    "            acq_kwargs={'xi': 0.0}  # Adjust beta to control exploration (lower means less exploration)\n",
    "            )\n",
    "        #next_sample = propose_location(acquisition_function, X_sample, y_sample, bounds)\n",
    "    \n",
    "        # Denormalize next_sample to evaluate \n",
    "        \n",
    "        \n",
    "        #next_sample_denorm = denormalize_rgb(x_next_norm, bounds)\n",
    "        # Normalize the candidate so that its 4 volumes sum to 1000 µL.\n",
    "        volumes = denormalize_volume_vector(x_next_norm, sample_volume)\n",
    "        # Visualization for which color is sampled from acquuisition function\n",
    "        # Get the target well for this iteration\n",
    "        \n",
    "        # current_tipracks = tip_rack[iteration]\n",
    "        \n",
    "        # Make colors and extract actual RGB values\n",
    "        image, rgb_val, tip_index = color_maker(\n",
    "            volumes=volumes, \n",
    "            sample_volume=sample_volume, \n",
    "            target_well=current_target_well,\n",
    "            camera_target_well=current_camera_well,\n",
    "            tip_rack= tip_rack,\n",
    "            tip_index=tip_index\n",
    "        )\n",
    "        \n",
    "        print(f\"Actual RGB value : {rgb_val}\")\n",
    "        \n",
    "        visualize_one_color(rgb_val, target_rgb, initial + iteration)\n",
    "        # Normalize Acutal RGB Values\n",
    "        rgb_val_normalized = normalize_rgb(rgb_val)\n",
    "        \n",
    "        # Evaluate the objective function (Simulation)\n",
    "        y_next_norm = color_objective_ciedelta(rgb_val_normalized, normalize_rgb(target_rgb))\n",
    "        \n",
    "        # Append the new sample and its objective value\n",
    "        rgb_sample = np.vstack((rgb_sample, rgb_val))\n",
    "        X_sample = np.vstack((X_sample, x_next_norm))\n",
    "        y_sample = np.append(y_sample, y_next_norm)\n",
    "    \n",
    "        # Update the Gaussian Process model after all iterations\n",
    "        surrogate_model.fit(X_sample, y_sample)\n",
    "    \n",
    "    return X_sample, y_sample, rgb_sample, tip_index"
   ]
  },
  {
   "cell_type": "code",
   "execution_count": 86,
   "metadata": {},
   "outputs": [],
   "source": [
    "# Initialize initial samples and distances with normalized values\n",
    "# Normalize target color\n",
    "normalized_target_rgb = normalize_rgb(target_rgb)\n",
    "X_init_norm = orthogonal_sampling(n_initial_samples, norm_bounds)\n",
    "# Evaluate the objective at initial points \n",
    "Y_init_norm = np.zeros(n_initial_samples)\n",
    "rgb_samples = np.empty((0,3))\n",
    "# Combine initial and additional wells\n",
    "all_wells = assign_wells_and_targets(max_iterations, n_initial_samples, samples = samples, camera_well = camera_well, tiprack= tiprack)\n",
    "\n",
    "# visualize_color_selection(denormalize_rgb(X_init_norm, bounds), target_rgb)"
   ]
  },
  {
   "cell_type": "code",
   "execution_count": 87,
   "metadata": {},
   "outputs": [
    {
     "name": "stdout",
     "output_type": "stream",
     "text": [
      "[[0.60868103 0.725476   0.87030672]]\n"
     ]
    },
    {
     "data": {
      "text/plain": [
       "array([[276.11296848, 329.09409331, 394.7929382 ]])"
      ]
     },
     "execution_count": 87,
     "metadata": {},
     "output_type": "execute_result"
    }
   ],
   "source": [
    "print(X_init_norm)\n",
    "denormalize_volume_vector(X_init_norm, 1000)"
   ]
  },
  {
   "cell_type": "code",
   "execution_count": 33,
   "metadata": {},
   "outputs": [
    {
     "name": "stdout",
     "output_type": "stream",
     "text": [
      "[Well A1 form Custom 24 Well Plate on slot 2]\n"
     ]
    }
   ],
   "source": [
    "print(all_wells['initial_camera_wells'])"
   ]
  },
  {
   "cell_type": "code",
   "execution_count": 88,
   "metadata": {},
   "outputs": [
    {
     "name": "stdout",
     "output_type": "stream",
     "text": [
      "Picking up tip from : Well A1 form Opentrons OT-2 96 Tip Rack 1000 µL on slot 5\n",
      "Now aspirating Sample 1 to target_well: Well A1 form Corning 24 Well Plate 3.4 mL Flat on slot 2\n",
      "Asipirating {'Cyan': np.float64(44.178074957356756), 'Magenta': np.float64(52.655054930213204), 'Yellow': np.float64(63.16687011243004)}\n"
     ]
    },
    {
     "ename": "KeyboardInterrupt",
     "evalue": "",
     "output_type": "error",
     "traceback": [
      "\u001b[1;31m---------------------------------------------------------------------------\u001b[0m",
      "\u001b[1;31mConnectionResetError\u001b[0m                      Traceback (most recent call last)",
      "File \u001b[1;32mc:\\Users\\titan\\anaconda3\\envs\\axo\\Lib\\site-packages\\urllib3\\response.py:748\u001b[0m, in \u001b[0;36mHTTPResponse._error_catcher\u001b[1;34m(self)\u001b[0m\n\u001b[0;32m    747\u001b[0m \u001b[38;5;28;01mtry\u001b[39;00m:\n\u001b[1;32m--> 748\u001b[0m     \u001b[38;5;28;01myield\u001b[39;00m\n\u001b[0;32m    750\u001b[0m \u001b[38;5;28;01mexcept\u001b[39;00m SocketTimeout \u001b[38;5;28;01mas\u001b[39;00m e:\n\u001b[0;32m    751\u001b[0m     \u001b[38;5;66;03m# FIXME: Ideally we'd like to include the url in the ReadTimeoutError but\u001b[39;00m\n\u001b[0;32m    752\u001b[0m     \u001b[38;5;66;03m# there is yet no clean way to get at it from this context.\u001b[39;00m\n",
      "File \u001b[1;32mc:\\Users\\titan\\anaconda3\\envs\\axo\\Lib\\site-packages\\urllib3\\response.py:873\u001b[0m, in \u001b[0;36mHTTPResponse._raw_read\u001b[1;34m(self, amt, read1)\u001b[0m\n\u001b[0;32m    872\u001b[0m \u001b[38;5;28;01mwith\u001b[39;00m \u001b[38;5;28mself\u001b[39m\u001b[38;5;241m.\u001b[39m_error_catcher():\n\u001b[1;32m--> 873\u001b[0m     data \u001b[38;5;241m=\u001b[39m \u001b[38;5;28;43mself\u001b[39;49m\u001b[38;5;241;43m.\u001b[39;49m\u001b[43m_fp_read\u001b[49m\u001b[43m(\u001b[49m\u001b[43mamt\u001b[49m\u001b[43m,\u001b[49m\u001b[43m \u001b[49m\u001b[43mread1\u001b[49m\u001b[38;5;241;43m=\u001b[39;49m\u001b[43mread1\u001b[49m\u001b[43m)\u001b[49m \u001b[38;5;28;01mif\u001b[39;00m \u001b[38;5;129;01mnot\u001b[39;00m fp_closed \u001b[38;5;28;01melse\u001b[39;00m \u001b[38;5;124mb\u001b[39m\u001b[38;5;124m\"\u001b[39m\u001b[38;5;124m\"\u001b[39m\n\u001b[0;32m    874\u001b[0m     \u001b[38;5;28;01mif\u001b[39;00m amt \u001b[38;5;129;01mis\u001b[39;00m \u001b[38;5;129;01mnot\u001b[39;00m \u001b[38;5;28;01mNone\u001b[39;00m \u001b[38;5;129;01mand\u001b[39;00m amt \u001b[38;5;241m!=\u001b[39m \u001b[38;5;241m0\u001b[39m \u001b[38;5;129;01mand\u001b[39;00m \u001b[38;5;129;01mnot\u001b[39;00m data:\n\u001b[0;32m    875\u001b[0m         \u001b[38;5;66;03m# Platform-specific: Buggy versions of Python.\u001b[39;00m\n\u001b[0;32m    876\u001b[0m         \u001b[38;5;66;03m# Close the connection when no data is returned\u001b[39;00m\n\u001b[1;32m   (...)\u001b[0m\n\u001b[0;32m    881\u001b[0m         \u001b[38;5;66;03m# not properly close the connection in all cases. There is\u001b[39;00m\n\u001b[0;32m    882\u001b[0m         \u001b[38;5;66;03m# no harm in redundantly calling close.\u001b[39;00m\n",
      "File \u001b[1;32mc:\\Users\\titan\\anaconda3\\envs\\axo\\Lib\\site-packages\\urllib3\\response.py:856\u001b[0m, in \u001b[0;36mHTTPResponse._fp_read\u001b[1;34m(self, amt, read1)\u001b[0m\n\u001b[0;32m    854\u001b[0m \u001b[38;5;28;01melse\u001b[39;00m:\n\u001b[0;32m    855\u001b[0m     \u001b[38;5;66;03m# StringIO doesn't like amt=None\u001b[39;00m\n\u001b[1;32m--> 856\u001b[0m     \u001b[38;5;28;01mreturn\u001b[39;00m \u001b[38;5;28;43mself\u001b[39;49m\u001b[38;5;241;43m.\u001b[39;49m\u001b[43m_fp\u001b[49m\u001b[38;5;241;43m.\u001b[39;49m\u001b[43mread\u001b[49m\u001b[43m(\u001b[49m\u001b[43mamt\u001b[49m\u001b[43m)\u001b[49m \u001b[38;5;28;01mif\u001b[39;00m amt \u001b[38;5;129;01mis\u001b[39;00m \u001b[38;5;129;01mnot\u001b[39;00m \u001b[38;5;28;01mNone\u001b[39;00m \u001b[38;5;28;01melse\u001b[39;00m \u001b[38;5;28mself\u001b[39m\u001b[38;5;241m.\u001b[39m_fp\u001b[38;5;241m.\u001b[39mread()\n",
      "File \u001b[1;32mc:\\Users\\titan\\anaconda3\\envs\\axo\\Lib\\http\\client.py:479\u001b[0m, in \u001b[0;36mHTTPResponse.read\u001b[1;34m(self, amt)\u001b[0m\n\u001b[0;32m    478\u001b[0m     amt \u001b[38;5;241m=\u001b[39m \u001b[38;5;28mself\u001b[39m\u001b[38;5;241m.\u001b[39mlength\n\u001b[1;32m--> 479\u001b[0m s \u001b[38;5;241m=\u001b[39m \u001b[38;5;28;43mself\u001b[39;49m\u001b[38;5;241;43m.\u001b[39;49m\u001b[43mfp\u001b[49m\u001b[38;5;241;43m.\u001b[39;49m\u001b[43mread\u001b[49m\u001b[43m(\u001b[49m\u001b[43mamt\u001b[49m\u001b[43m)\u001b[49m\n\u001b[0;32m    480\u001b[0m \u001b[38;5;28;01mif\u001b[39;00m \u001b[38;5;129;01mnot\u001b[39;00m s \u001b[38;5;129;01mand\u001b[39;00m amt:\n\u001b[0;32m    481\u001b[0m     \u001b[38;5;66;03m# Ideally, we would raise IncompleteRead if the content-length\u001b[39;00m\n\u001b[0;32m    482\u001b[0m     \u001b[38;5;66;03m# wasn't satisfied, but it might break compatibility.\u001b[39;00m\n",
      "File \u001b[1;32mc:\\Users\\titan\\anaconda3\\envs\\axo\\Lib\\socket.py:719\u001b[0m, in \u001b[0;36mSocketIO.readinto\u001b[1;34m(self, b)\u001b[0m\n\u001b[0;32m    718\u001b[0m \u001b[38;5;28;01mtry\u001b[39;00m:\n\u001b[1;32m--> 719\u001b[0m     \u001b[38;5;28;01mreturn\u001b[39;00m \u001b[38;5;28;43mself\u001b[39;49m\u001b[38;5;241;43m.\u001b[39;49m\u001b[43m_sock\u001b[49m\u001b[38;5;241;43m.\u001b[39;49m\u001b[43mrecv_into\u001b[49m\u001b[43m(\u001b[49m\u001b[43mb\u001b[49m\u001b[43m)\u001b[49m\n\u001b[0;32m    720\u001b[0m \u001b[38;5;28;01mexcept\u001b[39;00m timeout:\n",
      "\u001b[1;31mConnectionResetError\u001b[0m: [WinError 10054] An existing connection was forcibly closed by the remote host",
      "\nThe above exception was the direct cause of the following exception:\n",
      "\u001b[1;31mProtocolError\u001b[0m                             Traceback (most recent call last)",
      "File \u001b[1;32mc:\\Users\\titan\\anaconda3\\envs\\axo\\Lib\\site-packages\\requests\\models.py:820\u001b[0m, in \u001b[0;36mResponse.iter_content.<locals>.generate\u001b[1;34m()\u001b[0m\n\u001b[0;32m    819\u001b[0m \u001b[38;5;28;01mtry\u001b[39;00m:\n\u001b[1;32m--> 820\u001b[0m     \u001b[38;5;28;01myield from\u001b[39;00m \u001b[38;5;28mself\u001b[39m\u001b[38;5;241m.\u001b[39mraw\u001b[38;5;241m.\u001b[39mstream(chunk_size, decode_content\u001b[38;5;241m=\u001b[39m\u001b[38;5;28;01mTrue\u001b[39;00m)\n\u001b[0;32m    821\u001b[0m \u001b[38;5;28;01mexcept\u001b[39;00m ProtocolError \u001b[38;5;28;01mas\u001b[39;00m e:\n",
      "File \u001b[1;32mc:\\Users\\titan\\anaconda3\\envs\\axo\\Lib\\site-packages\\urllib3\\response.py:1060\u001b[0m, in \u001b[0;36mHTTPResponse.stream\u001b[1;34m(self, amt, decode_content)\u001b[0m\n\u001b[0;32m   1059\u001b[0m \u001b[38;5;28;01mwhile\u001b[39;00m \u001b[38;5;129;01mnot\u001b[39;00m is_fp_closed(\u001b[38;5;28mself\u001b[39m\u001b[38;5;241m.\u001b[39m_fp) \u001b[38;5;129;01mor\u001b[39;00m \u001b[38;5;28mlen\u001b[39m(\u001b[38;5;28mself\u001b[39m\u001b[38;5;241m.\u001b[39m_decoded_buffer) \u001b[38;5;241m>\u001b[39m \u001b[38;5;241m0\u001b[39m:\n\u001b[1;32m-> 1060\u001b[0m     data \u001b[38;5;241m=\u001b[39m \u001b[38;5;28;43mself\u001b[39;49m\u001b[38;5;241;43m.\u001b[39;49m\u001b[43mread\u001b[49m\u001b[43m(\u001b[49m\u001b[43mamt\u001b[49m\u001b[38;5;241;43m=\u001b[39;49m\u001b[43mamt\u001b[49m\u001b[43m,\u001b[49m\u001b[43m \u001b[49m\u001b[43mdecode_content\u001b[49m\u001b[38;5;241;43m=\u001b[39;49m\u001b[43mdecode_content\u001b[49m\u001b[43m)\u001b[49m\n\u001b[0;32m   1062\u001b[0m     \u001b[38;5;28;01mif\u001b[39;00m data:\n",
      "File \u001b[1;32mc:\\Users\\titan\\anaconda3\\envs\\axo\\Lib\\site-packages\\urllib3\\response.py:949\u001b[0m, in \u001b[0;36mHTTPResponse.read\u001b[1;34m(self, amt, decode_content, cache_content)\u001b[0m\n\u001b[0;32m    947\u001b[0m         \u001b[38;5;28;01mreturn\u001b[39;00m \u001b[38;5;28mself\u001b[39m\u001b[38;5;241m.\u001b[39m_decoded_buffer\u001b[38;5;241m.\u001b[39mget(amt)\n\u001b[1;32m--> 949\u001b[0m data \u001b[38;5;241m=\u001b[39m \u001b[38;5;28;43mself\u001b[39;49m\u001b[38;5;241;43m.\u001b[39;49m\u001b[43m_raw_read\u001b[49m\u001b[43m(\u001b[49m\u001b[43mamt\u001b[49m\u001b[43m)\u001b[49m\n\u001b[0;32m    951\u001b[0m flush_decoder \u001b[38;5;241m=\u001b[39m amt \u001b[38;5;129;01mis\u001b[39;00m \u001b[38;5;28;01mNone\u001b[39;00m \u001b[38;5;129;01mor\u001b[39;00m (amt \u001b[38;5;241m!=\u001b[39m \u001b[38;5;241m0\u001b[39m \u001b[38;5;129;01mand\u001b[39;00m \u001b[38;5;129;01mnot\u001b[39;00m data)\n",
      "File \u001b[1;32mc:\\Users\\titan\\anaconda3\\envs\\axo\\Lib\\site-packages\\urllib3\\response.py:872\u001b[0m, in \u001b[0;36mHTTPResponse._raw_read\u001b[1;34m(self, amt, read1)\u001b[0m\n\u001b[0;32m    870\u001b[0m fp_closed \u001b[38;5;241m=\u001b[39m \u001b[38;5;28mgetattr\u001b[39m(\u001b[38;5;28mself\u001b[39m\u001b[38;5;241m.\u001b[39m_fp, \u001b[38;5;124m\"\u001b[39m\u001b[38;5;124mclosed\u001b[39m\u001b[38;5;124m\"\u001b[39m, \u001b[38;5;28;01mFalse\u001b[39;00m)\n\u001b[1;32m--> 872\u001b[0m \u001b[38;5;28;01mwith\u001b[39;00m \u001b[38;5;28mself\u001b[39m\u001b[38;5;241m.\u001b[39m_error_catcher():\n\u001b[0;32m    873\u001b[0m     data \u001b[38;5;241m=\u001b[39m \u001b[38;5;28mself\u001b[39m\u001b[38;5;241m.\u001b[39m_fp_read(amt, read1\u001b[38;5;241m=\u001b[39mread1) \u001b[38;5;28;01mif\u001b[39;00m \u001b[38;5;129;01mnot\u001b[39;00m fp_closed \u001b[38;5;28;01melse\u001b[39;00m \u001b[38;5;124mb\u001b[39m\u001b[38;5;124m\"\u001b[39m\u001b[38;5;124m\"\u001b[39m\n",
      "File \u001b[1;32mc:\\Users\\titan\\anaconda3\\envs\\axo\\Lib\\contextlib.py:162\u001b[0m, in \u001b[0;36m_GeneratorContextManager.__exit__\u001b[1;34m(self, typ, value, traceback)\u001b[0m\n\u001b[0;32m    161\u001b[0m \u001b[38;5;28;01mtry\u001b[39;00m:\n\u001b[1;32m--> 162\u001b[0m     \u001b[38;5;28;43mself\u001b[39;49m\u001b[38;5;241;43m.\u001b[39;49m\u001b[43mgen\u001b[49m\u001b[38;5;241;43m.\u001b[39;49m\u001b[43mthrow\u001b[49m\u001b[43m(\u001b[49m\u001b[43mvalue\u001b[49m\u001b[43m)\u001b[49m\n\u001b[0;32m    163\u001b[0m \u001b[38;5;28;01mexcept\u001b[39;00m \u001b[38;5;167;01mStopIteration\u001b[39;00m \u001b[38;5;28;01mas\u001b[39;00m exc:\n\u001b[0;32m    164\u001b[0m     \u001b[38;5;66;03m# Suppress StopIteration *unless* it's the same exception that\u001b[39;00m\n\u001b[0;32m    165\u001b[0m     \u001b[38;5;66;03m# was passed to throw().  This prevents a StopIteration\u001b[39;00m\n\u001b[0;32m    166\u001b[0m     \u001b[38;5;66;03m# raised inside the \"with\" statement from being suppressed.\u001b[39;00m\n",
      "File \u001b[1;32mc:\\Users\\titan\\anaconda3\\envs\\axo\\Lib\\site-packages\\urllib3\\response.py:775\u001b[0m, in \u001b[0;36mHTTPResponse._error_catcher\u001b[1;34m(self)\u001b[0m\n\u001b[0;32m    774\u001b[0m \u001b[38;5;28;01mexcept\u001b[39;00m (HTTPException, \u001b[38;5;167;01mOSError\u001b[39;00m) \u001b[38;5;28;01mas\u001b[39;00m e:\n\u001b[1;32m--> 775\u001b[0m     \u001b[38;5;28;01mraise\u001b[39;00m ProtocolError(\u001b[38;5;124mf\u001b[39m\u001b[38;5;124m\"\u001b[39m\u001b[38;5;124mConnection broken: \u001b[39m\u001b[38;5;132;01m{\u001b[39;00me\u001b[38;5;132;01m!r}\u001b[39;00m\u001b[38;5;124m\"\u001b[39m, e) \u001b[38;5;28;01mfrom\u001b[39;00m \u001b[38;5;21;01me\u001b[39;00m\n\u001b[0;32m    777\u001b[0m \u001b[38;5;66;03m# If no exception is thrown, we should avoid cleaning up\u001b[39;00m\n\u001b[0;32m    778\u001b[0m \u001b[38;5;66;03m# unnecessarily.\u001b[39;00m\n",
      "\u001b[1;31mProtocolError\u001b[0m: (\"Connection broken: ConnectionResetError(10054, 'An existing connection was forcibly closed by the remote host', None, 10054, None)\", ConnectionResetError(10054, 'An existing connection was forcibly closed by the remote host', None, 10054, None))",
      "\nDuring handling of the above exception, another exception occurred:\n",
      "\u001b[1;31mChunkedEncodingError\u001b[0m                      Traceback (most recent call last)",
      "File \u001b[1;32mC:\\science-jubilee\\src\\science_jubilee\\Machine.py:466\u001b[0m, in \u001b[0;36mMachine.gcode\u001b[1;34m(self, cmd, timeout, response_wait)\u001b[0m\n\u001b[0;32m    464\u001b[0m \u001b[38;5;28;01mtry\u001b[39;00m:\n\u001b[0;32m    465\u001b[0m     \u001b[38;5;66;03m# Try sending the command with requests.post\u001b[39;00m\n\u001b[1;32m--> 466\u001b[0m     response \u001b[38;5;241m=\u001b[39m \u001b[43mrequests\u001b[49m\u001b[38;5;241;43m.\u001b[39;49m\u001b[43mpost\u001b[49m\u001b[43m(\u001b[49m\n\u001b[0;32m    467\u001b[0m \u001b[43m        \u001b[49m\u001b[38;5;124;43mf\u001b[39;49m\u001b[38;5;124;43m\"\u001b[39;49m\u001b[38;5;124;43mhttp://\u001b[39;49m\u001b[38;5;132;43;01m{\u001b[39;49;00m\u001b[38;5;28;43mself\u001b[39;49m\u001b[38;5;241;43m.\u001b[39;49m\u001b[43maddress\u001b[49m\u001b[38;5;132;43;01m}\u001b[39;49;00m\u001b[38;5;124;43m/machine/code\u001b[39;49m\u001b[38;5;124;43m\"\u001b[39;49m\u001b[43m,\u001b[49m\u001b[43m \u001b[49m\u001b[43mdata\u001b[49m\u001b[38;5;241;43m=\u001b[39;49m\u001b[38;5;124;43mf\u001b[39;49m\u001b[38;5;124;43m\"\u001b[39;49m\u001b[38;5;132;43;01m{\u001b[39;49;00m\u001b[43mcmd\u001b[49m\u001b[38;5;132;43;01m}\u001b[39;49;00m\u001b[38;5;124;43m\"\u001b[39;49m\u001b[43m,\u001b[49m\u001b[43m \u001b[49m\u001b[43mtimeout\u001b[49m\u001b[38;5;241;43m=\u001b[39;49m\u001b[43mtimeout\u001b[49m\n\u001b[0;32m    468\u001b[0m \u001b[43m    \u001b[49m\u001b[43m)\u001b[49m\u001b[38;5;241m.\u001b[39mtext\n\u001b[0;32m    469\u001b[0m     \u001b[38;5;28;01mif\u001b[39;00m \u001b[38;5;124m\"\u001b[39m\u001b[38;5;124mrejected\u001b[39m\u001b[38;5;124m\"\u001b[39m \u001b[38;5;129;01min\u001b[39;00m response:\n",
      "File \u001b[1;32mc:\\Users\\titan\\anaconda3\\envs\\axo\\Lib\\site-packages\\requests\\api.py:115\u001b[0m, in \u001b[0;36mpost\u001b[1;34m(url, data, json, **kwargs)\u001b[0m\n\u001b[0;32m    104\u001b[0m \u001b[38;5;250m\u001b[39m\u001b[38;5;124mr\u001b[39m\u001b[38;5;124;03m\"\"\"Sends a POST request.\u001b[39;00m\n\u001b[0;32m    105\u001b[0m \n\u001b[0;32m    106\u001b[0m \u001b[38;5;124;03m:param url: URL for the new :class:`Request` object.\u001b[39;00m\n\u001b[1;32m   (...)\u001b[0m\n\u001b[0;32m    112\u001b[0m \u001b[38;5;124;03m:rtype: requests.Response\u001b[39;00m\n\u001b[0;32m    113\u001b[0m \u001b[38;5;124;03m\"\"\"\u001b[39;00m\n\u001b[1;32m--> 115\u001b[0m \u001b[38;5;28;01mreturn\u001b[39;00m \u001b[43mrequest\u001b[49m\u001b[43m(\u001b[49m\u001b[38;5;124;43m\"\u001b[39;49m\u001b[38;5;124;43mpost\u001b[39;49m\u001b[38;5;124;43m\"\u001b[39;49m\u001b[43m,\u001b[49m\u001b[43m \u001b[49m\u001b[43murl\u001b[49m\u001b[43m,\u001b[49m\u001b[43m \u001b[49m\u001b[43mdata\u001b[49m\u001b[38;5;241;43m=\u001b[39;49m\u001b[43mdata\u001b[49m\u001b[43m,\u001b[49m\u001b[43m \u001b[49m\u001b[43mjson\u001b[49m\u001b[38;5;241;43m=\u001b[39;49m\u001b[43mjson\u001b[49m\u001b[43m,\u001b[49m\u001b[43m \u001b[49m\u001b[38;5;241;43m*\u001b[39;49m\u001b[38;5;241;43m*\u001b[39;49m\u001b[43mkwargs\u001b[49m\u001b[43m)\u001b[49m\n",
      "File \u001b[1;32mc:\\Users\\titan\\anaconda3\\envs\\axo\\Lib\\site-packages\\requests\\api.py:59\u001b[0m, in \u001b[0;36mrequest\u001b[1;34m(method, url, **kwargs)\u001b[0m\n\u001b[0;32m     58\u001b[0m \u001b[38;5;28;01mwith\u001b[39;00m sessions\u001b[38;5;241m.\u001b[39mSession() \u001b[38;5;28;01mas\u001b[39;00m session:\n\u001b[1;32m---> 59\u001b[0m     \u001b[38;5;28;01mreturn\u001b[39;00m \u001b[43msession\u001b[49m\u001b[38;5;241;43m.\u001b[39;49m\u001b[43mrequest\u001b[49m\u001b[43m(\u001b[49m\u001b[43mmethod\u001b[49m\u001b[38;5;241;43m=\u001b[39;49m\u001b[43mmethod\u001b[49m\u001b[43m,\u001b[49m\u001b[43m \u001b[49m\u001b[43murl\u001b[49m\u001b[38;5;241;43m=\u001b[39;49m\u001b[43murl\u001b[49m\u001b[43m,\u001b[49m\u001b[43m \u001b[49m\u001b[38;5;241;43m*\u001b[39;49m\u001b[38;5;241;43m*\u001b[39;49m\u001b[43mkwargs\u001b[49m\u001b[43m)\u001b[49m\n",
      "File \u001b[1;32mc:\\Users\\titan\\anaconda3\\envs\\axo\\Lib\\site-packages\\requests\\sessions.py:589\u001b[0m, in \u001b[0;36mSession.request\u001b[1;34m(self, method, url, params, data, headers, cookies, files, auth, timeout, allow_redirects, proxies, hooks, stream, verify, cert, json)\u001b[0m\n\u001b[0;32m    588\u001b[0m send_kwargs\u001b[38;5;241m.\u001b[39mupdate(settings)\n\u001b[1;32m--> 589\u001b[0m resp \u001b[38;5;241m=\u001b[39m \u001b[38;5;28;43mself\u001b[39;49m\u001b[38;5;241;43m.\u001b[39;49m\u001b[43msend\u001b[49m\u001b[43m(\u001b[49m\u001b[43mprep\u001b[49m\u001b[43m,\u001b[49m\u001b[43m \u001b[49m\u001b[38;5;241;43m*\u001b[39;49m\u001b[38;5;241;43m*\u001b[39;49m\u001b[43msend_kwargs\u001b[49m\u001b[43m)\u001b[49m\n\u001b[0;32m    591\u001b[0m \u001b[38;5;28;01mreturn\u001b[39;00m resp\n",
      "File \u001b[1;32mc:\\Users\\titan\\anaconda3\\envs\\axo\\Lib\\site-packages\\requests\\sessions.py:746\u001b[0m, in \u001b[0;36mSession.send\u001b[1;34m(self, request, **kwargs)\u001b[0m\n\u001b[0;32m    745\u001b[0m \u001b[38;5;28;01mif\u001b[39;00m \u001b[38;5;129;01mnot\u001b[39;00m stream:\n\u001b[1;32m--> 746\u001b[0m     \u001b[43mr\u001b[49m\u001b[38;5;241;43m.\u001b[39;49m\u001b[43mcontent\u001b[49m\n\u001b[0;32m    748\u001b[0m \u001b[38;5;28;01mreturn\u001b[39;00m r\n",
      "File \u001b[1;32mc:\\Users\\titan\\anaconda3\\envs\\axo\\Lib\\site-packages\\requests\\models.py:902\u001b[0m, in \u001b[0;36mResponse.content\u001b[1;34m(self)\u001b[0m\n\u001b[0;32m    901\u001b[0m     \u001b[38;5;28;01melse\u001b[39;00m:\n\u001b[1;32m--> 902\u001b[0m         \u001b[38;5;28mself\u001b[39m\u001b[38;5;241m.\u001b[39m_content \u001b[38;5;241m=\u001b[39m \u001b[38;5;124;43mb\u001b[39;49m\u001b[38;5;124;43m\"\u001b[39;49m\u001b[38;5;124;43m\"\u001b[39;49m\u001b[38;5;241;43m.\u001b[39;49m\u001b[43mjoin\u001b[49m\u001b[43m(\u001b[49m\u001b[38;5;28;43mself\u001b[39;49m\u001b[38;5;241;43m.\u001b[39;49m\u001b[43miter_content\u001b[49m\u001b[43m(\u001b[49m\u001b[43mCONTENT_CHUNK_SIZE\u001b[49m\u001b[43m)\u001b[49m\u001b[43m)\u001b[49m \u001b[38;5;129;01mor\u001b[39;00m \u001b[38;5;124mb\u001b[39m\u001b[38;5;124m\"\u001b[39m\u001b[38;5;124m\"\u001b[39m\n\u001b[0;32m    904\u001b[0m \u001b[38;5;28mself\u001b[39m\u001b[38;5;241m.\u001b[39m_content_consumed \u001b[38;5;241m=\u001b[39m \u001b[38;5;28;01mTrue\u001b[39;00m\n",
      "File \u001b[1;32mc:\\Users\\titan\\anaconda3\\envs\\axo\\Lib\\site-packages\\requests\\models.py:822\u001b[0m, in \u001b[0;36mResponse.iter_content.<locals>.generate\u001b[1;34m()\u001b[0m\n\u001b[0;32m    821\u001b[0m \u001b[38;5;28;01mexcept\u001b[39;00m ProtocolError \u001b[38;5;28;01mas\u001b[39;00m e:\n\u001b[1;32m--> 822\u001b[0m     \u001b[38;5;28;01mraise\u001b[39;00m ChunkedEncodingError(e)\n\u001b[0;32m    823\u001b[0m \u001b[38;5;28;01mexcept\u001b[39;00m DecodeError \u001b[38;5;28;01mas\u001b[39;00m e:\n",
      "\u001b[1;31mChunkedEncodingError\u001b[0m: (\"Connection broken: ConnectionResetError(10054, 'An existing connection was forcibly closed by the remote host', None, 10054, None)\", ConnectionResetError(10054, 'An existing connection was forcibly closed by the remote host', None, 10054, None))",
      "\nDuring handling of the above exception, another exception occurred:\n",
      "\u001b[1;31mKeyboardInterrupt\u001b[0m                         Traceback (most recent call last)",
      "Cell \u001b[1;32mIn[88], line 20\u001b[0m\n\u001b[0;32m     17\u001b[0m \u001b[38;5;28mprint\u001b[39m(\u001b[38;5;124mf\u001b[39m\u001b[38;5;124m\"\u001b[39m\u001b[38;5;124mNow aspirating Sample \u001b[39m\u001b[38;5;132;01m{\u001b[39;00midx\u001b[38;5;241m+\u001b[39m\u001b[38;5;241m1\u001b[39m\u001b[38;5;132;01m}\u001b[39;00m\u001b[38;5;124m to target_well: \u001b[39m\u001b[38;5;132;01m{\u001b[39;00mtarget_well\u001b[38;5;132;01m}\u001b[39;00m\u001b[38;5;124m\"\u001b[39m)\n\u001b[0;32m     19\u001b[0m \u001b[38;5;66;03m# Run color mixing, capture image, and update tip index\u001b[39;00m\n\u001b[1;32m---> 20\u001b[0m image, rgb, tip_index \u001b[38;5;241m=\u001b[39m \u001b[43mcolor_maker\u001b[49m\u001b[43m(\u001b[49m\n\u001b[0;32m     21\u001b[0m \u001b[43m    \u001b[49m\u001b[43mvolumes\u001b[49m\u001b[38;5;241;43m=\u001b[39;49m\u001b[43mdenormalized_volume\u001b[49m\u001b[43m,\u001b[49m\u001b[43m \u001b[49m\n\u001b[0;32m     22\u001b[0m \u001b[43m    \u001b[49m\u001b[43msample_volume\u001b[49m\u001b[38;5;241;43m=\u001b[39;49m\u001b[43msample_volume\u001b[49m\u001b[43m,\u001b[49m\u001b[43m \u001b[49m\n\u001b[0;32m     23\u001b[0m \u001b[43m    \u001b[49m\u001b[43mtarget_well\u001b[49m\u001b[38;5;241;43m=\u001b[39;49m\u001b[43mtarget_well\u001b[49m\u001b[43m,\u001b[49m\u001b[43m \u001b[49m\n\u001b[0;32m     24\u001b[0m \u001b[43m    \u001b[49m\u001b[43mcamera_target_well\u001b[49m\u001b[38;5;241;43m=\u001b[39;49m\u001b[43mcamera_target_well\u001b[49m\u001b[43m,\u001b[49m\u001b[43m \u001b[49m\n\u001b[0;32m     25\u001b[0m \u001b[43m    \u001b[49m\u001b[43mtip_rack\u001b[49m\u001b[38;5;241;43m=\u001b[39;49m\u001b[43mtiprack\u001b[49m\u001b[43m,\u001b[49m\u001b[43m \u001b[49m\n\u001b[0;32m     26\u001b[0m \u001b[43m    \u001b[49m\u001b[43mtip_index\u001b[49m\u001b[38;5;241;43m=\u001b[39;49m\u001b[43mtip_index\u001b[49m\n\u001b[0;32m     27\u001b[0m \u001b[43m\u001b[49m\u001b[43m)\u001b[49m\n\u001b[0;32m     29\u001b[0m rgb_samples \u001b[38;5;241m=\u001b[39m np\u001b[38;5;241m.\u001b[39mvstack((rgb_samples, rgb))\n\u001b[0;32m     30\u001b[0m visualize_one_color(rgb, target_rgb, idx)\n",
      "Cell \u001b[1;32mIn[85], line 137\u001b[0m, in \u001b[0;36mcolor_maker\u001b[1;34m(volumes, sample_volume, target_well, camera_target_well, tip_rack, tip_index)\u001b[0m\n\u001b[0;32m    116\u001b[0m \u001b[38;5;250m\u001b[39m\u001b[38;5;124;03m\"\"\"\u001b[39;00m\n\u001b[0;32m    117\u001b[0m \u001b[38;5;124;03mMixes colors based on the given RGB values, dispenses into the target well, and captures an image to analyze the resulting RGB.\u001b[39;00m\n\u001b[0;32m    118\u001b[0m \u001b[38;5;124;03mThe Function performs color_mover and process_camera functionality.\u001b[39;00m\n\u001b[1;32m   (...)\u001b[0m\n\u001b[0;32m    129\u001b[0m \u001b[38;5;124;03m        - rgb_array (np.ndarray): Extracted and normalized RGB values from the image. Shape: (n_samples, 3).\u001b[39;00m\n\u001b[0;32m    130\u001b[0m \u001b[38;5;124;03m\"\"\"\u001b[39;00m\n\u001b[0;32m    134\u001b[0m \u001b[38;5;66;03m# volumes = calculate_volumes_cmyk(rgb, sample_volume)\u001b[39;00m\n\u001b[0;32m    135\u001b[0m \n\u001b[0;32m    136\u001b[0m \u001b[38;5;66;03m# Mix colors using the pipette       \u001b[39;00m\n\u001b[1;32m--> 137\u001b[0m tip_index \u001b[38;5;241m=\u001b[39m \u001b[43mcolor_mover\u001b[49m\u001b[43m(\u001b[49m\u001b[43mvolumes\u001b[49m\u001b[43m,\u001b[49m\u001b[43m \u001b[49m\u001b[43mtarget_well\u001b[49m\u001b[43m,\u001b[49m\u001b[43m \u001b[49m\u001b[43mtip_rack\u001b[49m\u001b[43m,\u001b[49m\u001b[43m \u001b[49m\u001b[43mtip_index\u001b[49m\u001b[43m)\u001b[49m\n\u001b[0;32m    139\u001b[0m \u001b[38;5;66;03m# Capture circled masked image of resulting color in the well and extract rgb \u001b[39;00m\n\u001b[0;32m    140\u001b[0m masked_image, rgb_results \u001b[38;5;241m=\u001b[39m process_camera(camera_target_well)\n",
      "Cell \u001b[1;32mIn[85], line 49\u001b[0m, in \u001b[0;36mcolor_mover\u001b[1;34m(volumes, target_well, tip_rack, tip_index)\u001b[0m\n\u001b[0;32m     47\u001b[0m     \u001b[38;5;28;01mraise\u001b[39;00m \u001b[38;5;167;01mIndexError\u001b[39;00m(\u001b[38;5;124m\"\u001b[39m\u001b[38;5;124mNo more available tips in the tip rack\u001b[39m\u001b[38;5;124m\"\u001b[39m)\n\u001b[0;32m     48\u001b[0m tip_location \u001b[38;5;241m=\u001b[39m tip_rack[tip_index]\n\u001b[1;32m---> 49\u001b[0m \u001b[43mP20\u001b[49m\u001b[38;5;241;43m.\u001b[39;49m\u001b[43mpickup_tip\u001b[49m\u001b[43m(\u001b[49m\u001b[43mtip_location\u001b[49m\u001b[43m)\u001b[49m\n\u001b[0;32m     50\u001b[0m \u001b[38;5;66;03m#tip_index += 1 # Move to the next tip for the next color\u001b[39;00m\n\u001b[0;32m     52\u001b[0m \u001b[38;5;28mprint\u001b[39m(\u001b[38;5;124mf\u001b[39m\u001b[38;5;124m\"\u001b[39m\u001b[38;5;124mPicked up new tip: \u001b[39m\u001b[38;5;132;01m{\u001b[39;00mtip_location\u001b[38;5;132;01m}\u001b[39;00m\u001b[38;5;124m\"\u001b[39m)\n",
      "File \u001b[1;32mC:\\science-jubilee\\src\\science_jubilee\\tools\\Tool.py:49\u001b[0m, in \u001b[0;36mrequires_active_tool.<locals>.wrapper\u001b[1;34m(self, *args, **kwargs)\u001b[0m\n\u001b[0;32m     45\u001b[0m     \u001b[38;5;28;01mraise\u001b[39;00m ToolStateError(\n\u001b[0;32m     46\u001b[0m         \u001b[38;5;124mf\u001b[39m\u001b[38;5;124m\"\u001b[39m\u001b[38;5;124mError: Tool \u001b[39m\u001b[38;5;132;01m{\u001b[39;00m\u001b[38;5;28mself\u001b[39m\u001b[38;5;241m.\u001b[39mname\u001b[38;5;132;01m}\u001b[39;00m\u001b[38;5;124m is not the current `Active Tool`. Cannot perform this action\u001b[39m\u001b[38;5;124m\"\u001b[39m\n\u001b[0;32m     47\u001b[0m     )\n\u001b[0;32m     48\u001b[0m \u001b[38;5;28;01melse\u001b[39;00m:\n\u001b[1;32m---> 49\u001b[0m     \u001b[38;5;28;01mreturn\u001b[39;00m \u001b[43mfunc\u001b[49m\u001b[43m(\u001b[49m\u001b[38;5;28;43mself\u001b[39;49m\u001b[43m,\u001b[49m\u001b[43m \u001b[49m\u001b[38;5;241;43m*\u001b[39;49m\u001b[43margs\u001b[49m\u001b[43m,\u001b[49m\u001b[43m \u001b[49m\u001b[38;5;241;43m*\u001b[39;49m\u001b[38;5;241;43m*\u001b[39;49m\u001b[43mkwargs\u001b[49m\u001b[43m)\u001b[49m\n",
      "File \u001b[1;32mC:\\science-jubilee\\src\\science_jubilee\\tools\\Pipette.py:689\u001b[0m, in \u001b[0;36mPipette.pickup_tip\u001b[1;34m(self, tip_)\u001b[0m\n\u001b[0;32m    687\u001b[0m \u001b[38;5;28mself\u001b[39m\u001b[38;5;241m.\u001b[39m_machine\u001b[38;5;241m.\u001b[39msafe_z_movement()\n\u001b[0;32m    688\u001b[0m \u001b[38;5;28mself\u001b[39m\u001b[38;5;241m.\u001b[39m_machine\u001b[38;5;241m.\u001b[39mmove_to(x\u001b[38;5;241m=\u001b[39mx, y\u001b[38;5;241m=\u001b[39my)\n\u001b[1;32m--> 689\u001b[0m \u001b[38;5;28;43mself\u001b[39;49m\u001b[38;5;241;43m.\u001b[39;49m\u001b[43m_pickup_tip\u001b[49m\u001b[43m(\u001b[49m\u001b[43mz\u001b[49m\u001b[43m)\u001b[49m\n\u001b[0;32m    690\u001b[0m \u001b[38;5;28mself\u001b[39m\u001b[38;5;241m.\u001b[39mhas_tip \u001b[38;5;241m=\u001b[39m \u001b[38;5;28;01mTrue\u001b[39;00m\n\u001b[0;32m    691\u001b[0m \u001b[38;5;28mself\u001b[39m\u001b[38;5;241m.\u001b[39mupdate_z_offset(tip\u001b[38;5;241m=\u001b[39m\u001b[38;5;28;01mTrue\u001b[39;00m)\n",
      "File \u001b[1;32mC:\\science-jubilee\\src\\science_jubilee\\tools\\Tool.py:49\u001b[0m, in \u001b[0;36mrequires_active_tool.<locals>.wrapper\u001b[1;34m(self, *args, **kwargs)\u001b[0m\n\u001b[0;32m     45\u001b[0m     \u001b[38;5;28;01mraise\u001b[39;00m ToolStateError(\n\u001b[0;32m     46\u001b[0m         \u001b[38;5;124mf\u001b[39m\u001b[38;5;124m\"\u001b[39m\u001b[38;5;124mError: Tool \u001b[39m\u001b[38;5;132;01m{\u001b[39;00m\u001b[38;5;28mself\u001b[39m\u001b[38;5;241m.\u001b[39mname\u001b[38;5;132;01m}\u001b[39;00m\u001b[38;5;124m is not the current `Active Tool`. Cannot perform this action\u001b[39m\u001b[38;5;124m\"\u001b[39m\n\u001b[0;32m     47\u001b[0m     )\n\u001b[0;32m     48\u001b[0m \u001b[38;5;28;01melse\u001b[39;00m:\n\u001b[1;32m---> 49\u001b[0m     \u001b[38;5;28;01mreturn\u001b[39;00m \u001b[43mfunc\u001b[49m\u001b[43m(\u001b[49m\u001b[38;5;28;43mself\u001b[39;49m\u001b[43m,\u001b[49m\u001b[43m \u001b[49m\u001b[38;5;241;43m*\u001b[39;49m\u001b[43margs\u001b[49m\u001b[43m,\u001b[49m\u001b[43m \u001b[49m\u001b[38;5;241;43m*\u001b[39;49m\u001b[38;5;241;43m*\u001b[39;49m\u001b[43mkwargs\u001b[49m\u001b[43m)\u001b[49m\n",
      "File \u001b[1;32mC:\\science-jubilee\\src\\science_jubilee\\tools\\Pipette.py:663\u001b[0m, in \u001b[0;36mPipette._pickup_tip\u001b[1;34m(self, z)\u001b[0m\n\u001b[0;32m    655\u001b[0m \u001b[38;5;250m\u001b[39m\u001b[38;5;124;03m\"\"\"Moves the Jubilee Z-axis upwards to pick up a pipette tip and stops once the tip sensor is triggered\u001b[39;00m\n\u001b[0;32m    656\u001b[0m \n\u001b[0;32m    657\u001b[0m \u001b[38;5;124;03m:param z: The z-coordinate to move the pipette to\u001b[39;00m\n\u001b[0;32m    658\u001b[0m \u001b[38;5;124;03m:type z: float\u001b[39;00m\n\u001b[0;32m    659\u001b[0m \u001b[38;5;124;03m:raises ToolStateError: If the pipette already has a tip attached\u001b[39;00m\n\u001b[0;32m    660\u001b[0m \u001b[38;5;124;03m\"\"\"\u001b[39;00m\n\u001b[0;32m    661\u001b[0m \u001b[38;5;28;01mif\u001b[39;00m \u001b[38;5;28mself\u001b[39m\u001b[38;5;241m.\u001b[39mhas_tip \u001b[38;5;241m==\u001b[39m \u001b[38;5;28;01mFalse\u001b[39;00m:\n\u001b[0;32m    662\u001b[0m     \u001b[38;5;66;03m# self._machine.move_to(z=z-10 , s=1200) # test this- we might benefit from a faster approach to pickingup pipette and then slowing down\u001b[39;00m\n\u001b[1;32m--> 663\u001b[0m     \u001b[38;5;28;43mself\u001b[39;49m\u001b[38;5;241;43m.\u001b[39;49m\u001b[43m_machine\u001b[49m\u001b[38;5;241;43m.\u001b[39;49m\u001b[43mmove_to\u001b[49m\u001b[43m(\u001b[49m\u001b[43mz\u001b[49m\u001b[38;5;241;43m=\u001b[39;49m\u001b[43mz\u001b[49m\u001b[43m,\u001b[49m\u001b[43m \u001b[49m\u001b[43ms\u001b[49m\u001b[38;5;241;43m=\u001b[39;49m\u001b[38;5;241;43m800\u001b[39;49m\u001b[43m,\u001b[49m\u001b[43m \u001b[49m\u001b[43mparam\u001b[49m\u001b[38;5;241;43m=\u001b[39;49m\u001b[38;5;124;43m\"\u001b[39;49m\u001b[38;5;124;43mH4\u001b[39;49m\u001b[38;5;124;43m\"\u001b[39;49m\u001b[43m)\u001b[49m\n\u001b[0;32m    664\u001b[0m \u001b[38;5;28;01melse\u001b[39;00m:\n\u001b[0;32m    665\u001b[0m     \u001b[38;5;28;01mraise\u001b[39;00m ToolStateError(\u001b[38;5;124m\"\u001b[39m\u001b[38;5;124mError: Pipette already equipped with a tip.\u001b[39m\u001b[38;5;124m\"\u001b[39m)\n",
      "File \u001b[1;32mC:\\science-jubilee\\src\\science_jubilee\\Machine.py:749\u001b[0m, in \u001b[0;36mMachine.move_to\u001b[1;34m(self, x, y, z, e, v, s, param, wait)\u001b[0m\n\u001b[0;32m    731\u001b[0m \u001b[38;5;250m\u001b[39m\u001b[38;5;124;03m\"\"\"Move to an absolute X/Y/Z/E/V position.\u001b[39;00m\n\u001b[0;32m    732\u001b[0m \n\u001b[0;32m    733\u001b[0m \u001b[38;5;124;03m:param x: x position on the bed, in whatever units have been set (default mm)\u001b[39;00m\n\u001b[1;32m   (...)\u001b[0m\n\u001b[0;32m    745\u001b[0m \n\u001b[0;32m    746\u001b[0m \u001b[38;5;124;03m\"\"\"\u001b[39;00m\n\u001b[0;32m    747\u001b[0m \u001b[38;5;28mself\u001b[39m\u001b[38;5;241m.\u001b[39m_set_absolute_positioning()\n\u001b[1;32m--> 749\u001b[0m \u001b[38;5;28;43mself\u001b[39;49m\u001b[38;5;241;43m.\u001b[39;49m\u001b[43m_move_xyzev\u001b[49m\u001b[43m(\u001b[49m\u001b[43mx\u001b[49m\u001b[38;5;241;43m=\u001b[39;49m\u001b[43mx\u001b[49m\u001b[43m,\u001b[49m\u001b[43m \u001b[49m\u001b[43my\u001b[49m\u001b[38;5;241;43m=\u001b[39;49m\u001b[43my\u001b[49m\u001b[43m,\u001b[49m\u001b[43m \u001b[49m\u001b[43mz\u001b[49m\u001b[38;5;241;43m=\u001b[39;49m\u001b[43mz\u001b[49m\u001b[43m,\u001b[49m\u001b[43m \u001b[49m\u001b[43me\u001b[49m\u001b[38;5;241;43m=\u001b[39;49m\u001b[43me\u001b[49m\u001b[43m,\u001b[49m\u001b[43m \u001b[49m\u001b[43mv\u001b[49m\u001b[38;5;241;43m=\u001b[39;49m\u001b[43mv\u001b[49m\u001b[43m,\u001b[49m\u001b[43m \u001b[49m\u001b[43ms\u001b[49m\u001b[38;5;241;43m=\u001b[39;49m\u001b[43ms\u001b[49m\u001b[43m,\u001b[49m\u001b[43m \u001b[49m\u001b[43mparam\u001b[49m\u001b[38;5;241;43m=\u001b[39;49m\u001b[43mparam\u001b[49m\u001b[43m,\u001b[49m\u001b[43m \u001b[49m\u001b[43mwait\u001b[49m\u001b[38;5;241;43m=\u001b[39;49m\u001b[43mwait\u001b[49m\u001b[43m)\u001b[49m\n",
      "File \u001b[1;32mC:\\science-jubilee\\src\\science_jubilee\\Machine.py:56\u001b[0m, in \u001b[0;36mmachine_homed.<locals>.homing_check\u001b[1;34m(self, *args, **kwds)\u001b[0m\n\u001b[0;32m     54\u001b[0m     \u001b[38;5;28;01mreturn\u001b[39;00m func(\u001b[38;5;28mself\u001b[39m, \u001b[38;5;241m*\u001b[39margs, \u001b[38;5;241m*\u001b[39m\u001b[38;5;241m*\u001b[39mkwds)\n\u001b[0;32m     55\u001b[0m \u001b[38;5;28;01mif\u001b[39;00m \u001b[38;5;28mself\u001b[39m\u001b[38;5;241m.\u001b[39maxes_homed \u001b[38;5;129;01mand\u001b[39;00m \u001b[38;5;28mall\u001b[39m(\u001b[38;5;28mself\u001b[39m\u001b[38;5;241m.\u001b[39maxes_homed):\n\u001b[1;32m---> 56\u001b[0m     \u001b[38;5;28;01mreturn\u001b[39;00m \u001b[43mfunc\u001b[49m\u001b[43m(\u001b[49m\u001b[38;5;28;43mself\u001b[39;49m\u001b[43m,\u001b[49m\u001b[43m \u001b[49m\u001b[38;5;241;43m*\u001b[39;49m\u001b[43margs\u001b[49m\u001b[43m,\u001b[49m\u001b[43m \u001b[49m\u001b[38;5;241;43m*\u001b[39;49m\u001b[38;5;241;43m*\u001b[39;49m\u001b[43mkwds\u001b[49m\u001b[43m)\u001b[49m\n\u001b[0;32m     57\u001b[0m \u001b[38;5;66;03m# Request homing status from the object model if not known.\u001b[39;00m\n\u001b[0;32m     58\u001b[0m \u001b[38;5;28mself\u001b[39m\u001b[38;5;241m.\u001b[39maxes_homed \u001b[38;5;241m=\u001b[39m json\u001b[38;5;241m.\u001b[39mloads(\u001b[38;5;28mself\u001b[39m\u001b[38;5;241m.\u001b[39mgcode(\u001b[38;5;124m'\u001b[39m\u001b[38;5;124mM409 K\u001b[39m\u001b[38;5;124m\"\u001b[39m\u001b[38;5;124mmove.axes[].homed\u001b[39m\u001b[38;5;124m\"\u001b[39m\u001b[38;5;124m'\u001b[39m))[\u001b[38;5;124m\"\u001b[39m\u001b[38;5;124mresult\u001b[39m\u001b[38;5;124m\"\u001b[39m]\n",
      "File \u001b[1;32mC:\\science-jubilee\\src\\science_jubilee\\Machine.py:716\u001b[0m, in \u001b[0;36mMachine._move_xyzev\u001b[1;34m(self, x, y, z, e, v, s, param, wait)\u001b[0m\n\u001b[0;32m    713\u001b[0m     param_cmd \u001b[38;5;241m=\u001b[39m param\n\u001b[0;32m    715\u001b[0m cmd \u001b[38;5;241m=\u001b[39m \u001b[38;5;124mf\u001b[39m\u001b[38;5;124m\"\u001b[39m\u001b[38;5;124mG0 \u001b[39m\u001b[38;5;132;01m{\u001b[39;00mz_cmd\u001b[38;5;132;01m}\u001b[39;00m\u001b[38;5;124m \u001b[39m\u001b[38;5;132;01m{\u001b[39;00mx_cmd\u001b[38;5;132;01m}\u001b[39;00m\u001b[38;5;124m \u001b[39m\u001b[38;5;132;01m{\u001b[39;00my_cmd\u001b[38;5;132;01m}\u001b[39;00m\u001b[38;5;124m \u001b[39m\u001b[38;5;132;01m{\u001b[39;00me_cmd\u001b[38;5;132;01m}\u001b[39;00m\u001b[38;5;124m \u001b[39m\u001b[38;5;132;01m{\u001b[39;00mv_cmd\u001b[38;5;132;01m}\u001b[39;00m\u001b[38;5;124m \u001b[39m\u001b[38;5;132;01m{\u001b[39;00mf_cmd\u001b[38;5;132;01m}\u001b[39;00m\u001b[38;5;124m \u001b[39m\u001b[38;5;132;01m{\u001b[39;00mparam_cmd\u001b[38;5;132;01m}\u001b[39;00m\u001b[38;5;124m\"\u001b[39m\n\u001b[1;32m--> 716\u001b[0m \u001b[38;5;28;43mself\u001b[39;49m\u001b[38;5;241;43m.\u001b[39;49m\u001b[43mgcode\u001b[49m\u001b[43m(\u001b[49m\u001b[43mcmd\u001b[49m\u001b[43m)\u001b[49m\n\u001b[0;32m    717\u001b[0m \u001b[38;5;28;01mif\u001b[39;00m wait:\n\u001b[0;32m    718\u001b[0m     \u001b[38;5;28mself\u001b[39m\u001b[38;5;241m.\u001b[39mgcode(\u001b[38;5;124mf\u001b[39m\u001b[38;5;124m\"\u001b[39m\u001b[38;5;124mM400\u001b[39m\u001b[38;5;124m\"\u001b[39m)\n",
      "File \u001b[1;32mC:\\science-jubilee\\src\\science_jubilee\\Machine.py:488\u001b[0m, in \u001b[0;36mMachine.gcode\u001b[1;34m(self, cmd, timeout, response_wait)\u001b[0m\n\u001b[0;32m    486\u001b[0m \u001b[38;5;28;01mwhile\u001b[39;00m \u001b[38;5;28;01mTrue\u001b[39;00m:\n\u001b[0;32m    487\u001b[0m     \u001b[38;5;28;01mtry\u001b[39;00m:\n\u001b[1;32m--> 488\u001b[0m         new_reply_count \u001b[38;5;241m=\u001b[39m \u001b[38;5;28;43mself\u001b[39;49m\u001b[38;5;241;43m.\u001b[39;49m\u001b[43msession\u001b[49m\u001b[38;5;241;43m.\u001b[39;49m\u001b[43mget\u001b[49m\u001b[43m(\u001b[49m\n\u001b[0;32m    489\u001b[0m \u001b[43m            \u001b[49m\u001b[38;5;124;43mf\u001b[39;49m\u001b[38;5;124;43m\"\u001b[39;49m\u001b[38;5;124;43mhttp://\u001b[39;49m\u001b[38;5;132;43;01m{\u001b[39;49;00m\u001b[38;5;28;43mself\u001b[39;49m\u001b[38;5;241;43m.\u001b[39;49m\u001b[43maddress\u001b[49m\u001b[38;5;132;43;01m}\u001b[39;49;00m\u001b[38;5;124;43m/rr_model?key=seqs\u001b[39;49m\u001b[38;5;124;43m\"\u001b[39;49m\n\u001b[0;32m    490\u001b[0m \u001b[43m        \u001b[49m\u001b[43m)\u001b[49m\u001b[38;5;241m.\u001b[39mjson()[\u001b[38;5;124m\"\u001b[39m\u001b[38;5;124mresult\u001b[39m\u001b[38;5;124m\"\u001b[39m][\u001b[38;5;124m\"\u001b[39m\u001b[38;5;124mreply\u001b[39m\u001b[38;5;124m\"\u001b[39m]\n\u001b[0;32m    491\u001b[0m         \u001b[38;5;28;01mif\u001b[39;00m new_reply_count \u001b[38;5;241m!=\u001b[39m reply_count:\n\u001b[0;32m    492\u001b[0m             response \u001b[38;5;241m=\u001b[39m \u001b[38;5;28mself\u001b[39m\u001b[38;5;241m.\u001b[39msession\u001b[38;5;241m.\u001b[39mget(\n\u001b[0;32m    493\u001b[0m                 \u001b[38;5;124mf\u001b[39m\u001b[38;5;124m\"\u001b[39m\u001b[38;5;124mhttp://\u001b[39m\u001b[38;5;132;01m{\u001b[39;00m\u001b[38;5;28mself\u001b[39m\u001b[38;5;241m.\u001b[39maddress\u001b[38;5;132;01m}\u001b[39;00m\u001b[38;5;124m/rr_reply\u001b[39m\u001b[38;5;124m\"\u001b[39m\n\u001b[0;32m    494\u001b[0m             )\u001b[38;5;241m.\u001b[39mtext\n",
      "File \u001b[1;32mc:\\Users\\titan\\anaconda3\\envs\\axo\\Lib\\site-packages\\requests\\sessions.py:602\u001b[0m, in \u001b[0;36mSession.get\u001b[1;34m(self, url, **kwargs)\u001b[0m\n\u001b[0;32m    594\u001b[0m \u001b[38;5;250m\u001b[39m\u001b[38;5;124mr\u001b[39m\u001b[38;5;124;03m\"\"\"Sends a GET request. Returns :class:`Response` object.\u001b[39;00m\n\u001b[0;32m    595\u001b[0m \n\u001b[0;32m    596\u001b[0m \u001b[38;5;124;03m:param url: URL for the new :class:`Request` object.\u001b[39;00m\n\u001b[0;32m    597\u001b[0m \u001b[38;5;124;03m:param \\*\\*kwargs: Optional arguments that ``request`` takes.\u001b[39;00m\n\u001b[0;32m    598\u001b[0m \u001b[38;5;124;03m:rtype: requests.Response\u001b[39;00m\n\u001b[0;32m    599\u001b[0m \u001b[38;5;124;03m\"\"\"\u001b[39;00m\n\u001b[0;32m    601\u001b[0m kwargs\u001b[38;5;241m.\u001b[39msetdefault(\u001b[38;5;124m\"\u001b[39m\u001b[38;5;124mallow_redirects\u001b[39m\u001b[38;5;124m\"\u001b[39m, \u001b[38;5;28;01mTrue\u001b[39;00m)\n\u001b[1;32m--> 602\u001b[0m \u001b[38;5;28;01mreturn\u001b[39;00m \u001b[38;5;28;43mself\u001b[39;49m\u001b[38;5;241;43m.\u001b[39;49m\u001b[43mrequest\u001b[49m\u001b[43m(\u001b[49m\u001b[38;5;124;43m\"\u001b[39;49m\u001b[38;5;124;43mGET\u001b[39;49m\u001b[38;5;124;43m\"\u001b[39;49m\u001b[43m,\u001b[49m\u001b[43m \u001b[49m\u001b[43murl\u001b[49m\u001b[43m,\u001b[49m\u001b[43m \u001b[49m\u001b[38;5;241;43m*\u001b[39;49m\u001b[38;5;241;43m*\u001b[39;49m\u001b[43mkwargs\u001b[49m\u001b[43m)\u001b[49m\n",
      "File \u001b[1;32mc:\\Users\\titan\\anaconda3\\envs\\axo\\Lib\\site-packages\\requests\\sessions.py:589\u001b[0m, in \u001b[0;36mSession.request\u001b[1;34m(self, method, url, params, data, headers, cookies, files, auth, timeout, allow_redirects, proxies, hooks, stream, verify, cert, json)\u001b[0m\n\u001b[0;32m    584\u001b[0m send_kwargs \u001b[38;5;241m=\u001b[39m {\n\u001b[0;32m    585\u001b[0m     \u001b[38;5;124m\"\u001b[39m\u001b[38;5;124mtimeout\u001b[39m\u001b[38;5;124m\"\u001b[39m: timeout,\n\u001b[0;32m    586\u001b[0m     \u001b[38;5;124m\"\u001b[39m\u001b[38;5;124mallow_redirects\u001b[39m\u001b[38;5;124m\"\u001b[39m: allow_redirects,\n\u001b[0;32m    587\u001b[0m }\n\u001b[0;32m    588\u001b[0m send_kwargs\u001b[38;5;241m.\u001b[39mupdate(settings)\n\u001b[1;32m--> 589\u001b[0m resp \u001b[38;5;241m=\u001b[39m \u001b[38;5;28;43mself\u001b[39;49m\u001b[38;5;241;43m.\u001b[39;49m\u001b[43msend\u001b[49m\u001b[43m(\u001b[49m\u001b[43mprep\u001b[49m\u001b[43m,\u001b[49m\u001b[43m \u001b[49m\u001b[38;5;241;43m*\u001b[39;49m\u001b[38;5;241;43m*\u001b[39;49m\u001b[43msend_kwargs\u001b[49m\u001b[43m)\u001b[49m\n\u001b[0;32m    591\u001b[0m \u001b[38;5;28;01mreturn\u001b[39;00m resp\n",
      "File \u001b[1;32mc:\\Users\\titan\\anaconda3\\envs\\axo\\Lib\\site-packages\\requests\\sessions.py:746\u001b[0m, in \u001b[0;36mSession.send\u001b[1;34m(self, request, **kwargs)\u001b[0m\n\u001b[0;32m    743\u001b[0m         \u001b[38;5;28;01mpass\u001b[39;00m\n\u001b[0;32m    745\u001b[0m \u001b[38;5;28;01mif\u001b[39;00m \u001b[38;5;129;01mnot\u001b[39;00m stream:\n\u001b[1;32m--> 746\u001b[0m     \u001b[43mr\u001b[49m\u001b[38;5;241;43m.\u001b[39;49m\u001b[43mcontent\u001b[49m\n\u001b[0;32m    748\u001b[0m \u001b[38;5;28;01mreturn\u001b[39;00m r\n",
      "File \u001b[1;32mc:\\Users\\titan\\anaconda3\\envs\\axo\\Lib\\site-packages\\requests\\models.py:902\u001b[0m, in \u001b[0;36mResponse.content\u001b[1;34m(self)\u001b[0m\n\u001b[0;32m    900\u001b[0m         \u001b[38;5;28mself\u001b[39m\u001b[38;5;241m.\u001b[39m_content \u001b[38;5;241m=\u001b[39m \u001b[38;5;28;01mNone\u001b[39;00m\n\u001b[0;32m    901\u001b[0m     \u001b[38;5;28;01melse\u001b[39;00m:\n\u001b[1;32m--> 902\u001b[0m         \u001b[38;5;28mself\u001b[39m\u001b[38;5;241m.\u001b[39m_content \u001b[38;5;241m=\u001b[39m \u001b[38;5;124;43mb\u001b[39;49m\u001b[38;5;124;43m\"\u001b[39;49m\u001b[38;5;124;43m\"\u001b[39;49m\u001b[38;5;241;43m.\u001b[39;49m\u001b[43mjoin\u001b[49m\u001b[43m(\u001b[49m\u001b[38;5;28;43mself\u001b[39;49m\u001b[38;5;241;43m.\u001b[39;49m\u001b[43miter_content\u001b[49m\u001b[43m(\u001b[49m\u001b[43mCONTENT_CHUNK_SIZE\u001b[49m\u001b[43m)\u001b[49m\u001b[43m)\u001b[49m \u001b[38;5;129;01mor\u001b[39;00m \u001b[38;5;124mb\u001b[39m\u001b[38;5;124m\"\u001b[39m\u001b[38;5;124m\"\u001b[39m\n\u001b[0;32m    904\u001b[0m \u001b[38;5;28mself\u001b[39m\u001b[38;5;241m.\u001b[39m_content_consumed \u001b[38;5;241m=\u001b[39m \u001b[38;5;28;01mTrue\u001b[39;00m\n\u001b[0;32m    905\u001b[0m \u001b[38;5;66;03m# don't need to release the connection; that's been handled by urllib3\u001b[39;00m\n\u001b[0;32m    906\u001b[0m \u001b[38;5;66;03m# since we exhausted the data.\u001b[39;00m\n",
      "File \u001b[1;32mc:\\Users\\titan\\anaconda3\\envs\\axo\\Lib\\site-packages\\requests\\models.py:820\u001b[0m, in \u001b[0;36mResponse.iter_content.<locals>.generate\u001b[1;34m()\u001b[0m\n\u001b[0;32m    818\u001b[0m \u001b[38;5;28;01mif\u001b[39;00m \u001b[38;5;28mhasattr\u001b[39m(\u001b[38;5;28mself\u001b[39m\u001b[38;5;241m.\u001b[39mraw, \u001b[38;5;124m\"\u001b[39m\u001b[38;5;124mstream\u001b[39m\u001b[38;5;124m\"\u001b[39m):\n\u001b[0;32m    819\u001b[0m     \u001b[38;5;28;01mtry\u001b[39;00m:\n\u001b[1;32m--> 820\u001b[0m         \u001b[38;5;28;01myield from\u001b[39;00m \u001b[38;5;28mself\u001b[39m\u001b[38;5;241m.\u001b[39mraw\u001b[38;5;241m.\u001b[39mstream(chunk_size, decode_content\u001b[38;5;241m=\u001b[39m\u001b[38;5;28;01mTrue\u001b[39;00m)\n\u001b[0;32m    821\u001b[0m     \u001b[38;5;28;01mexcept\u001b[39;00m ProtocolError \u001b[38;5;28;01mas\u001b[39;00m e:\n\u001b[0;32m    822\u001b[0m         \u001b[38;5;28;01mraise\u001b[39;00m ChunkedEncodingError(e)\n",
      "File \u001b[1;32mc:\\Users\\titan\\anaconda3\\envs\\axo\\Lib\\site-packages\\urllib3\\response.py:1060\u001b[0m, in \u001b[0;36mHTTPResponse.stream\u001b[1;34m(self, amt, decode_content)\u001b[0m\n\u001b[0;32m   1058\u001b[0m \u001b[38;5;28;01melse\u001b[39;00m:\n\u001b[0;32m   1059\u001b[0m     \u001b[38;5;28;01mwhile\u001b[39;00m \u001b[38;5;129;01mnot\u001b[39;00m is_fp_closed(\u001b[38;5;28mself\u001b[39m\u001b[38;5;241m.\u001b[39m_fp) \u001b[38;5;129;01mor\u001b[39;00m \u001b[38;5;28mlen\u001b[39m(\u001b[38;5;28mself\u001b[39m\u001b[38;5;241m.\u001b[39m_decoded_buffer) \u001b[38;5;241m>\u001b[39m \u001b[38;5;241m0\u001b[39m:\n\u001b[1;32m-> 1060\u001b[0m         data \u001b[38;5;241m=\u001b[39m \u001b[38;5;28;43mself\u001b[39;49m\u001b[38;5;241;43m.\u001b[39;49m\u001b[43mread\u001b[49m\u001b[43m(\u001b[49m\u001b[43mamt\u001b[49m\u001b[38;5;241;43m=\u001b[39;49m\u001b[43mamt\u001b[49m\u001b[43m,\u001b[49m\u001b[43m \u001b[49m\u001b[43mdecode_content\u001b[49m\u001b[38;5;241;43m=\u001b[39;49m\u001b[43mdecode_content\u001b[49m\u001b[43m)\u001b[49m\n\u001b[0;32m   1062\u001b[0m         \u001b[38;5;28;01mif\u001b[39;00m data:\n\u001b[0;32m   1063\u001b[0m             \u001b[38;5;28;01myield\u001b[39;00m data\n",
      "File \u001b[1;32mc:\\Users\\titan\\anaconda3\\envs\\axo\\Lib\\site-packages\\urllib3\\response.py:949\u001b[0m, in \u001b[0;36mHTTPResponse.read\u001b[1;34m(self, amt, decode_content, cache_content)\u001b[0m\n\u001b[0;32m    946\u001b[0m     \u001b[38;5;28;01mif\u001b[39;00m \u001b[38;5;28mlen\u001b[39m(\u001b[38;5;28mself\u001b[39m\u001b[38;5;241m.\u001b[39m_decoded_buffer) \u001b[38;5;241m>\u001b[39m\u001b[38;5;241m=\u001b[39m amt:\n\u001b[0;32m    947\u001b[0m         \u001b[38;5;28;01mreturn\u001b[39;00m \u001b[38;5;28mself\u001b[39m\u001b[38;5;241m.\u001b[39m_decoded_buffer\u001b[38;5;241m.\u001b[39mget(amt)\n\u001b[1;32m--> 949\u001b[0m data \u001b[38;5;241m=\u001b[39m \u001b[38;5;28;43mself\u001b[39;49m\u001b[38;5;241;43m.\u001b[39;49m\u001b[43m_raw_read\u001b[49m\u001b[43m(\u001b[49m\u001b[43mamt\u001b[49m\u001b[43m)\u001b[49m\n\u001b[0;32m    951\u001b[0m flush_decoder \u001b[38;5;241m=\u001b[39m amt \u001b[38;5;129;01mis\u001b[39;00m \u001b[38;5;28;01mNone\u001b[39;00m \u001b[38;5;129;01mor\u001b[39;00m (amt \u001b[38;5;241m!=\u001b[39m \u001b[38;5;241m0\u001b[39m \u001b[38;5;129;01mand\u001b[39;00m \u001b[38;5;129;01mnot\u001b[39;00m data)\n\u001b[0;32m    953\u001b[0m \u001b[38;5;28;01mif\u001b[39;00m \u001b[38;5;129;01mnot\u001b[39;00m data \u001b[38;5;129;01mand\u001b[39;00m \u001b[38;5;28mlen\u001b[39m(\u001b[38;5;28mself\u001b[39m\u001b[38;5;241m.\u001b[39m_decoded_buffer) \u001b[38;5;241m==\u001b[39m \u001b[38;5;241m0\u001b[39m:\n",
      "File \u001b[1;32mc:\\Users\\titan\\anaconda3\\envs\\axo\\Lib\\site-packages\\urllib3\\response.py:873\u001b[0m, in \u001b[0;36mHTTPResponse._raw_read\u001b[1;34m(self, amt, read1)\u001b[0m\n\u001b[0;32m    870\u001b[0m fp_closed \u001b[38;5;241m=\u001b[39m \u001b[38;5;28mgetattr\u001b[39m(\u001b[38;5;28mself\u001b[39m\u001b[38;5;241m.\u001b[39m_fp, \u001b[38;5;124m\"\u001b[39m\u001b[38;5;124mclosed\u001b[39m\u001b[38;5;124m\"\u001b[39m, \u001b[38;5;28;01mFalse\u001b[39;00m)\n\u001b[0;32m    872\u001b[0m \u001b[38;5;28;01mwith\u001b[39;00m \u001b[38;5;28mself\u001b[39m\u001b[38;5;241m.\u001b[39m_error_catcher():\n\u001b[1;32m--> 873\u001b[0m     data \u001b[38;5;241m=\u001b[39m \u001b[38;5;28;43mself\u001b[39;49m\u001b[38;5;241;43m.\u001b[39;49m\u001b[43m_fp_read\u001b[49m\u001b[43m(\u001b[49m\u001b[43mamt\u001b[49m\u001b[43m,\u001b[49m\u001b[43m \u001b[49m\u001b[43mread1\u001b[49m\u001b[38;5;241;43m=\u001b[39;49m\u001b[43mread1\u001b[49m\u001b[43m)\u001b[49m \u001b[38;5;28;01mif\u001b[39;00m \u001b[38;5;129;01mnot\u001b[39;00m fp_closed \u001b[38;5;28;01melse\u001b[39;00m \u001b[38;5;124mb\u001b[39m\u001b[38;5;124m\"\u001b[39m\u001b[38;5;124m\"\u001b[39m\n\u001b[0;32m    874\u001b[0m     \u001b[38;5;28;01mif\u001b[39;00m amt \u001b[38;5;129;01mis\u001b[39;00m \u001b[38;5;129;01mnot\u001b[39;00m \u001b[38;5;28;01mNone\u001b[39;00m \u001b[38;5;129;01mand\u001b[39;00m amt \u001b[38;5;241m!=\u001b[39m \u001b[38;5;241m0\u001b[39m \u001b[38;5;129;01mand\u001b[39;00m \u001b[38;5;129;01mnot\u001b[39;00m data:\n\u001b[0;32m    875\u001b[0m         \u001b[38;5;66;03m# Platform-specific: Buggy versions of Python.\u001b[39;00m\n\u001b[0;32m    876\u001b[0m         \u001b[38;5;66;03m# Close the connection when no data is returned\u001b[39;00m\n\u001b[1;32m   (...)\u001b[0m\n\u001b[0;32m    881\u001b[0m         \u001b[38;5;66;03m# not properly close the connection in all cases. There is\u001b[39;00m\n\u001b[0;32m    882\u001b[0m         \u001b[38;5;66;03m# no harm in redundantly calling close.\u001b[39;00m\n\u001b[0;32m    883\u001b[0m         \u001b[38;5;28mself\u001b[39m\u001b[38;5;241m.\u001b[39m_fp\u001b[38;5;241m.\u001b[39mclose()\n",
      "File \u001b[1;32mc:\\Users\\titan\\anaconda3\\envs\\axo\\Lib\\site-packages\\urllib3\\response.py:856\u001b[0m, in \u001b[0;36mHTTPResponse._fp_read\u001b[1;34m(self, amt, read1)\u001b[0m\n\u001b[0;32m    853\u001b[0m     \u001b[38;5;28;01mreturn\u001b[39;00m \u001b[38;5;28mself\u001b[39m\u001b[38;5;241m.\u001b[39m_fp\u001b[38;5;241m.\u001b[39mread1(amt) \u001b[38;5;28;01mif\u001b[39;00m amt \u001b[38;5;129;01mis\u001b[39;00m \u001b[38;5;129;01mnot\u001b[39;00m \u001b[38;5;28;01mNone\u001b[39;00m \u001b[38;5;28;01melse\u001b[39;00m \u001b[38;5;28mself\u001b[39m\u001b[38;5;241m.\u001b[39m_fp\u001b[38;5;241m.\u001b[39mread1()\n\u001b[0;32m    854\u001b[0m \u001b[38;5;28;01melse\u001b[39;00m:\n\u001b[0;32m    855\u001b[0m     \u001b[38;5;66;03m# StringIO doesn't like amt=None\u001b[39;00m\n\u001b[1;32m--> 856\u001b[0m     \u001b[38;5;28;01mreturn\u001b[39;00m \u001b[38;5;28;43mself\u001b[39;49m\u001b[38;5;241;43m.\u001b[39;49m\u001b[43m_fp\u001b[49m\u001b[38;5;241;43m.\u001b[39;49m\u001b[43mread\u001b[49m\u001b[43m(\u001b[49m\u001b[43mamt\u001b[49m\u001b[43m)\u001b[49m \u001b[38;5;28;01mif\u001b[39;00m amt \u001b[38;5;129;01mis\u001b[39;00m \u001b[38;5;129;01mnot\u001b[39;00m \u001b[38;5;28;01mNone\u001b[39;00m \u001b[38;5;28;01melse\u001b[39;00m \u001b[38;5;28mself\u001b[39m\u001b[38;5;241m.\u001b[39m_fp\u001b[38;5;241m.\u001b[39mread()\n",
      "File \u001b[1;32mc:\\Users\\titan\\anaconda3\\envs\\axo\\Lib\\http\\client.py:479\u001b[0m, in \u001b[0;36mHTTPResponse.read\u001b[1;34m(self, amt)\u001b[0m\n\u001b[0;32m    476\u001b[0m \u001b[38;5;28;01mif\u001b[39;00m \u001b[38;5;28mself\u001b[39m\u001b[38;5;241m.\u001b[39mlength \u001b[38;5;129;01mis\u001b[39;00m \u001b[38;5;129;01mnot\u001b[39;00m \u001b[38;5;28;01mNone\u001b[39;00m \u001b[38;5;129;01mand\u001b[39;00m amt \u001b[38;5;241m>\u001b[39m \u001b[38;5;28mself\u001b[39m\u001b[38;5;241m.\u001b[39mlength:\n\u001b[0;32m    477\u001b[0m     \u001b[38;5;66;03m# clip the read to the \"end of response\"\u001b[39;00m\n\u001b[0;32m    478\u001b[0m     amt \u001b[38;5;241m=\u001b[39m \u001b[38;5;28mself\u001b[39m\u001b[38;5;241m.\u001b[39mlength\n\u001b[1;32m--> 479\u001b[0m s \u001b[38;5;241m=\u001b[39m \u001b[38;5;28;43mself\u001b[39;49m\u001b[38;5;241;43m.\u001b[39;49m\u001b[43mfp\u001b[49m\u001b[38;5;241;43m.\u001b[39;49m\u001b[43mread\u001b[49m\u001b[43m(\u001b[49m\u001b[43mamt\u001b[49m\u001b[43m)\u001b[49m\n\u001b[0;32m    480\u001b[0m \u001b[38;5;28;01mif\u001b[39;00m \u001b[38;5;129;01mnot\u001b[39;00m s \u001b[38;5;129;01mand\u001b[39;00m amt:\n\u001b[0;32m    481\u001b[0m     \u001b[38;5;66;03m# Ideally, we would raise IncompleteRead if the content-length\u001b[39;00m\n\u001b[0;32m    482\u001b[0m     \u001b[38;5;66;03m# wasn't satisfied, but it might break compatibility.\u001b[39;00m\n\u001b[0;32m    483\u001b[0m     \u001b[38;5;28mself\u001b[39m\u001b[38;5;241m.\u001b[39m_close_conn()\n",
      "File \u001b[1;32mc:\\Users\\titan\\anaconda3\\envs\\axo\\Lib\\socket.py:719\u001b[0m, in \u001b[0;36mSocketIO.readinto\u001b[1;34m(self, b)\u001b[0m\n\u001b[0;32m    717\u001b[0m     \u001b[38;5;28;01mraise\u001b[39;00m \u001b[38;5;167;01mOSError\u001b[39;00m(\u001b[38;5;124m\"\u001b[39m\u001b[38;5;124mcannot read from timed out object\u001b[39m\u001b[38;5;124m\"\u001b[39m)\n\u001b[0;32m    718\u001b[0m \u001b[38;5;28;01mtry\u001b[39;00m:\n\u001b[1;32m--> 719\u001b[0m     \u001b[38;5;28;01mreturn\u001b[39;00m \u001b[38;5;28;43mself\u001b[39;49m\u001b[38;5;241;43m.\u001b[39;49m\u001b[43m_sock\u001b[49m\u001b[38;5;241;43m.\u001b[39;49m\u001b[43mrecv_into\u001b[49m\u001b[43m(\u001b[49m\u001b[43mb\u001b[49m\u001b[43m)\u001b[49m\n\u001b[0;32m    720\u001b[0m \u001b[38;5;28;01mexcept\u001b[39;00m timeout:\n\u001b[0;32m    721\u001b[0m     \u001b[38;5;28mself\u001b[39m\u001b[38;5;241m.\u001b[39m_timeout_occurred \u001b[38;5;241m=\u001b[39m \u001b[38;5;28;01mTrue\u001b[39;00m\n",
      "\u001b[1;31mKeyboardInterrupt\u001b[0m: "
     ]
    }
   ],
   "source": [
    "# Initialize tip tracking\n",
    "tip_index = 0  \n",
    "\n",
    "# Run the colormixing for initial samples\n",
    "\n",
    "for idx, x_sample in enumerate(X_init_norm): \n",
    "    target_well = all_wells['initial_wells'][idx]\n",
    "    camera_target_well = all_wells['initial_camera_wells'][idx]\n",
    "    # initial_tiprack = all_wells['initial_tipracks']  # Single list of 96 tips\n",
    "\n",
    "    #denormalized_rgb = denormalize_rgb(x_sample, bounds)\n",
    "    denormalized_volume = denormalize_volume_vector(x_sample, sample_volume)\n",
    "    # Visualize the sampled color for each iteration\n",
    "    #visualize_one_color(denormalized_rgb, target_rgb, idx)\n",
    "    \n",
    "    print(f\"Picking up tip from : {tiprack[tip_index]}\")\n",
    "    print(f\"Now aspirating Sample {idx+1} to target_well: {target_well}\")\n",
    "    \n",
    "    # Run color mixing, capture image, and update tip index\n",
    "    image, rgb, tip_index = color_maker(\n",
    "        volumes=denormalized_volume, \n",
    "        sample_volume=sample_volume, \n",
    "        target_well=target_well, \n",
    "        camera_target_well=camera_target_well, \n",
    "        tip_rack=tiprack, \n",
    "        tip_index=tip_index\n",
    "    )\n",
    "    \n",
    "    rgb_samples = np.vstack((rgb_samples, rgb))\n",
    "    visualize_one_color(rgb, target_rgb, idx)\n",
    "    #print(f\"Proposed_rgb: {denormalized_rgb}\")\n",
    "    print(f\"Actual_rgb detected: {rgb}\")\n",
    "    \n",
    "    rgb_val_normalized = normalize_rgb(rgb)\n",
    "    Y_next_norm = color_objective_ciedelta(rgb_val_normalized, normalize_rgb(target_rgb))\n",
    "    \n",
    "    Y_init_norm[idx] = Y_next_norm  # Update the distance\n",
    "\n",
    "# Fit the GP model\n",
    "gp.fit(X_init_norm, Y_init_norm)"
   ]
  },
  {
   "cell_type": "code",
   "execution_count": 35,
   "metadata": {},
   "outputs": [
    {
     "name": "stdout",
     "output_type": "stream",
     "text": [
      "[24.37525731]\n",
      "2\n",
      "[Well A2 form Custom 24 Well Plate on slot 2, Well A3 form Custom 24 Well Plate on slot 2, Well A4 form Custom 24 Well Plate on slot 2, Well A5 form Custom 24 Well Plate on slot 2, Well A6 form Custom 24 Well Plate on slot 2, Well B1 form Custom 24 Well Plate on slot 2, Well B2 form Custom 24 Well Plate on slot 2, Well B3 form Custom 24 Well Plate on slot 2, Well B4 form Custom 24 Well Plate on slot 2, Well B5 form Custom 24 Well Plate on slot 2, Well B6 form Custom 24 Well Plate on slot 2, Well C1 form Custom 24 Well Plate on slot 2, Well C2 form Custom 24 Well Plate on slot 2, Well C3 form Custom 24 Well Plate on slot 2]\n"
     ]
    }
   ],
   "source": [
    "print(Y_init_norm)\n",
    "print(tip_index)\n",
    "print(all_wells['camera_targets'])"
   ]
  },
  {
   "cell_type": "code",
   "execution_count": 36,
   "metadata": {},
   "outputs": [
    {
     "name": "stdout",
     "output_type": "stream",
     "text": [
      "Asipirating {'Cyan': np.float64(0.0), 'Magenta': np.float64(1000.0), 'Yellow': np.float64(5.551115123125783e-14)}\n",
      "Picked up new tip: Well A3 form Opentrons OT-2 96 Tip Rack 1000 µL on slot 5\n",
      "Taking image of Well A2 form Custom 24 Well Plate on slot 2\n",
      "Actual RGB value : [130.18198247  64.05693206  54.97408785]\n"
     ]
    },
    {
     "data": {
      "image/png": "[encoded data removed]",
      "text/plain": [
       "<Figure size 400x200 with 2 Axes>"
      ]
     },
     "metadata": {},
     "output_type": "display_data"
    },
    {
     "name": "stdout",
     "output_type": "stream",
     "text": [
      "Asipirating {'Cyan': np.float64(418.4092180690289), 'Magenta': np.float64(581.5907819309712), 'Yellow': np.float64(0.0)}\n",
      "Picked up new tip: Well A4 form Opentrons OT-2 96 Tip Rack 1000 µL on slot 5\n",
      "Picked up new tip: Well A5 form Opentrons OT-2 96 Tip Rack 1000 µL on slot 5\n",
      "Taking image of Well A3 form Custom 24 Well Plate on slot 2\n",
      "Actual RGB value : [46.04039916 33.81199887 32.88833824]\n"
     ]
    },
    {
     "data": {
      "image/png": "[encoded data removed]",
      "text/plain": [
       "<Figure size 400x200 with 2 Axes>"
      ]
     },
     "metadata": {},
     "output_type": "display_data"
    },
    {
     "name": "stdout",
     "output_type": "stream",
     "text": [
      "Asipirating {'Cyan': np.float64(102.68368844269439), 'Magenta': np.float64(7.178150218320467e-12), 'Yellow': np.float64(897.3163115572984)}\n",
      "Picked up new tip: Well A6 form Opentrons OT-2 96 Tip Rack 1000 µL on slot 5\n",
      "Picked up new tip: Well A7 form Opentrons OT-2 96 Tip Rack 1000 µL on slot 5\n",
      "Taking image of Well A4 form Custom 24 Well Plate on slot 2\n",
      "Actual RGB value : [139.05340069 193.81736184  70.72109195]\n"
     ]
    },
    {
     "data": {
      "image/png": "[encoded data removed]",
      "text/plain": [
       "<Figure size 400x200 with 2 Axes>"
      ]
     },
     "metadata": {},
     "output_type": "display_data"
    },
    {
     "name": "stdout",
     "output_type": "stream",
     "text": [
      "Asipirating {'Cyan': np.float64(0.0), 'Magenta': np.float64(0.0), 'Yellow': np.float64(1000.0)}\n",
      "Picked up new tip: Well A8 form Opentrons OT-2 96 Tip Rack 1000 µL on slot 5\n",
      "Taking image of Well A5 form Custom 24 Well Plate on slot 2\n",
      "Actual RGB value : [194.26343329 219.97074973  82.77557138]\n"
     ]
    },
    {
     "data": {
      "image/png": "[encoded data removed]",
      "text/plain": [
       "<Figure size 400x200 with 2 Axes>"
      ]
     },
     "metadata": {},
     "output_type": "display_data"
    },
    {
     "name": "stdout",
     "output_type": "stream",
     "text": [
      "Asipirating {'Cyan': np.float64(255.68233418911436), 'Magenta': np.float64(1.3660309620128945e-13), 'Yellow': np.float64(744.3176658108855)}\n",
      "Picked up new tip: Well A9 form Opentrons OT-2 96 Tip Rack 1000 µL on slot 5\n",
      "Picked up new tip: Well A10 form Opentrons OT-2 96 Tip Rack 1000 µL on slot 5\n",
      "Taking image of Well A6 form Custom 24 Well Plate on slot 2\n",
      "Actual RGB value : [ 85.3175445  162.0044973   58.04742949]\n"
     ]
    },
    {
     "data": {
      "image/png": "[encoded data removed]",
      "text/plain": [
       "<Figure size 400x200 with 2 Axes>"
      ]
     },
     "metadata": {},
     "output_type": "display_data"
    },
    {
     "name": "stderr",
     "output_type": "stream",
     "text": [
      "c:\\Users\\titan\\anaconda3\\envs\\axo\\Lib\\site-packages\\sklearn\\gaussian_process\\kernels.py:442: ConvergenceWarning: The optimal value found for dimension 0 of parameter length_scale is close to the specified lower bound 1e-05. Decreasing the bound and calling fit again may find a better value.\n",
      "  warnings.warn(\n"
     ]
    },
    {
     "name": "stdout",
     "output_type": "stream",
     "text": [
      "Asipirating {'Cyan': np.float64(316.0929157833954), 'Magenta': np.float64(0.0), 'Yellow': np.float64(683.9070842166045)}\n",
      "Picked up new tip: Well A11 form Opentrons OT-2 96 Tip Rack 1000 µL on slot 5\n",
      "Picked up new tip: Well A12 form Opentrons OT-2 96 Tip Rack 1000 µL on slot 5\n",
      "Taking image of Well B1 form Custom 24 Well Plate on slot 2\n",
      "Actual RGB value : [ 81.87454942 158.02337179  58.08651051]\n"
     ]
    },
    {
     "data": {
      "image/png": "[encoded data removed]",
      "text/plain": [
       "<Figure size 400x200 with 2 Axes>"
      ]
     },
     "metadata": {},
     "output_type": "display_data"
    },
    {
     "name": "stdout",
     "output_type": "stream",
     "text": [
      "Asipirating {'Cyan': np.float64(202.2435451214604), 'Magenta': np.float64(187.13554540911053), 'Yellow': np.float64(610.6209094694292)}\n",
      "Picked up new tip: Well B1 form Opentrons OT-2 96 Tip Rack 1000 µL on slot 5\n",
      "Picked up new tip: Well B2 form Opentrons OT-2 96 Tip Rack 1000 µL on slot 5\n",
      "Picked up new tip: Well B3 form Opentrons OT-2 96 Tip Rack 1000 µL on slot 5\n",
      "Taking image of Well B2 form Custom 24 Well Plate on slot 2\n",
      "Actual RGB value : [83.5556373  57.0565357  39.38989262]\n"
     ]
    },
    {
     "data": {
      "image/png": "[encoded data removed]",
      "text/plain": [
       "<Figure size 400x200 with 2 Axes>"
      ]
     },
     "metadata": {},
     "output_type": "display_data"
    },
    {
     "name": "stdout",
     "output_type": "stream",
     "text": [
      "Asipirating {'Cyan': np.float64(591.2003221452702), 'Magenta': np.float64(0.0), 'Yellow': np.float64(408.79967785472974)}\n",
      "Picked up new tip: Well B4 form Opentrons OT-2 96 Tip Rack 1000 µL on slot 5\n",
      "Picked up new tip: Well B5 form Opentrons OT-2 96 Tip Rack 1000 µL on slot 5\n",
      "Taking image of Well B3 form Custom 24 Well Plate on slot 2\n",
      "Actual RGB value : [ 68.23719782 141.86952797  74.10581877]\n"
     ]
    },
    {
     "data": {
      "image/png": "[encoded data removed]",
      "text/plain": [
       "<Figure size 400x200 with 2 Axes>"
      ]
     },
     "metadata": {},
     "output_type": "display_data"
    },
    {
     "name": "stderr",
     "output_type": "stream",
     "text": [
      "c:\\Users\\titan\\anaconda3\\envs\\axo\\Lib\\site-packages\\sklearn\\gaussian_process\\kernels.py:442: ConvergenceWarning: The optimal value found for dimension 0 of parameter length_scale is close to the specified lower bound 1e-05. Decreasing the bound and calling fit again may find a better value.\n",
      "  warnings.warn(\n"
     ]
    },
    {
     "name": "stdout",
     "output_type": "stream",
     "text": [
      "Asipirating {'Cyan': np.float64(302.3492551506062), 'Magenta': np.float64(295.2870295846443), 'Yellow': np.float64(402.36371526474943)}\n",
      "Picked up new tip: Well B6 form Opentrons OT-2 96 Tip Rack 1000 µL on slot 5\n",
      "Picked up new tip: Well B7 form Opentrons OT-2 96 Tip Rack 1000 µL on slot 5\n",
      "Picked up new tip: Well B8 form Opentrons OT-2 96 Tip Rack 1000 µL on slot 5\n",
      "Taking image of Well B4 form Custom 24 Well Plate on slot 2\n",
      "Actual RGB value : [85.33072146 76.13276477 66.07991837]\n"
     ]
    },
    {
     "data": {
      "image/png": "[encoded data removed]",
      "text/plain": [
       "<Figure size 400x200 with 2 Axes>"
      ]
     },
     "metadata": {},
     "output_type": "display_data"
    },
    {
     "name": "stdout",
     "output_type": "stream",
     "text": [
      "Asipirating {'Cyan': np.float64(471.10280980496555), 'Magenta': np.float64(0.0), 'Yellow': np.float64(528.8971901950345)}\n",
      "Picked up new tip: Well B9 form Opentrons OT-2 96 Tip Rack 1000 µL on slot 5\n",
      "Picked up new tip: Well B10 form Opentrons OT-2 96 Tip Rack 1000 µL on slot 5\n",
      "Taking image of Well B5 form Custom 24 Well Plate on slot 2\n",
      "Actual RGB value : [ 55.00952369 142.2328139   55.45654502]\n"
     ]
    },
    {
     "data": {
      "image/png": "[encoded data removed]",
      "text/plain": [
       "<Figure size 400x200 with 2 Axes>"
      ]
     },
     "metadata": {},
     "output_type": "display_data"
    },
    {
     "name": "stderr",
     "output_type": "stream",
     "text": [
      "c:\\Users\\titan\\anaconda3\\envs\\axo\\Lib\\site-packages\\sklearn\\gaussian_process\\kernels.py:442: ConvergenceWarning: The optimal value found for dimension 0 of parameter length_scale is close to the specified lower bound 1e-05. Decreasing the bound and calling fit again may find a better value.\n",
      "  warnings.warn(\n"
     ]
    },
    {
     "name": "stdout",
     "output_type": "stream",
     "text": [
      "Asipirating {'Cyan': np.float64(280.3216957689187), 'Magenta': np.float64(590.3666456529662), 'Yellow': np.float64(129.31165857811513)}\n",
      "Picked up new tip: Well B11 form Opentrons OT-2 96 Tip Rack 1000 µL on slot 5\n",
      "Picked up new tip: Well B12 form Opentrons OT-2 96 Tip Rack 1000 µL on slot 5\n",
      "Picked up new tip: Well C1 form Opentrons OT-2 96 Tip Rack 1000 µL on slot 5\n",
      "Taking image of Well B6 form Custom 24 Well Plate on slot 2\n",
      "Actual RGB value : [93.54903015 61.24845432 55.27461411]\n"
     ]
    },
    {
     "data": {
      "image/png": "[encoded data removed]",
      "text/plain": [
       "<Figure size 400x200 with 2 Axes>"
      ]
     },
     "metadata": {},
     "output_type": "display_data"
    },
    {
     "name": "stdout",
     "output_type": "stream",
     "text": [
      "Asipirating {'Cyan': np.float64(897.2393081121214), 'Magenta': np.float64(22.60051023957564), 'Yellow': np.float64(80.16018164830307)}\n",
      "Picked up new tip: Well C2 form Opentrons OT-2 96 Tip Rack 1000 µL on slot 5\n",
      "Picked up new tip: Well C3 form Opentrons OT-2 96 Tip Rack 1000 µL on slot 5\n",
      "Taking image of Well C1 form Custom 24 Well Plate on slot 2\n",
      "Actual RGB value : [ 36.9696757  147.75164959  72.7117988 ]\n"
     ]
    },
    {
     "data": {
      "image/png": "[encoded data removed]",
      "text/plain": [
       "<Figure size 400x200 with 2 Axes>"
      ]
     },
     "metadata": {},
     "output_type": "display_data"
    },
    {
     "name": "stdout",
     "output_type": "stream",
     "text": [
      "Asipirating {'Cyan': np.float64(711.0273183949448), 'Magenta': np.float64(146.84605824142483), 'Yellow': np.float64(142.1266233636304)}\n",
      "Picked up new tip: Well C4 form Opentrons OT-2 96 Tip Rack 1000 µL on slot 5\n",
      "Picked up new tip: Well C5 form Opentrons OT-2 96 Tip Rack 1000 µL on slot 5\n",
      "Picked up new tip: Well C6 form Opentrons OT-2 96 Tip Rack 1000 µL on slot 5\n",
      "Taking image of Well C2 form Custom 24 Well Plate on slot 2\n",
      "Actual RGB value : [47.99788362 71.34432673 54.20604427]\n"
     ]
    },
    {
     "data": {
      "image/png": "[encoded data removed]",
      "text/plain": [
       "<Figure size 400x200 with 2 Axes>"
      ]
     },
     "metadata": {},
     "output_type": "display_data"
    },
    {
     "name": "stderr",
     "output_type": "stream",
     "text": [
      "c:\\Users\\titan\\anaconda3\\envs\\axo\\Lib\\site-packages\\sklearn\\gaussian_process\\kernels.py:442: ConvergenceWarning: The optimal value found for dimension 0 of parameter length_scale is close to the specified lower bound 1e-05. Decreasing the bound and calling fit again may find a better value.\n",
      "  warnings.warn(\n"
     ]
    },
    {
     "name": "stdout",
     "output_type": "stream",
     "text": [
      "Asipirating {'Cyan': np.float64(255.11105304155214), 'Magenta': np.float64(2.775557561562892e-14), 'Yellow': np.float64(744.8889469584477)}\n",
      "Picked up new tip: Well C7 form Opentrons OT-2 96 Tip Rack 1000 µL on slot 5\n",
      "Picked up new tip: Well C8 form Opentrons OT-2 96 Tip Rack 1000 µL on slot 5\n",
      "Taking image of Well C3 form Custom 24 Well Plate on slot 2\n",
      "Actual RGB value : [ 86.83594806 160.63617198  59.08390886]\n"
     ]
    },
    {
     "data": {
      "image/png": "[encoded data removed]",
      "text/plain": [
       "<Figure size 400x200 with 2 Axes>"
      ]
     },
     "metadata": {},
     "output_type": "display_data"
    }
   ],
   "source": [
    "# Now run Bayesian Optimization (BO) with the updated tip index\n",
    "X_sample, y_sample, rgb_samples, tip_index = decision_maker(\n",
    "    target_rgb = target_rgb, \n",
    "    surrogate_model=gp, \n",
    "    acquisition_function='ei',\n",
    "    sample_volume=sample_volume, \n",
    "    X_sample=X_init_norm, \n",
    "    y_sample=Y_init_norm,\n",
    "    rgb_sample=rgb_samples,\n",
    "    target_wells=all_wells['well_targets'],\n",
    "    camera_target_wells=all_wells['camera_targets'],\n",
    "    tip_rack=tiprack,  # Continue using additional tip racks\n",
    "    initial_tip_index=tip_index,  # Start from where the initial samples left off\n",
    "    bounds = bounds,\n",
    "    norm_bounds = norm_bounds,\n",
    "    max_iterations = 14\n",
    ")"
   ]
  },
  {
   "cell_type": "code",
   "execution_count": 43,
   "metadata": {},
   "outputs": [
    {
     "name": "stdout",
     "output_type": "stream",
     "text": [
      "Video stream server stopped successfully.\n"
     ]
    }
   ],
   "source": [
    "camera.stop_video_stream_server()"
   ]
  },
  {
   "cell_type": "code",
   "execution_count": 37,
   "metadata": {},
   "outputs": [
    {
     "name": "stdout",
     "output_type": "stream",
     "text": [
      "[24.37525731 54.09723815 48.25143559 14.75296046 24.30345604  3.66170458\n",
      "  2.38890568 42.92207682  5.28433934 34.40585763  4.14284921 47.0583684\n",
      "  5.03411222 31.06641844  3.38023547]\n"
     ]
    }
   ],
   "source": [
    "\n",
    "print(y_sample)"
   ]
  },
  {
   "cell_type": "code",
   "execution_count": 41,
   "metadata": {},
   "outputs": [
    {
     "data": {
      "image/png": "[encoded data removed]",
      "text/plain": [
       "<Figure size 800x600 with 1 Axes>"
      ]
     },
     "metadata": {},
     "output_type": "display_data"
    },
    {
     "data": {
      "image/png": "[encoded data removed]",
      "text/plain": [
       "<Figure size 1200x240 with 15 Axes>"
      ]
     },
     "metadata": {},
     "output_type": "display_data"
    },
    {
     "data": {
      "image/png": "[encoded data removed]",
      "text/plain": [
       "<Figure size 200x200 with 1 Axes>"
      ]
     },
     "metadata": {},
     "output_type": "display_data"
    },
    {
     "name": "stdout",
     "output_type": "stream",
     "text": [
      "Optimal RGB: [ 80   0 174]\n",
      "Closest distance to target color: 2.3889056772407065\n"
     ]
    }
   ],
   "source": [
    "X_sample_denorm = denormalize_rgb(X_sample)\n",
    "\n",
    "# Visualization of results\n",
    "# Plot convergence\n",
    "plt.figure(figsize=(8, 6))\n",
    "plt.plot(range(1, len(y_sample) + 1), y_sample, marker='o', linestyle='-', color='b')\n",
    "plt.title('Convergence of Bayesian Optimization')\n",
    "plt.xlabel('Iteration')\n",
    "plt.ylabel(r'$\\Delta$ E to Target Color')\n",
    "plt.grid(True)\n",
    "plt.show()\n",
    "\n",
    "# Visualize the final selected colors\n",
    "visualize_color_selection(rgb_samples, target_rgb)\n",
    "\n",
    "# Display final results\n",
    "optimal_rgb = X_sample_denorm[np.argmin(y_sample)]\n",
    "print(\"Optimal RGB:\", optimal_rgb)\n",
    "print(\"Closest distance to target color:\", np.min(y_sample))"
   ]
  },
  {
   "cell_type": "code",
   "execution_count": 42,
   "metadata": {},
   "outputs": [],
   "source": [
    "import pandas as pd \n",
    "# Denormalize RGB values\n",
    "X_sample_denorm = denormalize_volume_vector(X_sample, sample_volume)\n",
    "\n",
    "# Convert data to DataFrame\n",
    "df = pd.DataFrame(X_sample_denorm, columns=['C', 'M', 'Y'])\n",
    "df['DELTA_E'] = y_sample  # Convert back to positive distances\n",
    "df['Iteration'] = range(1, len(y_sample) + 1)\n",
    "\n",
    "# Find the optimal RGB and its corresponding distance\n",
    "optimal_index = np.argmin(y_sample)\n",
    "optimal_rgb = X_sample_denorm[optimal_index]\n",
    "optimal_distance = np.min(y_sample)\n",
    "\n",
    "df.loc[len(df)] = ['OPTIMAL', *optimal_rgb, optimal_distance]\n",
    "# Append optimal values to DataFrame\n",
    "\n",
    "\n",
    "# Save to CSV\n",
    "df.to_csv(\"C:/science-jubilee/axo/bodata/result/optimization_results_10_ciedelta_ei.csv\", index=False)"
   ]
  },
  {
   "cell_type": "code",
   "execution_count": 27,
   "metadata": {},
   "outputs": [],
   "source": [
    "# Results\n",
    "axo.park_tool()"
   ]
  },
  {
   "cell_type": "code",
   "execution_count": 39,
   "metadata": {},
   "outputs": [],
   "source": [
    "axo.pickup_tool(P20)"
   ]
  },
  {
   "cell_type": "code",
   "execution_count": 49,
   "metadata": {},
   "outputs": [],
   "source": [
    "P20.pickup_tip(tiprack['C8'])\n",
    "P20.return_tip(tiprack['C8'])"
   ]
  },
  {
   "cell_type": "code",
   "execution_count": 34,
   "metadata": {},
   "outputs": [],
   "source": [
    "P20._dispense(vol=600)"
   ]
  },
  {
   "cell_type": "code",
   "execution_count": 44,
   "metadata": {},
   "outputs": [
    {
     "ename": "ToolStateError",
     "evalue": "Error: Tool Pipette is not the current `Active Tool`. Cannot perform this action",
     "output_type": "error",
     "traceback": [
      "\u001b[1;31m---------------------------------------------------------------------------\u001b[0m",
      "\u001b[1;31mToolStateError\u001b[0m                            Traceback (most recent call last)",
      "Cell \u001b[1;32mIn[44], line 1\u001b[0m\n\u001b[1;32m----> 1\u001b[0m \u001b[43mP20\u001b[49m\u001b[38;5;241;43m.\u001b[39;49m\u001b[43m_aspirate\u001b[49m\u001b[43m(\u001b[49m\u001b[43mvol\u001b[49m\u001b[38;5;241;43m=\u001b[39;49m\u001b[38;5;241;43m1000\u001b[39;49m\u001b[43m,\u001b[49m\u001b[43m \u001b[49m\u001b[43ms\u001b[49m\u001b[38;5;241;43m=\u001b[39;49m\u001b[38;5;241;43m800\u001b[39;49m\u001b[43m)\u001b[49m\n",
      "File \u001b[1;32mC:\\science-jubilee\\src\\science_jubilee\\tools\\Tool.py:45\u001b[0m, in \u001b[0;36mrequires_active_tool.<locals>.wrapper\u001b[1;34m(self, *args, **kwargs)\u001b[0m\n\u001b[0;32m     43\u001b[0m \u001b[38;5;28;01mdef\u001b[39;00m \u001b[38;5;21mwrapper\u001b[39m(\u001b[38;5;28mself\u001b[39m, \u001b[38;5;241m*\u001b[39margs, \u001b[38;5;241m*\u001b[39m\u001b[38;5;241m*\u001b[39mkwargs):\n\u001b[0;32m     44\u001b[0m     \u001b[38;5;28;01mif\u001b[39;00m \u001b[38;5;28mself\u001b[39m\u001b[38;5;241m.\u001b[39mis_active_tool \u001b[38;5;241m==\u001b[39m \u001b[38;5;28;01mFalse\u001b[39;00m:\n\u001b[1;32m---> 45\u001b[0m         \u001b[38;5;28;01mraise\u001b[39;00m ToolStateError(\n\u001b[0;32m     46\u001b[0m             \u001b[38;5;124mf\u001b[39m\u001b[38;5;124m\"\u001b[39m\u001b[38;5;124mError: Tool \u001b[39m\u001b[38;5;132;01m{\u001b[39;00m\u001b[38;5;28mself\u001b[39m\u001b[38;5;241m.\u001b[39mname\u001b[38;5;132;01m}\u001b[39;00m\u001b[38;5;124m is not the current `Active Tool`. Cannot perform this action\u001b[39m\u001b[38;5;124m\"\u001b[39m\n\u001b[0;32m     47\u001b[0m         )\n\u001b[0;32m     48\u001b[0m     \u001b[38;5;28;01melse\u001b[39;00m:\n\u001b[0;32m     49\u001b[0m         \u001b[38;5;28;01mreturn\u001b[39;00m func(\u001b[38;5;28mself\u001b[39m, \u001b[38;5;241m*\u001b[39margs, \u001b[38;5;241m*\u001b[39m\u001b[38;5;241m*\u001b[39mkwargs)\n",
      "\u001b[1;31mToolStateError\u001b[0m: Error: Tool Pipette is not the current `Active Tool`. Cannot perform this action"
     ]
    }
   ],
   "source": [
    "P20._aspirate(vol=1000, s=800)"
   ]
  },
  {
   "cell_type": "code",
   "execution_count": 50,
   "metadata": {},
   "outputs": [],
   "source": [
    "axo.pickup_tool(P20)"
   ]
  },
  {
   "cell_type": "code",
   "execution_count": 51,
   "metadata": {},
   "outputs": [],
   "source": [
    "P20.pickup_tip(tiprack['A1'])"
   ]
  },
  {
   "cell_type": "code",
   "execution_count": 52,
   "metadata": {},
   "outputs": [],
   "source": [
    "P20.return_tip(tiprack['A1'])"
   ]
  },
  {
   "cell_type": "code",
   "execution_count": 53,
   "metadata": {},
   "outputs": [],
   "source": [
    "axo.park_tool()"
   ]
  },
  {
   "cell_type": "code",
   "execution_count": 338,
   "metadata": {},
   "outputs": [],
   "source": [
    "axo.safe_z_movement()"
   ]
  },
  {
   "cell_type": "code",
   "execution_count": 14,
   "metadata": {},
   "outputs": [],
   "source": [
    "P20.aspirate(vol = 500, location = stocks['A1'], s=4000)"
   ]
  },
  {
   "cell_type": "code",
   "execution_count": null,
   "metadata": {},
   "outputs": [],
   "source": [
    "P20.dispense(vol = 500, location = samples['A1'], s=4000)\n"
   ]
  },
  {
   "cell_type": "code",
   "execution_count": 90,
   "metadata": {},
   "outputs": [
    {
     "ename": "ToolStateError",
     "evalue": "Error: No tip is attached. Cannot complete this action",
     "output_type": "error",
     "traceback": [
      "\u001b[1;31m---------------------------------------------------------------------------\u001b[0m",
      "\u001b[1;31mToolStateError\u001b[0m                            Traceback (most recent call last)",
      "Cell \u001b[1;32mIn[90], line 1\u001b[0m\n\u001b[1;32m----> 1\u001b[0m \u001b[43mP20\u001b[49m\u001b[38;5;241;43m.\u001b[39;49m\u001b[43mdrop_tip\u001b[49m\u001b[43m(\u001b[49m\u001b[43mtrash\u001b[49m\u001b[43m[\u001b[49m\u001b[38;5;241;43m0\u001b[39;49m\u001b[43m]\u001b[49m\u001b[43m)\u001b[49m\n",
      "File \u001b[1;32mC:\\science-jubilee\\src\\science_jubilee\\tools\\Tool.py:49\u001b[0m, in \u001b[0;36mrequires_active_tool.<locals>.wrapper\u001b[1;34m(self, *args, **kwargs)\u001b[0m\n\u001b[0;32m     45\u001b[0m     \u001b[38;5;28;01mraise\u001b[39;00m ToolStateError(\n\u001b[0;32m     46\u001b[0m         \u001b[38;5;124mf\u001b[39m\u001b[38;5;124m\"\u001b[39m\u001b[38;5;124mError: Tool \u001b[39m\u001b[38;5;132;01m{\u001b[39;00m\u001b[38;5;28mself\u001b[39m\u001b[38;5;241m.\u001b[39mname\u001b[38;5;132;01m}\u001b[39;00m\u001b[38;5;124m is not the current `Active Tool`. Cannot perform this action\u001b[39m\u001b[38;5;124m\"\u001b[39m\n\u001b[0;32m     47\u001b[0m     )\n\u001b[0;32m     48\u001b[0m \u001b[38;5;28;01melse\u001b[39;00m:\n\u001b[1;32m---> 49\u001b[0m     \u001b[38;5;28;01mreturn\u001b[39;00m \u001b[43mfunc\u001b[49m\u001b[43m(\u001b[49m\u001b[38;5;28;43mself\u001b[39;49m\u001b[43m,\u001b[49m\u001b[43m \u001b[49m\u001b[38;5;241;43m*\u001b[39;49m\u001b[43margs\u001b[49m\u001b[43m,\u001b[49m\u001b[43m \u001b[49m\u001b[38;5;241;43m*\u001b[39;49m\u001b[38;5;241;43m*\u001b[39;49m\u001b[43mkwargs\u001b[49m\u001b[43m)\u001b[49m\n",
      "File \u001b[1;32mC:\\science-jubilee\\src\\science_jubilee\\tools\\Pipette.py:23\u001b[0m, in \u001b[0;36mtip_check.<locals>.wrapper\u001b[1;34m(self, *args, **kwargs)\u001b[0m\n\u001b[0;32m     21\u001b[0m \u001b[38;5;28;01mdef\u001b[39;00m \u001b[38;5;21mwrapper\u001b[39m(\u001b[38;5;28mself\u001b[39m, \u001b[38;5;241m*\u001b[39margs, \u001b[38;5;241m*\u001b[39m\u001b[38;5;241m*\u001b[39mkwargs):\n\u001b[0;32m     22\u001b[0m     \u001b[38;5;28;01mif\u001b[39;00m \u001b[38;5;28mself\u001b[39m\u001b[38;5;241m.\u001b[39mhas_tip \u001b[38;5;241m==\u001b[39m \u001b[38;5;28;01mFalse\u001b[39;00m:\n\u001b[1;32m---> 23\u001b[0m         \u001b[38;5;28;01mraise\u001b[39;00m ToolStateError(\n\u001b[0;32m     24\u001b[0m             \u001b[38;5;124m\"\u001b[39m\u001b[38;5;124mError: No tip is attached. Cannot complete this action\u001b[39m\u001b[38;5;124m\"\u001b[39m\n\u001b[0;32m     25\u001b[0m         )\n\u001b[0;32m     26\u001b[0m     \u001b[38;5;28;01melse\u001b[39;00m:\n\u001b[0;32m     27\u001b[0m         func(\u001b[38;5;28mself\u001b[39m, \u001b[38;5;241m*\u001b[39margs, \u001b[38;5;241m*\u001b[39m\u001b[38;5;241m*\u001b[39mkwargs)\n",
      "\u001b[1;31mToolStateError\u001b[0m: Error: No tip is attached. Cannot complete this action"
     ]
    }
   ],
   "source": [
    "P20.drop_tip(trash[0])"
   ]
  },
  {
   "cell_type": "code",
   "execution_count": null,
   "metadata": {},
   "outputs": [],
   "source": [
    "axo.move_to(z=180)"
   ]
  },
  {
   "cell_type": "code",
   "execution_count": 91,
   "metadata": {},
   "outputs": [],
   "source": [
    "axo.park_tool()"
   ]
  },
  {
   "cell_type": "code",
   "execution_count": 17,
   "metadata": {},
   "outputs": [
    {
     "data": {
      "text/plain": [
       "{'X': '220.880',\n",
       " 'Y': '48.580',\n",
       " 'Z': '180.000',\n",
       " 'U': '79.993',\n",
       " 'V': '-100.000',\n",
       " 'E': '0.000'}"
      ]
     },
     "execution_count": 17,
     "metadata": {},
     "output_type": "execute_result"
    }
   ],
   "source": [
    "axo.get_position()"
   ]
  },
  {
   "cell_type": "code",
   "execution_count": 182,
   "metadata": {},
   "outputs": [],
   "source": [
    "axo.pickup_tool(camera)"
   ]
  },
  {
   "cell_type": "code",
   "execution_count": 41,
   "metadata": {},
   "outputs": [
    {
     "name": "stdout",
     "output_type": "stream",
     "text": [
      "Server is not running. Starting it now...\n",
      "Flask server started successfully.\n",
      "Give 12 second to make camera stabilize\n"
     ]
    },
    {
     "data": {
      "text/plain": [
       "True"
      ]
     },
     "execution_count": 41,
     "metadata": {},
     "output_type": "execute_result"
    }
   ],
   "source": [
    "camera.start_video_stream_server()"
   ]
  },
  {
   "cell_type": "code",
   "execution_count": 43,
   "metadata": {},
   "outputs": [
    {
     "name": "stdout",
     "output_type": "stream",
     "text": [
      "Error or insufficient circles detected in blurred image: No valid circles detected in blurred image.. Retrying with binary image...\n"
     ]
    },
    {
     "data": {
      "text/plain": [
       "(array([[[251, 252, 248],\n",
       "         [250, 251, 247],\n",
       "         [247, 251, 245],\n",
       "         ...,\n",
       "         [254, 250, 255],\n",
       "         [254, 250, 255],\n",
       "         [254, 250, 255]],\n",
       " \n",
       "        [[250, 251, 247],\n",
       "         [248, 252, 247],\n",
       "         [248, 252, 246],\n",
       "         ...,\n",
       "         [254, 250, 255],\n",
       "         [254, 250, 255],\n",
       "         [254, 250, 255]],\n",
       " \n",
       "        [[247, 251, 246],\n",
       "         [248, 252, 247],\n",
       "         [248, 252, 246],\n",
       "         ...,\n",
       "         [254, 250, 255],\n",
       "         [254, 250, 255],\n",
       "         [254, 250, 255]],\n",
       " \n",
       "        ...,\n",
       " \n",
       "        [[253, 251, 240],\n",
       "         [253, 251, 240],\n",
       "         [252, 252, 240],\n",
       "         ...,\n",
       "         [254, 250, 255],\n",
       "         [254, 250, 255],\n",
       "         [254, 250, 255]],\n",
       " \n",
       "        [[252, 252, 240],\n",
       "         [252, 252, 240],\n",
       "         [252, 252, 240],\n",
       "         ...,\n",
       "         [254, 250, 255],\n",
       "         [254, 250, 255],\n",
       "         [254, 250, 255]],\n",
       " \n",
       "        [[252, 252, 240],\n",
       "         [252, 252, 240],\n",
       "         [252, 252, 240],\n",
       "         ...,\n",
       "         [254, 250, 255],\n",
       "         [254, 250, 255],\n",
       "         [254, 250, 255]]], shape=(480, 640, 3), dtype=uint8),\n",
       " {'R': np.float64(235.9797858924676),\n",
       "  'G': np.float64(239.24023122877105),\n",
       "  'B': np.float64(229.36731500317572)})"
      ]
     },
     "execution_count": 43,
     "metadata": {},
     "output_type": "execute_result"
    }
   ],
   "source": [
    "process_camera(all_wells['initial_camera_wells'][2])"
   ]
  },
  {
   "cell_type": "code",
   "execution_count": 25,
   "metadata": {},
   "outputs": [],
   "source": [
    "image_data = camera.capture_image(camera_well[4], light= True, light_intensity= 1.0)"
   ]
  },
  {
   "cell_type": "code",
   "execution_count": 49,
   "metadata": {},
   "outputs": [
    {
     "name": "stdout",
     "output_type": "stream",
     "text": [
      "Well A2 form Custom 24 Well Plate on slot 2\n"
     ]
    }
   ],
   "source": [
    "print(camera_well[1])"
   ]
  },
  {
   "cell_type": "code",
   "execution_count": null,
   "metadata": {},
   "outputs": [],
   "source": []
  },
  {
   "cell_type": "code",
   "execution_count": null,
   "metadata": {},
   "outputs": [],
   "source": [
    "x, y, z  = Labware._getxyz(camera_well[0])"
   ]
  },
  {
   "cell_type": "code",
   "execution_count": 51,
   "metadata": {},
   "outputs": [],
   "source": [
    "axo.move_to(z=205)"
   ]
  },
  {
   "cell_type": "code",
   "execution_count": 183,
   "metadata": {},
   "outputs": [],
   "source": [
    "x, y, _ = Labware._getxyz(camera_well['A1'])\n",
    "x = x-14.3\n",
    "y = y - 100.8\n",
    "axo.move_to(x, y)\n",
    "#axo.move_to(x=34.8, y=74.5)"
   ]
  },
  {
   "cell_type": "code",
   "execution_count": 117,
   "metadata": {},
   "outputs": [
    {
     "ename": "KeyboardInterrupt",
     "evalue": "",
     "output_type": "error",
     "traceback": [
      "\u001b[1;31m---------------------------------------------------------------------------\u001b[0m",
      "\u001b[1;31mKeyboardInterrupt\u001b[0m                         Traceback (most recent call last)",
      "Cell \u001b[1;32mIn[117], line 7\u001b[0m\n\u001b[0;32m      5\u001b[0m y \u001b[38;5;241m=\u001b[39m y \u001b[38;5;241m-\u001b[39m \u001b[38;5;241m100.8\u001b[39m\n\u001b[0;32m      6\u001b[0m axo\u001b[38;5;241m.\u001b[39mmove_to(x, y)\n\u001b[1;32m----> 7\u001b[0m \u001b[43mtime\u001b[49m\u001b[38;5;241;43m.\u001b[39;49m\u001b[43msleep\u001b[49m\u001b[43m(\u001b[49m\u001b[38;5;241;43m5\u001b[39;49m\u001b[43m)\u001b[49m\n\u001b[0;32m      8\u001b[0m \u001b[38;5;66;03m#image_data, rgb_results = camera.detect_and_draw_wells(image_data)\u001b[39;00m\n",
      "\u001b[1;31mKeyboardInterrupt\u001b[0m: "
     ]
    }
   ],
   "source": [
    "for i in range(24):\n",
    "    #image_data = camera.capture_image(camera_well[i], light= True, light_intensity= 0.5)\n",
    "    x, y, _ = Labware._getxyz(camera_well[i])\n",
    "    x = x-14.3\n",
    "    y = y - 100.8\n",
    "    axo.move_to(x, y)\n",
    "    time.sleep(5)\n",
    "    #image_data, rgb_results = camera.detect_and_draw_wells(image_data)"
   ]
  },
  {
   "cell_type": "code",
   "execution_count": 15,
   "metadata": {},
   "outputs": [
    {
     "name": "stdout",
     "output_type": "stream",
     "text": [
      "Error or insufficient circles detected in blurred image: No valid circles detected in blurred image.. Retrying with binary image...\n"
     ]
    }
   ],
   "source": [
    "image_data, rgb_results = camera.detect_and_draw_wells(image_data)"
   ]
  },
  {
   "cell_type": "code",
   "execution_count": 74,
   "metadata": {},
   "outputs": [
    {
     "name": "stdout",
     "output_type": "stream",
     "text": [
      "{'R': np.float64(95.91151199076647), 'G': np.float64(149.51535929551576), 'B': np.float64(96.90657889112127)}\n"
     ]
    }
   ],
   "source": [
    "print(rgb_results)"
   ]
  },
  {
   "cell_type": "code",
   "execution_count": 60,
   "metadata": {},
   "outputs": [],
   "source": [
    "import cv2 \n",
    " # Display the image\n",
    "cv2.imshow(\"Image Display\", image_data)\n",
    "\n",
    "    # Wait for a key press to close the image window\n",
    "cv2.waitKey(0)\n",
    "\n",
    "    # Close all OpenCV windows\n",
    "cv2.destroyAllWindows()"
   ]
  },
  {
   "cell_type": "code",
   "execution_count": 60,
   "metadata": {},
   "outputs": [],
   "source": [
    "axo.park_tool()"
   ]
  },
  {
   "cell_type": "code",
   "execution_count": 270,
   "metadata": {},
   "outputs": [],
   "source": [
    "axo.move_to(x=30.5, y=74.3)"
   ]
  },
  {
   "cell_type": "code",
   "execution_count": 29,
   "metadata": {},
   "outputs": [
    {
     "data": {
      "text/plain": [
       "(127.28999999999999, 172.1, 3.5)"
      ]
     },
     "execution_count": 29,
     "metadata": {},
     "output_type": "execute_result"
    }
   ],
   "source": [
    "Labware._getxyz(camera_well['A3'])"
   ]
  },
  {
   "cell_type": "code",
   "execution_count": 62,
   "metadata": {},
   "outputs": [],
   "source": [
    "P20.drop_tip(trash[0])"
   ]
  },
  {
   "cell_type": "code",
   "execution_count": 39,
   "metadata": {},
   "outputs": [
    {
     "data": {
      "text/plain": [
       "'-100.000'"
      ]
     },
     "execution_count": 39,
     "metadata": {},
     "output_type": "execute_result"
    }
   ],
   "source": [
    "axo.get_position()['V']"
   ]
  },
  {
   "cell_type": "code",
   "execution_count": null,
   "metadata": {},
   "outputs": [],
   "source": [
    "TARGET_RGB = np.array([])"
   ]
  },
  {
   "cell_type": "code",
   "execution_count": 98,
   "metadata": {},
   "outputs": [
    {
     "name": "stdout",
     "output_type": "stream",
     "text": [
      "CIE ΔE₀₀ difference: 23.068\n"
     ]
    }
   ],
   "source": [
    "\n",
    "def rgb_to_lab(rgb):\n",
    "    \"\"\"\n",
    "    Convert an sRGB color (with components in [0, 255]) to CIELAB.\n",
    "    Uses the D65 white reference.\n",
    "    \"\"\"\n",
    "    # Normalize RGB to [0, 1]\n",
    "    rgb = np.array(rgb, dtype=np.float64) / 255.0\n",
    "    \n",
    "    # Convert sRGB to linear RGB\n",
    "    def to_linear(c):\n",
    "        return c / 12.92 if c <= 0.04045 else ((c + 0.055) / 1.055) ** 2.4\n",
    "    linear_rgb = np.array([to_linear(c) for c in rgb])\n",
    "    \n",
    "    # Convert linear RGB to XYZ using the standard sRGB matrix (D65)\n",
    "    M = np.array([[0.4124564, 0.3575761, 0.1804375],\n",
    "                  [0.2126729, 0.7151522, 0.0721750],\n",
    "                  [0.0193339, 0.1191920, 0.9503041]])\n",
    "    XYZ = np.dot(M, linear_rgb)\n",
    "    \n",
    "    # Normalize for D65 white point (using reference values for X, Y, Z)\n",
    "    X, Y, Z = XYZ / np.array([0.95047, 1.00000, 1.08883])\n",
    "    \n",
    "    # Helper function for XYZ -> Lab conversion\n",
    "    def f(t):\n",
    "        delta = 6/29\n",
    "        return t ** (1/3) if t > delta**3 else (t / (3 * delta**2) + 4/29)\n",
    "    \n",
    "    fX, fY, fZ = f(X), f(Y), f(Z)\n",
    "    L = 116 * fY - 16\n",
    "    a = 500 * (fX - fY)\n",
    "    b = 200 * (fY - fZ)\n",
    "    \n",
    "    return np.array([L, a, b])\n",
    "\n",
    "def delta_e_ciede2000(lab1, lab2):\n",
    "    \"\"\"\n",
    "    Computes the CIE ΔE₀₀ color difference between two CIELAB colors.\n",
    "    \"\"\"\n",
    "    L1, a1, b1 = lab1\n",
    "    L2, a2, b2 = lab2\n",
    "\n",
    "    C1 = np.sqrt(a1**2 + b1**2)\n",
    "    C2 = np.sqrt(a2**2 + b2**2)\n",
    "    C_bar = 0.5 * (C1 + C2)\n",
    "    \n",
    "    G = 0.5 * (1 - np.sqrt((C_bar**7) / (C_bar**7 + 25**7)))\n",
    "    a1_prime = (1 + G) * a1\n",
    "    a2_prime = (1 + G) * a2\n",
    "    C1_prime = np.sqrt(a1_prime**2 + b1**2)\n",
    "    C2_prime = np.sqrt(a2_prime**2 + b2**2)\n",
    "    \n",
    "    def calc_h(a, b):\n",
    "        h = np.degrees(np.arctan2(b, a))\n",
    "        return h + 360 if h < 0 else h\n",
    "    h1_prime = calc_h(a1_prime, b1)\n",
    "    h2_prime = calc_h(a2_prime, b2)\n",
    "    \n",
    "    delta_L_prime = L2 - L1\n",
    "    delta_C_prime = C2_prime - C1_prime\n",
    "    \n",
    "    # Compute delta h'\n",
    "    if C1_prime * C2_prime == 0:\n",
    "        delta_h_prime = 0\n",
    "    else:\n",
    "        dh = h2_prime - h1_prime\n",
    "        if abs(dh) <= 180:\n",
    "            delta_h_prime = dh\n",
    "        elif dh > 180:\n",
    "            delta_h_prime = dh - 360\n",
    "        else:  # dh < -180\n",
    "            delta_h_prime = dh + 360\n",
    "    delta_H_prime = 2 * np.sqrt(C1_prime * C2_prime) * np.sin(np.radians(delta_h_prime / 2))\n",
    "    \n",
    "    # Average values\n",
    "    L_bar_prime = (L1 + L2) / 2.0\n",
    "    C_bar_prime = (C1_prime + C2_prime) / 2.0\n",
    "    \n",
    "    if C1_prime * C2_prime == 0:\n",
    "        h_bar_prime = h1_prime + h2_prime\n",
    "    else:\n",
    "        if abs(h1_prime - h2_prime) <= 180:\n",
    "            h_bar_prime = (h1_prime + h2_prime) / 2.0\n",
    "        elif (h1_prime + h2_prime) < 360:\n",
    "            h_bar_prime = (h1_prime + h2_prime + 360) / 2.0\n",
    "        else:\n",
    "            h_bar_prime = (h1_prime + h2_prime - 360) / 2.0\n",
    "    \n",
    "    T = (1 - 0.17 * np.cos(np.radians(h_bar_prime - 30)) +\n",
    "         0.24 * np.cos(np.radians(2 * h_bar_prime)) +\n",
    "         0.32 * np.cos(np.radians(3 * h_bar_prime + 6)) -\n",
    "         0.20 * np.cos(np.radians(4 * h_bar_prime - 63)))\n",
    "    \n",
    "    delta_theta = 30 * np.exp(-((h_bar_prime - 275) / 25)**2)\n",
    "    R_C = 2 * np.sqrt((C_bar_prime**7) / (C_bar_prime**7 + 25**7))\n",
    "    S_L = 1 + ((0.015 * (L_bar_prime - 50)**2) / np.sqrt(20 + (L_bar_prime - 50)**2))\n",
    "    S_C = 1 + 0.045 * C_bar_prime\n",
    "    S_H = 1 + 0.015 * C_bar_prime * T\n",
    "    R_T = -np.sin(np.radians(2 * delta_theta)) * R_C\n",
    "    \n",
    "    delta_E = np.sqrt(\n",
    "        (delta_L_prime / S_L) ** 2 +\n",
    "        (delta_C_prime / S_C) ** 2 +\n",
    "        (delta_H_prime / S_H) ** 2 +\n",
    "        R_T * (delta_C_prime / S_C) * (delta_H_prime / S_H)\n",
    "    )\n",
    "    \n",
    "    return delta_E\n",
    "\n",
    "def color_objective(rgb, target_rgb=(128, 128, 128)):\n",
    "    \"\"\"\n",
    "    Computes the CIE ΔE color difference between a candidate RGB value and a target RGB value.\n",
    "    \n",
    "    Parameters:\n",
    "        rgb : array-like\n",
    "            Candidate RGB value, e.g., [R, G, B] with each value in [0, 255].\n",
    "        target_rgb : tuple (default: (128, 128, 128))\n",
    "            The target RGB value.\n",
    "    \n",
    "    Returns:\n",
    "        float : The CIE ΔE₀₀ color difference.\n",
    "    \"\"\"\n",
    "    lab1 = rgb_to_lab(rgb)\n",
    "    lab2 = rgb_to_lab(target_rgb)\n",
    "    return delta_e_ciede2000(lab1, lab2)\n",
    "\n",
    "# Example usage:\n",
    "if __name__ == '__main__':\n",
    "    candidate = [200, 150, 100]\n",
    "    target = [128, 128, 128]\n",
    "    delta_e = color_objective(candidate, target)\n",
    "    print(f\"CIE ΔE₀₀ difference: {delta_e:.3f}\")"
   ]
  },
  {
   "cell_type": "code",
   "execution_count": 100,
   "metadata": {},
   "outputs": [
    {
     "name": "stdout",
     "output_type": "stream",
     "text": [
      "CIE ΔE₀₀ difference: 23.068\n"
     ]
    }
   ],
   "source": [
    "import numpy as np\n",
    "from skimage import color\n",
    "\n",
    "def rgb_to_lab_scikit(rgb):\n",
    "    \"\"\"\n",
    "    Convert an RGB color (with components in [0, 255]) to CIELAB using scikit-image.\n",
    "    \n",
    "    Parameters:\n",
    "        rgb : array-like\n",
    "            RGB values, e.g., [R, G, B] with each in [0, 255].\n",
    "    \n",
    "    Returns:\n",
    "        lab : ndarray\n",
    "            The corresponding CIELAB color as an array [L, a, b].\n",
    "    \"\"\"\n",
    "    # Normalize RGB values to the range [0, 1]\n",
    "    rgb_norm = np.array(rgb, dtype=np.float64) / 255.0\n",
    "    # Reshape to (1, 1, 3) so that rgb2lab works correctly\n",
    "    rgb_norm = rgb_norm.reshape((1, 1, 3))\n",
    "    lab = color.rgb2lab(rgb_norm)\n",
    "    return lab[0, 0, :]\n",
    "\n",
    "def color_objective(rgb, target_rgb=(128, 128, 128)):\n",
    "    \"\"\"\n",
    "    Computes the CIE ΔE₀₀ color difference between a candidate RGB value and a target RGB value\n",
    "    using scikit-image's color conversion and ΔE calculation functions.\n",
    "    \n",
    "    Parameters:\n",
    "        rgb : array-like\n",
    "            Candidate RGB value, e.g., [R, G, B] with each value in [0, 255].\n",
    "        target_rgb : tuple, optional\n",
    "            The target RGB value (default is (128, 128, 128)).\n",
    "    \n",
    "    Returns:\n",
    "        float : The CIE ΔE₀₀ color difference between the candidate and target colors.\n",
    "    \"\"\"\n",
    "    # Convert both candidate and target RGB to Lab\n",
    "    lab1 = rgb_to_lab_scikit(rgb)\n",
    "    lab2 = rgb_to_lab_scikit(target_rgb)\n",
    "    \n",
    "    # scikit-image's deltaE_ciede2000 expects arrays of shape (..., 3)\n",
    "    delta_e = color.deltaE_ciede2000(np.array([lab1]), np.array([lab2]))[0]\n",
    "    return delta_e\n",
    "\n",
    "# Example usage:\n",
    "if __name__ == '__main__':\n",
    "    candidate_rgb = np.array([200, 150, 100])\n",
    "    target_rgb = np.array([128, 128, 128])\n",
    "    delta_e = color_objective(candidate_rgb, target_rgb)\n",
    "    print(f\"CIE ΔE₀₀ difference: {delta_e:.3f}\")"
   ]
  }
 ],
 "metadata": {
  "kernelspec": {
   "display_name": "axo",
   "language": "python",
   "name": "python3"
  },
  "language_info": {
   "codemirror_mode": {
    "name": "ipython",
    "version": 3
   },
   "file_extension": ".py",
   "mimetype": "text/x-python",
   "name": "python",
   "nbconvert_exporter": "python",
   "pygments_lexer": "ipython3",
   "version": "3.13.1"
  }
 },
 "nbformat": 4,
 "nbformat_minor": 2
}
