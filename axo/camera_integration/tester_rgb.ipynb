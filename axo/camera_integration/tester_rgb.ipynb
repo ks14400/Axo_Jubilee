{
 "cells": [
  {
   "cell_type": "code",
   "execution_count": 4,
   "metadata": {},
   "outputs": [],
   "source": [
    "from science_jubilee.bo.newcamera import Cam\n",
    "from science_jubilee.labware.Labware import Well\n",
    "from science_jubilee.Machine import Machine, get_root_dir\n",
    "from science_jubilee.tools.Tool import Tool\n",
    "from science_jubilee.decks.Deck import Deck\n",
    "from science_jubilee.labware.Labware import Labware, Location, Well\n",
    "from science_jubilee.tools.Pipette import Pipette\n",
    "from science_jubilee.decks.Deck import Deck\n",
    "import cv2\n",
    "import numpy as np\n",
    "import os\n",
    "from jinja2 import Environment, FileSystemLoader, select_autoescape"
   ]
  },
  {
   "cell_type": "code",
   "execution_count": 8,
   "metadata": {},
   "outputs": [
    {
     "name": "stdout",
     "output_type": "stream",
     "text": [
      "New manual offset applied to opentrons_96_tiprack_20ul\n",
      "Manual offset saved\n",
      "New manual offset applied to nest_96_wellplate_200ul_flat\n",
      "Manual offset saved\n",
      "New manual offset applied to corning_6_wellplate_16.8ml_flat\n",
      "Manual offset saved\n"
     ]
    }
   ],
   "source": [
    "deck = Deck(\"lab_automation_deck\") # We are not using the deck, so operate any deck.json \n",
    "tiprack = deck.load_labware(labware_filename = 'opentrons_96_tiprack_20ul.json', slot = 1)   # Load an opentrons 20uL\n",
    "tiprack.manual_offset([[269, 221.6],[170, 221.6],[170, 284.6]], save = True)   # Save through list of list. List of coordinates should be A1 A12 H12 subsequently. \n",
    "trash = deck.load_labware('agilent_1_reservoir_290ml.json', 0)\n",
    "samples = deck.load_labware('nest_96_wellplate_200ul_flat.json', slot = 2)\n",
    "samples.manual_offset([[127.4, 115.4],[27.4, 115.4], [27.4, 178.4]], save = True)\n",
    "stocks = deck.load_labware('corning_6_wellplate_16.8ml.json', slot = 3)\n",
    "stocks.manual_offset([[256.8, 127.4], [178.8, 127.4], [178.8, 165.4]], save = True)"
   ]
  },
  {
   "cell_type": "code",
   "execution_count": 32,
   "metadata": {},
   "outputs": [
    {
     "data": {
      "text/plain": [
       "2"
      ]
     },
     "execution_count": 32,
     "metadata": {},
     "output_type": "execute_result"
    }
   ],
   "source": [
    "samples.display_name\n",
    "samples.slot"
   ]
  },
  {
   "cell_type": "code",
   "execution_count": 27,
   "metadata": {},
   "outputs": [
    {
     "name": "stdout",
     "output_type": "stream",
     "text": [
      "0\n",
      "1\n",
      "2\n",
      "3\n",
      "4\n",
      "5\n"
     ]
    }
   ],
   "source": [
    "deck._get_slots().keys()\n",
    "\n",
    "for i in deck._get_slots().keys():\n",
    "    print(i)"
   ]
  },
  {
   "cell_type": "code",
   "execution_count": 5,
   "metadata": {},
   "outputs": [],
   "source": [
    "camera = Cam(1, \"Camera\", '192.168.1.2', 'Sun92023', 'axo', 'C:/science-jubilee/axo/data', 50)"
   ]
  },
  {
   "cell_type": "code",
   "execution_count": 5,
   "metadata": {},
   "outputs": [
    {
     "data": {
      "text/plain": [
       "[178.28820996331538, 118.11277980691187, 110.15860786716648]"
      ]
     },
     "execution_count": 5,
     "metadata": {},
     "output_type": "execute_result"
    }
   ],
   "source": [
    "image_file_path = \"C:/science-jubilee/src/science_jubilee/bo/image.jpg\"  # Replace with your PNG file path\n",
    "\n",
    "# Open the PNG file in binary mode and read its content\n",
    "with open(image_file_path, 'rb') as f:\n",
    "    image_bin = f.read()  # Read the image as binary data\n",
    "\n",
    "# Decode the image using the provided function\n",
    "#processor = ImageProcessor()\n",
    "decoded_image = camera.decode_image(image_bin)\n",
    "\n",
    "# Display the decoded image\n",
    "cv2.imshow(\"Decoded Image\", cv2.cvtColor(decoded_image, cv2.COLOR_RGB2BGR))  # Convert RGB to BGR for OpenCV display\n",
    "cv2.waitKey(0)\n",
    "cv2.destroyAllWindows()\n",
    "camera.get_rgb_avg(decoded_image)\n"
   ]
  },
  {
   "cell_type": "markdown",
   "metadata": {},
   "source": [
    "## **Render json.file for camera** ##"
   ]
  },
  {
   "cell_type": "code",
   "execution_count": 6,
   "metadata": {},
   "outputs": [
    {
     "name": "stdout",
     "output_type": "stream",
     "text": [
      "Labware definition saved to C:\\science-jubilee\\src\\science_jubilee\\labware\\labware_definition\\camera_wellplate.json\n",
      "locations = ['A1', 'A2', 'A3', 'A4', 'B1', 'B2', 'B3', 'B4', 'C1', 'C2', 'C3', 'C4', 'D1', 'D2', 'D3', 'D4']\n",
      "location_x = {'A1': 121.8, 'A2': 91.3, 'A3': 60.8, 'A4': 30.3, 'B1': 121.8, 'B2': 91.3, 'B3': 60.8, 'B4': 30.3, 'C1': 121.8, 'C2': 91.3, 'C3': 60.8, 'C4': 30.3, 'D1': 121.8, 'D2': 91.3, 'D3': 60.8, 'D4': 30.3}\n",
      "location_y = {'A1': 73.6, 'A2': 73.6, 'A3': 73.6, 'A4': 73.6, 'B1': 94.0, 'B2': 94.0, 'B3': 94.0, 'B4': 94.0, 'C1': 114.4, 'C2': 114.4, 'C3': 114.4, 'C4': 114.4, 'D1': 134.8, 'D2': 134.8, 'D3': 134.8, 'D4': 134.8}\n"
     ]
    }
   ],
   "source": [
    "\n",
    "# Known coordinates\n",
    "A1_x, A1_y = 121.8, 73.6\n",
    "A4_x, A4_y = 30.3, 73.6\n",
    "D4_x, D4_y = 30.3, 134.8\n",
    "\n",
    "# Generate coordinates for all wells\n",
    "rows = [\"A\", \"B\", \"C\", \"D\"]\n",
    "columns = [1, 2, 3, 4]\n",
    "\n",
    "def camera_location(rows, columns, A1_x, A4_x, A4_y, D4_y):\n",
    "    locations = []\n",
    "    location_x = {}\n",
    "    location_y = {}\n",
    "\n",
    "    x_spacing = (A1_x - A4_x) / 3  # 3 intervals between 4 columns\n",
    "    y_spacing = (D4_y - A4_y) / 3  # 3 intervals between 4 rows\n",
    "\n",
    "    for row_index, row in enumerate(rows):\n",
    "        for col_index, col in enumerate(columns):\n",
    "            x = A1_x - (x_spacing * col_index)  # Subtract spacing for columns\n",
    "            y = A1_y + (y_spacing * row_index)  # Add spacing for rows\n",
    "            well_name = f\"{row}{col}\"\n",
    "\n",
    "            # Append to locations and dictionaries\n",
    "            locations.append(well_name)\n",
    "            location_x[well_name] = round(x, 1)\n",
    "            location_y[well_name] = round(y, 1)\n",
    "\n",
    "    return locations, location_x, location_y\n",
    "\n",
    "locations, location_x, location_y = camera_location(rows, columns, A1_x, A4_x, A4_y, D4_y)\n",
    "\n",
    "# Prepare rendering\n",
    "file_name = \"camera_wellplate\"\n",
    "\n",
    "cam_config_path = os.path.join(get_root_dir(), \"science_jubilee\", \"labware\", \"labware_definition\", f\"{file_name}.json\")\n",
    "template_dir = os.path.abspath(\"C:/science-jubilee/src/science_jubilee/labware/labware_definition\")\n",
    "env = Environment(loader=FileSystemLoader(template_dir))\n",
    "template = env.get_template(\"camera_wellplate.json\")\n",
    "\n",
    "# Render the template\n",
    "rendered_json = template.render(\n",
    "    ordering=rows, locations=locations, location_x=location_x, location_y=location_y\n",
    ")\n",
    "\n",
    "# Write to a .json file\n",
    "os.makedirs(os.path.dirname(cam_config_path), exist_ok=True)\n",
    "with open(cam_config_path, \"w\") as file:\n",
    "    file.write(rendered_json)\n",
    "\n",
    "print(f\"Labware definition saved to {cam_config_path}\")\n",
    "# Print the results\n",
    "print(\"locations =\", locations)\n",
    "print(\"location_x =\", location_x)\n",
    "print(\"location_y =\", location_y)"
   ]
  },
  {
   "cell_type": "code",
   "execution_count": 15,
   "metadata": {},
   "outputs": [
    {
     "name": "stdout",
     "output_type": "stream",
     "text": [
      "Labware definition saved to C:\\science-jubilee\\src\\science_jubilee\\labware\\labware_definition\\cam_wellplate.json\n",
      "locations = ['A1', 'A2', 'A3', 'A4', 'A5', 'A6', 'A7', 'A8', 'A9', 'A10', 'A11', 'A12', 'B1', 'B2', 'B3', 'B4', 'B5', 'B6', 'B7', 'B8', 'B9', 'B10', 'B11', 'B12', 'C1', 'C2', 'C3', 'C4', 'C5', 'C6', 'C7', 'C8', 'C9', 'C10', 'C11', 'C12', 'D1', 'D2', 'D3', 'D4', 'D5', 'D6', 'D7', 'D8', 'D9', 'D10', 'D11', 'D12', 'E1', 'E2', 'E3', 'E4', 'E5', 'E6', 'E7', 'E8', 'E9', 'E10', 'E11', 'E12', 'F1', 'F2', 'F3', 'F4', 'F5', 'F6', 'F7', 'F8', 'F9', 'F10', 'F11', 'F12', 'G1', 'G2', 'G3', 'G4', 'G5', 'G6', 'G7', 'G8', 'G9', 'G10', 'G11', 'G12', 'H1', 'H2', 'H3', 'H4', 'H5', 'H6', 'H7', 'H8', 'H9', 'H10', 'H11', 'H12']\n",
      "location_x = {'A1': 131.5, 'A2': 122.5, 'A3': 113.4, 'A4': 104.4, 'A5': 95.3, 'A6': 86.3, 'A7': 77.2, 'A8': 68.2, 'A9': 59.1, 'A10': 50.1, 'A11': 41.0, 'A12': 32.0, 'B1': 131.5, 'B2': 122.5, 'B3': 113.4, 'B4': 104.4, 'B5': 95.3, 'B6': 86.3, 'B7': 77.2, 'B8': 68.2, 'B9': 59.1, 'B10': 50.1, 'B11': 41.0, 'B12': 32.0, 'C1': 131.5, 'C2': 122.5, 'C3': 113.4, 'C4': 104.4, 'C5': 95.3, 'C6': 86.3, 'C7': 77.2, 'C8': 68.2, 'C9': 59.1, 'C10': 50.1, 'C11': 41.0, 'C12': 32.0, 'D1': 131.5, 'D2': 122.5, 'D3': 113.4, 'D4': 104.4, 'D5': 95.3, 'D6': 86.3, 'D7': 77.2, 'D8': 68.2, 'D9': 59.1, 'D10': 50.1, 'D11': 41.0, 'D12': 32.0, 'E1': 131.5, 'E2': 122.5, 'E3': 113.4, 'E4': 104.4, 'E5': 95.3, 'E6': 86.3, 'E7': 77.2, 'E8': 68.2, 'E9': 59.1, 'E10': 50.1, 'E11': 41.0, 'E12': 32.0, 'F1': 131.5, 'F2': 122.5, 'F3': 113.4, 'F4': 104.4, 'F5': 95.3, 'F6': 86.3, 'F7': 77.2, 'F8': 68.2, 'F9': 59.1, 'F10': 50.1, 'F11': 41.0, 'F12': 32.0, 'G1': 131.5, 'G2': 122.5, 'G3': 113.4, 'G4': 104.4, 'G5': 95.3, 'G6': 86.3, 'G7': 77.2, 'G8': 68.2, 'G9': 59.1, 'G10': 50.1, 'G11': 41.0, 'G12': 32.0, 'H1': 131.5, 'H2': 122.5, 'H3': 113.4, 'H4': 104.4, 'H5': 95.3, 'H6': 86.3, 'H7': 77.2, 'H8': 68.2, 'H9': 59.1, 'H10': 50.1, 'H11': 41.0, 'H12': 32.0}\n",
      "location_y = {'A1': 70.6, 'A2': 70.6, 'A3': 70.6, 'A4': 70.6, 'A5': 70.6, 'A6': 70.6, 'A7': 70.6, 'A8': 70.6, 'A9': 70.6, 'A10': 70.6, 'A11': 70.6, 'A12': 70.6, 'B1': 79.6, 'B2': 79.6, 'B3': 79.6, 'B4': 79.6, 'B5': 79.6, 'B6': 79.6, 'B7': 79.6, 'B8': 79.6, 'B9': 79.6, 'B10': 79.6, 'B11': 79.6, 'B12': 79.6, 'C1': 88.5, 'C2': 88.5, 'C3': 88.5, 'C4': 88.5, 'C5': 88.5, 'C6': 88.5, 'C7': 88.5, 'C8': 88.5, 'C9': 88.5, 'C10': 88.5, 'C11': 88.5, 'C12': 88.5, 'D1': 97.5, 'D2': 97.5, 'D3': 97.5, 'D4': 97.5, 'D5': 97.5, 'D6': 97.5, 'D7': 97.5, 'D8': 97.5, 'D9': 97.5, 'D10': 97.5, 'D11': 97.5, 'D12': 97.5, 'E1': 106.5, 'E2': 106.5, 'E3': 106.5, 'E4': 106.5, 'E5': 106.5, 'E6': 106.5, 'E7': 106.5, 'E8': 106.5, 'E9': 106.5, 'E10': 106.5, 'E11': 106.5, 'E12': 106.5, 'F1': 115.5, 'F2': 115.5, 'F3': 115.5, 'F4': 115.5, 'F5': 115.5, 'F6': 115.5, 'F7': 115.5, 'F8': 115.5, 'F9': 115.5, 'F10': 115.5, 'F11': 115.5, 'F12': 115.5, 'G1': 124.4, 'G2': 124.4, 'G3': 124.4, 'G4': 124.4, 'G5': 124.4, 'G6': 124.4, 'G7': 124.4, 'G8': 124.4, 'G9': 124.4, 'G10': 124.4, 'G11': 124.4, 'G12': 124.4, 'H1': 133.4, 'H2': 133.4, 'H3': 133.4, 'H4': 133.4, 'H5': 133.4, 'H6': 133.4, 'H7': 133.4, 'H8': 133.4, 'H9': 133.4, 'H10': 133.4, 'H11': 133.4, 'H12': 133.4}\n"
     ]
    }
   ],
   "source": [
    "# Known coordinates\n",
    "A1_x, A1_y = 131.5, 70.6\n",
    "A12_x, A12_y = 32.0, 70.6\n",
    "H12_x, H12_y = 32.0, 133.4\n",
    "\n",
    "# Generate coordinates for all wells\n",
    "rows = [\"A\", \"B\", \"C\", \"D\", \"E\", \"F\", \"G\", \"H\"]\n",
    "columns = list(range(1, 13))  # Columns 1 through 12\n",
    "\n",
    "def camera_location(rows, columns, A1_x, A12_x, A12_y, H12_y):\n",
    "    locations = []\n",
    "    location_x = {}\n",
    "    location_y = {}\n",
    "\n",
    "    x_spacing = (A1_x - A12_x) / 11  # 11 intervals between 12 columns\n",
    "    y_spacing = (H12_y - A12_y) / 7   # 7 intervals between 8 rows\n",
    "\n",
    "    for row_index, row in enumerate(rows):\n",
    "        for col_index, col in enumerate(columns):\n",
    "            x = A1_x - (x_spacing * col_index)  # Subtract spacing for columns\n",
    "            y = A1_y + (y_spacing * row_index)  # Add spacing for rows\n",
    "            well_name = f\"{row}{col}\"\n",
    "\n",
    "            # Append to locations and dictionaries\n",
    "            locations.append(well_name)\n",
    "            location_x[well_name] = round(x, 1)\n",
    "            location_y[well_name] = round(y, 1)\n",
    "\n",
    "    return locations, location_x, location_y\n",
    "\n",
    "locations, location_x, location_y = camera_location(rows, columns, A1_x, A12_x, A12_y, H12_y)\n",
    "\n",
    "# Prepare rendering\n",
    "file_name = \"cam_wellplate\"\n",
    "\n",
    "cam_config_path = os.path.join(get_root_dir(), \"science_jubilee\", \"labware\", \"labware_definition\", f\"{file_name}.json\")\n",
    "template_dir = os.path.abspath(\"C:/science-jubilee/src/science_jubilee/labware/labware_definition\")\n",
    "env = Environment(loader=FileSystemLoader(template_dir))\n",
    "template = env.get_template(\"camera_wellplate_template.json\")\n",
    "\n",
    "# Render the template\n",
    "rendered_json = template.render(\n",
    "    ordering=rows, locations=locations, location_x=location_x, location_y=location_y\n",
    ")\n",
    "\n",
    "# Write to a .json file\n",
    "os.makedirs(os.path.dirname(cam_config_path), exist_ok=True)\n",
    "with open(cam_config_path, \"w\") as file:\n",
    "    file.write(rendered_json)\n",
    "\n",
    "print(f\"Labware definition saved to {cam_config_path}\")\n",
    "# Print the results\n",
    "print(\"locations =\", locations)\n",
    "print(\"location_x =\", location_x)\n",
    "print(\"location_y =\", location_y)"
   ]
  },
  {
   "cell_type": "markdown",
   "metadata": {},
   "source": [
    "## **Camera Testing from Jubilee Website** ##"
   ]
  },
  {
   "cell_type": "code",
   "execution_count": 2,
   "metadata": {},
   "outputs": [],
   "source": [
    "camera = Cam(1, \"Camera\", '192.168.1.2', 'Sun92023', 'axo', 'C:/science-jubilee/axo/data', 50)"
   ]
  },
  {
   "cell_type": "code",
   "execution_count": 6,
   "metadata": {},
   "outputs": [
    {
     "ename": "TypeError",
     "evalue": "listdir: path should be string, bytes, os.PathLike or None, not Cam",
     "output_type": "error",
     "traceback": [
      "\u001b[1;31m---------------------------------------------------------------------------\u001b[0m",
      "\u001b[1;31mTypeError\u001b[0m                                 Traceback (most recent call last)",
      "Cell \u001b[1;32mIn[6], line 1\u001b[0m\n\u001b[1;32m----> 1\u001b[0m \u001b[43mcamera\u001b[49m\u001b[38;5;241;43m.\u001b[39;49m\u001b[43mtake_picture\u001b[49m\u001b[43m(\u001b[49m\u001b[43msave_dir\u001b[49m\u001b[38;5;241;43m=\u001b[39;49m\u001b[38;5;124;43m'\u001b[39;49m\u001b[38;5;124;43mC:/science-jubilee/axo/data\u001b[39;49m\u001b[38;5;124;43m'\u001b[39;49m\u001b[43m)\u001b[49m\n",
      "File \u001b[1;32mC:\\science-jubilee\\src\\science_jubilee\\bo\\newcamera.py:163\u001b[0m, in \u001b[0;36mCam.take_picture\u001b[1;34m(self, save_dir)\u001b[0m\n\u001b[0;32m    160\u001b[0m \u001b[38;5;66;03m# Ensure the save directory exists\u001b[39;00m\n\u001b[0;32m    161\u001b[0m os\u001b[38;5;241m.\u001b[39mmakedirs(save_dir, exist_ok\u001b[38;5;241m=\u001b[39m\u001b[38;5;28;01mTrue\u001b[39;00m)\n\u001b[1;32m--> 163\u001b[0m save_path \u001b[38;5;241m=\u001b[39m \u001b[38;5;28;43mself\u001b[39;49m\u001b[38;5;241;43m.\u001b[39;49m\u001b[43mget_next_filename\u001b[49m\u001b[43m(\u001b[49m\u001b[43msave_dir\u001b[49m\u001b[43m)\u001b[49m\n\u001b[0;32m    165\u001b[0m \u001b[38;5;66;03m# Fetch the image file from Raspberry Pi to Windows\u001b[39;00m\n\u001b[0;32m    166\u001b[0m sftp \u001b[38;5;241m=\u001b[39m ssh\u001b[38;5;241m.\u001b[39mopen_sftp()\n",
      "File \u001b[1;32mC:\\science-jubilee\\src\\science_jubilee\\bo\\newcamera.py:69\u001b[0m, in \u001b[0;36mCam.get_next_filename\u001b[1;34m(save_dir, base_name)\u001b[0m\n\u001b[0;32m     67\u001b[0m \u001b[38;5;28;01mdef\u001b[39;00m \u001b[38;5;21mget_next_filename\u001b[39m(save_dir, base_name\u001b[38;5;241m=\u001b[39m\u001b[38;5;124m\"\u001b[39m\u001b[38;5;124mimage\u001b[39m\u001b[38;5;124m\"\u001b[39m):\n\u001b[0;32m     68\u001b[0m \u001b[38;5;250m    \u001b[39m\u001b[38;5;124;03m\"\"\"Generate the next integer-based filename.\"\"\"\u001b[39;00m\n\u001b[1;32m---> 69\u001b[0m     existing_files \u001b[38;5;241m=\u001b[39m \u001b[43mos\u001b[49m\u001b[38;5;241;43m.\u001b[39;49m\u001b[43mlistdir\u001b[49m\u001b[43m(\u001b[49m\u001b[43msave_dir\u001b[49m\u001b[43m)\u001b[49m\n\u001b[0;32m     70\u001b[0m     image_numbers \u001b[38;5;241m=\u001b[39m [\n\u001b[0;32m     71\u001b[0m     \u001b[38;5;28mint\u001b[39m(f\u001b[38;5;241m.\u001b[39msplit(\u001b[38;5;124m'\u001b[39m\u001b[38;5;124m.\u001b[39m\u001b[38;5;124m'\u001b[39m)[\u001b[38;5;241m0\u001b[39m]\u001b[38;5;241m.\u001b[39mreplace(base_name, \u001b[38;5;124m\"\u001b[39m\u001b[38;5;124m\"\u001b[39m))\n\u001b[0;32m     72\u001b[0m     \u001b[38;5;28;01mfor\u001b[39;00m f \u001b[38;5;129;01min\u001b[39;00m existing_files\n\u001b[0;32m     73\u001b[0m     \u001b[38;5;28;01mif\u001b[39;00m f\u001b[38;5;241m.\u001b[39mstartswith(base_name) \u001b[38;5;129;01mand\u001b[39;00m f\u001b[38;5;241m.\u001b[39mendswith(\u001b[38;5;124m\"\u001b[39m\u001b[38;5;124m.jpg\u001b[39m\u001b[38;5;124m\"\u001b[39m) \u001b[38;5;129;01mand\u001b[39;00m f[\u001b[38;5;28mlen\u001b[39m(base_name):]\u001b[38;5;241m.\u001b[39misdigit()\n\u001b[0;32m     74\u001b[0m ]\n\u001b[0;32m     75\u001b[0m     next_number \u001b[38;5;241m=\u001b[39m \u001b[38;5;28mmax\u001b[39m(image_numbers, default\u001b[38;5;241m=\u001b[39m\u001b[38;5;241m0\u001b[39m) \u001b[38;5;241m+\u001b[39m \u001b[38;5;241m1\u001b[39m\n",
      "\u001b[1;31mTypeError\u001b[0m: listdir: path should be string, bytes, os.PathLike or None, not Cam"
     ]
    }
   ],
   "source": [
    "camera.take_picture(save_dir='C:/science-jubilee/axo/data')"
   ]
  }
 ],
 "metadata": {
  "kernelspec": {
   "display_name": "axo",
   "language": "python",
   "name": "python3"
  },
  "language_info": {
   "codemirror_mode": {
    "name": "ipython",
    "version": 3
   },
   "file_extension": ".py",
   "mimetype": "text/x-python",
   "name": "python",
   "nbconvert_exporter": "python",
   "pygments_lexer": "ipython3",
   "version": "3.13.1"
  }
 },
 "nbformat": 4,
 "nbformat_minor": 2
}
