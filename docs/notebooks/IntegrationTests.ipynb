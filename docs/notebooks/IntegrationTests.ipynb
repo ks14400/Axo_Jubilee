{
 "cells": [
  {
   "cell_type": "code",
   "execution_count": 3,
   "id": "81e3f644-d121-43c4-9771-7279112614f4",
   "metadata": {},
   "outputs": [],
   "source": [
    "import sys\n",
    "sys.path.append('C:\\science-jubilee\\src')"
   ]
  },
  {
   "cell_type": "code",
   "execution_count": 5,
   "id": "c0fb2556-e63b-4c2e-8ce4-6c6a33f84da8",
   "metadata": {},
   "outputs": [],
   "source": [
    "from science_jubilee.Machine import Machine\n",
    "from science_jubilee.decks.Deck import Deck\n",
    "from science_jubilee.tools.Syringe import Syringe\n",
    "from science_jubilee.tools.Loop import Loop\n",
    "from science_jubilee.tools.Camera import Camera"
   ]
  },
  {
   "cell_type": "code",
   "execution_count": null,
   "id": "20937719-861b-44ee-9123-1436b7872f6d",
   "metadata": {},
   "outputs": [],
   "source": []
  }
 ],
 "metadata": {
  "kernelspec": {
   "display_name": "base",
   "language": "python",
   "name": "python3"
  },
  "language_info": {
   "codemirror_mode": {
    "name": "ipython",
    "version": 3
   },
   "file_extension": ".py",
   "mimetype": "text/x-python",
   "name": "python",
   "nbconvert_exporter": "python",
   "pygments_lexer": "ipython3",
   "version": "3.11.5"
  }
 },
 "nbformat": 4,
 "nbformat_minor": 5
}
