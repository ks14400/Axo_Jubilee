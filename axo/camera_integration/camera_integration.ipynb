{
 "cells": [
  {
   "cell_type": "markdown",
   "metadata": {},
   "source": [
    "## **Camera to Machine Calibration** ##"
   ]
  },
  {
   "cell_type": "code",
   "execution_count": 1,
   "metadata": {},
   "outputs": [],
   "source": [
    "import sys\n",
    "import numpy as np\n",
    "import time\n",
    "import math\n",
    "import json\n",
    "import ipywidgets as widgets\n",
    "import cv2\n",
    "import os"
   ]
  },
  {
   "cell_type": "code",
   "execution_count": 2,
   "metadata": {},
   "outputs": [
    {
     "name": "stdout",
     "output_type": "stream",
     "text": [
      "['c:\\\\Users\\\\titan\\\\anaconda3\\\\envs\\\\axo\\\\python313.zip', 'c:\\\\Users\\\\titan\\\\anaconda3\\\\envs\\\\axo\\\\DLLs', 'c:\\\\Users\\\\titan\\\\anaconda3\\\\envs\\\\axo\\\\Lib', 'c:\\\\Users\\\\titan\\\\anaconda3\\\\envs\\\\axo', '', 'c:\\\\Users\\\\titan\\\\anaconda3\\\\envs\\\\axo\\\\Lib\\\\site-packages', 'C:\\\\science-jubilee\\\\src', 'c:\\\\Users\\\\titan\\\\anaconda3\\\\envs\\\\axo\\\\Lib\\\\site-packages\\\\win32', 'c:\\\\Users\\\\titan\\\\anaconda3\\\\envs\\\\axo\\\\Lib\\\\site-packages\\\\win32\\\\lib', 'c:\\\\Users\\\\titan\\\\anaconda3\\\\envs\\\\axo\\\\Lib\\\\site-packages\\\\Pythonwin']\n"
     ]
    }
   ],
   "source": [
    "#print(os.getcwd()) \n",
    "print(sys.path)\n",
    "#sys.path.append('path_to_your_science_jubilee_directory')"
   ]
  },
  {
   "cell_type": "code",
   "execution_count": 131,
   "metadata": {},
   "outputs": [],
   "source": []
  },
  {
   "cell_type": "code",
   "execution_count": 1,
   "metadata": {},
   "outputs": [],
   "source": [
    "#from science_jubilee.tools.Camera import Camera\n",
    "from science_jubilee.Machine import Machine\n",
    "from science_jubilee.tools.Tool import Tool\n",
    "from science_jubilee.decks.Deck import Deck\n",
    "from science_jubilee.labware.Labware import Labware, Location\n",
    "from science_jubilee.tools.Pipette import Pipette\n",
    "from science_jubilee.bo.newcamera import Cam"
   ]
  },
  {
   "cell_type": "code",
   "execution_count": 4,
   "metadata": {},
   "outputs": [
    {
     "name": "stdout",
     "output_type": "stream",
     "text": [
      "New manual offset applied to opentrons_96_tiprack_20ul\n",
      "Manual offset applied, but not saved\n",
      "New manual offset applied to nest_96_wellplate_200ul_flat\n",
      "Manual offset applied, but not saved\n",
      "New manual offset applied to corning_6_wellplate_16.8ml_flat\n",
      "Manual offset applied, but not saved\n"
     ]
    }
   ],
   "source": [
    "deck = Deck(\"lab_automation_deck\") # We are not using the deck, so operate any deck.json \n",
    "tiprack = deck.load_labware(labware_filename = 'opentrons_96_tiprack_20ul.json', slot = 1)   # Load an opentrons 20uL\n",
    "tiprack.manual_offset([[269, 221.6],[170, 221.6],[170, 284.6]], save = True)   # Save through list of list. List of coordinates should be A1 A12 H12 subsequently. \n",
    "trash = deck.load_labware('agilent_1_reservoir_290ml.json', 0)\n",
    "samples = deck.load_labware('nest_96_wellplate_200ul_flat.json', slot = 2)\n",
    "samples.manual_offset([[127.4, 115.4],[27.4, 115.4], [27.4, 178.4]], save = True)\n",
    "stocks = deck.load_labware('corning_6_wellplate_16.8ml.json', slot = 3)\n",
    "stocks.manual_offset([[256.8, 127.4], [178.8, 127.4], [178.8, 165.4]], save = True)"
   ]
  },
  {
   "cell_type": "code",
   "execution_count": 48,
   "metadata": {},
   "outputs": [
    {
     "name": "stdout",
     "output_type": "stream",
     "text": [
      "<class 'science_jubilee.labware.Labware.Labware'>\n"
     ]
    }
   ],
   "source": [
    "print(type(samples))"
   ]
  },
  {
   "cell_type": "code",
   "execution_count": 4,
   "metadata": {},
   "outputs": [
    {
     "data": {
      "text/plain": [
       "64.69"
      ]
     },
     "execution_count": 4,
     "metadata": {},
     "output_type": "execute_result"
    }
   ],
   "source": [
    "deck.safe_z"
   ]
  },
  {
   "cell_type": "code",
   "execution_count": 2,
   "metadata": {},
   "outputs": [
    {
     "name": "stdout",
     "output_type": "stream",
     "text": [
      "Warning: disconnecting this application from the network will halt connection to Jubilee.\n"
     ]
    }
   ],
   "source": [
    "axo = Machine(address = \"192.168.1.4\")"
   ]
  },
  {
   "cell_type": "code",
   "execution_count": 5,
   "metadata": {},
   "outputs": [
    {
     "name": "stdout",
     "output_type": "stream",
     "text": [
      "New manual offset applied to opentrons_96_tiprack_20ul\n",
      "New manual offset applied to nest_96_wellplate_200ul_flat\n",
      "New manual offset applied to corning_6_wellplate_16.8ml_flat\n"
     ]
    }
   ],
   "source": [
    "deck = axo.load_deck(\"lab_automation_deck\")\n",
    "tip_rack = axo.load_labware(\"opentrons_96_tiprack_20ul\", 1)\n",
    "tiprack.load_manualOffset()\n",
    "P20 = Pipette.from_config(0, 'Pipette', 'P300_config.json')\n",
    "trash = axo.load_labware('agilent_1_reservoir_290ml.json', 0)\n",
    "#pipette = Pipette(0, \"Pipette\", brand = \"opentron\", model = \"config\", max_volume= 20, min_volume= 0, zero_position = (0,0,0),\\\n",
    "#    blowout_position=None, drop_tip_position = None, mm_to_ul = None)# model = \"config\")\n",
    "samples = axo.load_labware('nest_96_wellplate_200ul_flat.json', 2)\n",
    "samples.load_manualOffset()\n",
    "stocks = axo.load_labware('corning_6_wellplate_16.8ml.json', 3)\n",
    "stocks.load_manualOffset()\n",
    "camera_well = axo.load_labware(\"cam_wellplate.json\", slot = 2)\n",
    "# m.load_tool(pipette) # configure the pipette for use on the m"
   ]
  },
  {
   "cell_type": "code",
   "execution_count": 74,
   "metadata": {},
   "outputs": [
    {
     "data": {
      "text/plain": [
       "science_jubilee.labware.Labware.Well"
      ]
     },
     "execution_count": 74,
     "metadata": {},
     "output_type": "execute_result"
    }
   ],
   "source": [
    "type(stocks['B1'])"
   ]
  },
  {
   "cell_type": "code",
   "execution_count": 35,
   "metadata": {},
   "outputs": [
    {
     "data": {
      "text/plain": [
       "{0: 'Pipette', 1: 'Camera'}"
      ]
     },
     "execution_count": 35,
     "metadata": {},
     "output_type": "execute_result"
    }
   ],
   "source": [
    "axo.configured_tools"
   ]
  },
  {
   "cell_type": "code",
   "execution_count": 6,
   "metadata": {},
   "outputs": [],
   "source": [
    "axo.home_all()"
   ]
  },
  {
   "cell_type": "code",
   "execution_count": 8,
   "metadata": {},
   "outputs": [],
   "source": [
    "# Load the camera tool\n",
    "camera = Cam(1, \"Camera\", '192.168.1.2', 'Sun92023', 'axo', 'C:/science-jubilee/axo/data', 50)\n",
    "\n",
    "axo.load_tool(camera)\n",
    "axo.load_tool(P20)"
   ]
  },
  {
   "cell_type": "code",
   "execution_count": 9,
   "metadata": {},
   "outputs": [],
   "source": [
    "axo.move_to(z=180)"
   ]
  },
  {
   "cell_type": "code",
   "execution_count": 15,
   "metadata": {},
   "outputs": [
    {
     "data": {
      "text/plain": [
       "{'0': Slot(slot_index='0', offset=[14.9, 4.4], has_labware=False, labware=None),\n",
       " '1': Slot(slot_index='1', offset=[157.0, 5.8], has_labware=False, labware=None),\n",
       " '2': Slot(slot_index='2', offset=[14.3, 100.8], has_labware=False, labware=None),\n",
       " '3': Slot(slot_index='3', offset=[154.6, 100.1], has_labware=False, labware=None),\n",
       " '4': Slot(slot_index='4', offset=[17.1, 201.1], has_labware=False, labware=None),\n",
       " '5': Slot(slot_index='5', offset=[157.0, 201.9], has_labware=False, labware=None)}"
      ]
     },
     "execution_count": 15,
     "metadata": {},
     "output_type": "execute_result"
    }
   ],
   "source": [
    "deck._get_slots()"
   ]
  },
  {
   "cell_type": "code",
   "execution_count": 18,
   "metadata": {},
   "outputs": [],
   "source": [
    "axo.move_to(x=154.6, y =100.1)"
   ]
  },
  {
   "cell_type": "code",
   "execution_count": 10,
   "metadata": {},
   "outputs": [],
   "source": [
    "axo.pickup_tool(camera)"
   ]
  },
  {
   "cell_type": "code",
   "execution_count": 10,
   "metadata": {},
   "outputs": [
    {
     "data": {
      "text/plain": [
       "[14.3, 100.8]"
      ]
     },
     "execution_count": 10,
     "metadata": {},
     "output_type": "execute_result"
    }
   ],
   "source": [
    "camera_A1 = camera_well['A1']\n",
    "#new_offset =  (0.0, 0.0, 0.0)\n",
    "camera_well.offset\n",
    "#Labware._getxyz(camera_A1)"
   ]
  },
  {
   "cell_type": "code",
   "execution_count": 26,
   "metadata": {},
   "outputs": [],
   "source": [
    "axo.move_to(x=150, y=150)"
   ]
  },
  {
   "cell_type": "code",
   "execution_count": 12,
   "metadata": {},
   "outputs": [],
   "source": [
    "camera.capture_image(camera_well['A1'], save_dir='C:/science-jubilee/axo/data')"
   ]
  },
  {
   "cell_type": "code",
   "execution_count": 15,
   "metadata": {},
   "outputs": [],
   "source": [
    "camera.capture_image(camera_well['H12'], save_dir='C:/science-jubilee/axo/data')"
   ]
  },
  {
   "cell_type": "code",
   "execution_count": null,
   "metadata": {},
   "outputs": [],
   "source": []
  },
  {
   "cell_type": "code",
   "execution_count": 111,
   "metadata": {},
   "outputs": [
    {
     "name": "stdout",
     "output_type": "stream",
     "text": [
      "145.8 171.39999999999998\n"
     ]
    }
   ],
   "source": [
    "x_test, y_test, z_test = Labware._getxyz(camera_well['A1'])\n",
    "print(x_test, y_test)\n",
    "axo.move_to(x = x_test, y = y_test)"
   ]
  },
  {
   "cell_type": "code",
   "execution_count": 104,
   "metadata": {},
   "outputs": [],
   "source": [
    "axo.move_to(x=14.3, y=108)"
   ]
  },
  {
   "cell_type": "code",
   "execution_count": 13,
   "metadata": {},
   "outputs": [
    {
     "name": "stdout",
     "output_type": "stream",
     "text": [
      "Error: [Errno 2] No such file\n"
     ]
    }
   ],
   "source": [
    "camera.take_picture()"
   ]
  },
  {
   "cell_type": "code",
   "execution_count": 16,
   "metadata": {},
   "outputs": [],
   "source": [
    "axo.park_tool()"
   ]
  }
 ],
 "metadata": {
  "kernelspec": {
   "display_name": "axo",
   "language": "python",
   "name": "python3"
  },
  "language_info": {
   "codemirror_mode": {
    "name": "ipython",
    "version": 3
   },
   "file_extension": ".py",
   "mimetype": "text/x-python",
   "name": "python",
   "nbconvert_exporter": "python",
   "pygments_lexer": "ipython3",
   "version": "3.13.1"
  }
 },
 "nbformat": 4,
 "nbformat_minor": 2
}
